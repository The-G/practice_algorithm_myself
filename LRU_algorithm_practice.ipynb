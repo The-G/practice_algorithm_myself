{
 "cells": [
  {
   "cell_type": "markdown",
   "metadata": {},
   "source": [
    "# LRU\n",
    "\n",
    "reference : http://faithpac27.tistory.com/entry/%ED%8E%98%EC%9D%B4%EC%A7%80-%EA%B5%90%EC%B2%B4-%EC%95%8C%EA%B3%A0%EB%A6%AC%EC%A6%98-PageReplacement-Algorithm\n",
    "\n",
    "code-reference : https://gist.github.com/reterVision/5018901"
   ]
  },
  {
   "cell_type": "markdown",
   "metadata": {},
   "source": [
    "- 일단 기본 내 생각으로 짜봄!!, 우선순위 큐로 짜면 된다!! "
   ]
  },
  {
   "cell_type": "markdown",
   "metadata": {},
   "source": [
    "Q5. 3개의 페이지 프레임을 가진 기억장치에 페이지 요청을 다음과 같이 하였을 때 교체 알고리즘으로 LRU 방법을 사용한다면 몇 번의 page fault가 발생하는가? (단, 현재 기억장치는 모두 비어있는 초기상태라고 가정한다.)\n",
    "\n",
    "[3,6,3,7,8,6,3,7,6,8,9]"
   ]
  },
  {
   "cell_type": "code",
   "execution_count": 1,
   "metadata": {
    "collapsed": false
   },
   "outputs": [
    {
     "name": "stdout",
     "output_type": "stream",
     "text": [
      "[-1, -1, 3]\n",
      "[-1, 3, 6]\n",
      "[3, 6, 3]\n",
      "[6, 3, 7]\n",
      "[3, 7, 8]\n",
      "[7, 8, 6]\n",
      "[8, 6, 3]\n",
      "[6, 3, 7]\n",
      "[3, 7, 6]\n",
      "[7, 6, 8]\n",
      "[6, 8, 9]\n"
     ]
    },
    {
     "data": {
      "text/plain": [
       "9"
      ]
     },
     "execution_count": 1,
     "metadata": {},
     "output_type": "execute_result"
    }
   ],
   "source": [
    "q = [-1,-1,-1]\n",
    "\n",
    "test_arr = [3,6,3,7,8,6,3,7,6,8,9]\n",
    "\n",
    "def push(arr):\n",
    "    page_fault = 0\n",
    "    for v in arr:\n",
    "        if v in q:\n",
    "            q.pop(0)\n",
    "            q.append(v)\n",
    "            print(q)\n",
    "        else:\n",
    "            q.pop(0)\n",
    "            q.append(v)\n",
    "            page_fault += 1\n",
    "            print(q)\n",
    "    \n",
    "    return page_fault\n",
    "\n",
    "push(test_arr)"
   ]
  },
  {
   "cell_type": "markdown",
   "metadata": {},
   "source": [
    "- 답이 맞기는 하지만,, 초반 채우는게 정확하지는 않음.. 뭐 상관은 없지..\n",
    "- 아래, priority queue 사용해봐야함!! "
   ]
  },
  {
   "cell_type": "code",
   "execution_count": 5,
   "metadata": {
    "collapsed": false
   },
   "outputs": [
    {
     "ename": "TypeError",
     "evalue": "argument of type 'PriorityQueue' is not iterable",
     "output_type": "error",
     "traceback": [
      "\u001b[0;31m---------------------------------------------------------------------------\u001b[0m",
      "\u001b[0;31mTypeError\u001b[0m                                 Traceback (most recent call last)",
      "\u001b[0;32m<ipython-input-5-1eb2207237e1>\u001b[0m in \u001b[0;36m<module>\u001b[0;34m()\u001b[0m\n\u001b[1;32m      6\u001b[0m \u001b[1;33m\u001b[0m\u001b[0m\n\u001b[1;32m      7\u001b[0m \u001b[1;32mfor\u001b[0m \u001b[0mt\u001b[0m \u001b[1;32min\u001b[0m \u001b[0mtest_arr\u001b[0m\u001b[1;33m:\u001b[0m\u001b[1;33m\u001b[0m\u001b[0m\n\u001b[0;32m----> 8\u001b[0;31m     \u001b[1;32mif\u001b[0m \u001b[0mt\u001b[0m \u001b[1;32min\u001b[0m \u001b[0mq\u001b[0m\u001b[1;33m:\u001b[0m\u001b[1;33m\u001b[0m\u001b[0m\n\u001b[0m\u001b[1;32m      9\u001b[0m         \u001b[0mq\u001b[0m\u001b[1;33m.\u001b[0m\u001b[0mpop\u001b[0m\u001b[1;33m(\u001b[0m\u001b[1;36m0\u001b[0m\u001b[1;33m)\u001b[0m\u001b[1;33m\u001b[0m\u001b[0m\n\u001b[1;32m     10\u001b[0m         \u001b[0mq\u001b[0m\u001b[1;33m.\u001b[0m\u001b[0mappend\u001b[0m\u001b[1;33m(\u001b[0m\u001b[0mv\u001b[0m\u001b[1;33m)\u001b[0m\u001b[1;33m\u001b[0m\u001b[0m\n",
      "\u001b[0;31mTypeError\u001b[0m: argument of type 'PriorityQueue' is not iterable"
     ]
    }
   ],
   "source": [
    "import queue as Q\n",
    "\n",
    "q = Q.PriorityQueue()\n",
    "order_q = [1,2,3]\n",
    "test_arr = [3,6,3,7,8,6,3,7,6,8,9]\n",
    "\n",
    "for t in test_arr:\n",
    "    if t in q:\n",
    "        q.pop(0)\n",
    "        q.append(v)\n",
    "        print(q)\n",
    "    else:\n",
    "        q.pop(0)\n",
    "        q.append(v)\n",
    "        page_fault += 1\n",
    "        print(q)"
   ]
  },
  {
   "cell_type": "code",
   "execution_count": 3,
   "metadata": {
    "collapsed": true
   },
   "outputs": [],
   "source": [
    "q.put(1)\n",
    "q.put(2)\n",
    "q.put(3)\n",
    "q.put(4)"
   ]
  },
  {
   "cell_type": "code",
   "execution_count": 4,
   "metadata": {
    "collapsed": false
   },
   "outputs": [
    {
     "data": {
      "text/plain": [
       "<queue.PriorityQueue at 0x18b31fea160>"
      ]
     },
     "execution_count": 4,
     "metadata": {},
     "output_type": "execute_result"
    }
   ],
   "source": [
    "q"
   ]
  },
  {
   "cell_type": "code",
   "execution_count": 2,
   "metadata": {
    "collapsed": false
   },
   "outputs": [
    {
     "name": "stdout",
     "output_type": "stream",
     "text": [
      "1 2 3 4 "
     ]
    }
   ],
   "source": [
    "while not q.empty():\n",
    "    print(q.get(), end = \" \")"
   ]
  },
  {
   "cell_type": "code",
   "execution_count": null,
   "metadata": {
    "collapsed": true
   },
   "outputs": [],
   "source": []
  }
 ],
 "metadata": {
  "kernelspec": {
   "display_name": "Python 3",
   "language": "python",
   "name": "python3"
  },
  "language_info": {
   "codemirror_mode": {
    "name": "ipython",
    "version": 3
   },
   "file_extension": ".py",
   "mimetype": "text/x-python",
   "name": "python",
   "nbconvert_exporter": "python",
   "pygments_lexer": "ipython3",
   "version": "3.6.0"
  }
 },
 "nbformat": 4,
 "nbformat_minor": 2
}
