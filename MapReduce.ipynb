{
 "cells": [
  {
   "cell_type": "markdown",
   "metadata": {},
   "source": [
    "# Python MapReduce1\n",
    "- referencce : https://www.slideshare.net/TaeYoungLee1/20141111-mr-hadoopstreaming"
   ]
  },
  {
   "cell_type": "markdown",
   "metadata": {},
   "source": [
    "## Python MAP"
   ]
  },
  {
   "cell_type": "code",
   "execution_count": 1,
   "metadata": {
    "collapsed": true
   },
   "outputs": [],
   "source": [
    "\"\"\"\n",
    "mapper.py\n",
    "\"\"\"\n",
    "import sys\n",
    "for line in sys.stdin:\n",
    "    line = line.strip()\n",
    "    words = line.split()\n",
    "    for word in words:\n",
    "        print('{0}\\t{1}'.format(word,1))"
   ]
  },
  {
   "cell_type": "code",
   "execution_count": null,
   "metadata": {
    "collapsed": false
   },
   "outputs": [],
   "source": [
    "echo \"bc bc bc card bc card\" | mapper.py | sort -k 1"
   ]
  },
  {
   "cell_type": "code",
   "execution_count": 26,
   "metadata": {
    "collapsed": false
   },
   "outputs": [
    {
     "name": "stdout",
     "output_type": "stream",
     "text": [
      "['bc', 'bc', 'bc', 'bc', 'card', 'card']\n",
      "bc\t1\n",
      "bc\t1\n",
      "bc\t1\n",
      "bc\t1\n",
      "card\t1\n",
      "card\t1\n"
     ]
    }
   ],
   "source": [
    "lines = \"bc bc bc card bc card\"\n",
    "words = sorted(lines.split())\n",
    "print(words)\n",
    "after_map = []\n",
    "after_map_text = ''\n",
    "for word in words:\n",
    "    print('{0}\\t{1}'.format(word,1))\n",
    "    after_map.append('{0}\\t{1}'.format(word,1))\n",
    "    after_map_text += '{0}\\t{1}'.format(word,1)\n",
    "    after_map_text += '\\n'\n",
    "    "
   ]
  },
  {
   "cell_type": "code",
   "execution_count": 27,
   "metadata": {
    "collapsed": false
   },
   "outputs": [
    {
     "data": {
      "text/plain": [
       "['bc\\t1', 'bc\\t1', 'bc\\t1', 'bc\\t1', 'card\\t1', 'card\\t1']"
      ]
     },
     "execution_count": 27,
     "metadata": {},
     "output_type": "execute_result"
    }
   ],
   "source": [
    "after_map"
   ]
  },
  {
   "cell_type": "code",
   "execution_count": 28,
   "metadata": {
    "collapsed": false
   },
   "outputs": [
    {
     "data": {
      "text/plain": [
       "'bc\\t1\\nbc\\t1\\nbc\\t1\\nbc\\t1\\ncard\\t1\\ncard\\t1\\n'"
      ]
     },
     "execution_count": 28,
     "metadata": {},
     "output_type": "execute_result"
    }
   ],
   "source": [
    "after_map_text"
   ]
  },
  {
   "cell_type": "markdown",
   "metadata": {},
   "source": [
    "## Python REDUCE"
   ]
  },
  {
   "cell_type": "code",
   "execution_count": null,
   "metadata": {
    "collapsed": true
   },
   "outputs": [],
   "source": [
    "\"\"\"\n",
    "reducer.py\n",
    "\"\"\"\n",
    "import sys\n",
    "\n",
    "current_word = None\n",
    "current_count = 0\n",
    "word = None\n",
    "\n",
    "for line in sys.stdin:\n",
    "    line = line.strip()\n",
    "    word, count = line.split('\\t', 1)\n",
    "    count = int(count)\n",
    "    \n",
    "    if current_word == word:\n",
    "        current_count += count\n",
    "    else:\n",
    "        if current_word:\n",
    "            print('{0}\\t{1}'.format(current_word, current_count))\n",
    "        current_count = count\n",
    "        current_word = word\n",
    "\n",
    "if current_word == word:\n",
    "    print('{0}\\t{1}'.format(current_word,current_count))"
   ]
  },
  {
   "cell_type": "code",
   "execution_count": null,
   "metadata": {
    "collapsed": true
   },
   "outputs": [],
   "source": [
    "echo \"bc bc bc card bc card it\" | ./mapper.py | sort -k 1 | ./reducer.py"
   ]
  },
  {
   "cell_type": "code",
   "execution_count": 30,
   "metadata": {
    "collapsed": false
   },
   "outputs": [
    {
     "name": "stdout",
     "output_type": "stream",
     "text": [
      "bc\t4\n",
      "card\t2\n",
      "it\t1\n"
     ]
    }
   ],
   "source": [
    "current_word = None\n",
    "current_count = 0\n",
    "word = None\n",
    "after_map = ['bc\\t1', 'bc\\t1', 'bc\\t1', 'bc\\t1', 'card\\t1', 'card\\t1', 'it\\t1']\n",
    "\n",
    "for line in after_map:\n",
    "    line = line.strip()\n",
    "    word, count = line.split('\\t', 1)\n",
    "    count = int(count)\n",
    "\n",
    "    if current_word == word:\n",
    "        current_count += count\n",
    "    else:\n",
    "        if current_word:\n",
    "            print('{0}\\t{1}'.format(current_word, current_count))\n",
    "        current_count = count\n",
    "        current_word = word\n",
    "\n",
    "if current_word == word:\n",
    "    print('{0}\\t{1}'.format(current_word,current_count))"
   ]
  },
  {
   "cell_type": "markdown",
   "metadata": {},
   "source": [
    "## mapper.py 수정 (정규표현식, 특수문자 제거)"
   ]
  },
  {
   "cell_type": "code",
   "execution_count": null,
   "metadata": {
    "collapsed": true
   },
   "outputs": [],
   "source": [
    "import sys\n",
    "import re\n",
    "\n",
    "for line in sys.stdin:\n",
    "    line = line.strip()\n",
    "    line = re.sub('[=.#/?:$\\'!,\"}]','',line)\n",
    "    word = line.split()\n",
    "    for word in words:\n",
    "        print('{0}\\t{1}'.format(word, 1))"
   ]
  },
  {
   "cell_type": "markdown",
   "metadata": {},
   "source": [
    "# Python MapReduce / 공기\n",
    "- reference : http://sragent.tistory.com/entry/%EB%A7%B5%EB%A6%AC%EB%93%80%EC%8A%A4MapReduce-%ED%94%84%EB%A1%9C%EA%B7%B8%EB%9E%98%EB%B0%8D-%EA%B3%B5%EA%B8%B0%EC%A0%95%EB%B3%B4Cooccurrence-%EA%B5%AC%ED%95%98%EA%B8%B0\n",
    "\n",
    "- 참고!!, 아직 덜함!! "
   ]
  },
  {
   "cell_type": "markdown",
   "metadata": {},
   "source": [
    "맵 리듀스 프로그래맹 세계의 Hello World! 라고 할 수 있는 wordcount 예제는 맵리듀스 프로그래밍의 원리와 구성요소를 이해하기 위해서는 딱이라고 할 수 있지만, 맵리듀스 프로그래밍의 필요성, 유용함을 느끼기에는 조금 부족하다.\n",
    "\n",
    "그래서, 이 포스팅에서는 wordcount 예제를 마스터 한 사람이 읽을 수 있는, 한걸음 진보된, 실전에 가까운, 공기정보(co-occurrence) 구하기를 소개하기로 한다. \n",
    "\n",
    "여기 소개되는 프로그램은 java가 아닌, 하둡 스트리밍 용 파이썬 스크립트이다.\n",
    "실제 쓸 수 있게 끔 스크립트를 작성하려고 신경을 썼고, 필자의 경우는 AWS EMR(Elastic Map Reduce)을 이용하여 실행 테스트를 하였다.\n",
    "\n",
    "1. 문제 소개 - 공기(co-occurrence) 정보\n",
    "\n",
    "공기(共起, air가 아님!)란 단어와 단어가 하나의 문서나 문장에서 함께 쓰이는 현상을 얘기한다. 야구와 박찬호는 공기할 확률이 높다. 세탁기와 짜장명은 공기할 확률이 작다.\n",
    "\n",
    "굳이 자세히 설명하지 않아도, 말뭉치에서 단어들 간의 공기 횟수를 뽑아 놓으면 두루 두루 쓰이는 곳이 많다. \n",
    "\n",
    "파이썬 스크립트 co_occur_local.py는 분산이 아닌 단일 머신 환경에서 한개의 파일로 부터 단어쌍의 공기 횟수를 수집하는 프로그램이다.\n"
   ]
  },
  {
   "cell_type": "code",
   "execution_count": null,
   "metadata": {
    "collapsed": false
   },
   "outputs": [],
   "source": [
    "#!/usr/bin/python\n",
    "#!-*- coding: utf-8 -*-\n",
    "\n",
    "\"\"\"\n",
    "co_occur_count_local.py\n",
    "\"\"\"\n",
    "import sys\n",
    "import re\n",
    "\n",
    "# 유효 단어 검사 패턴 - 숫자, 알파벳, 한글 자모\n",
    "pattern = re.compile(ur\"^[0-9a-zA-Z\\uac00-\\ud7a3]+$\", re.UNICODE)\n",
    "\n",
    "# 유효 단어 인지 검사\n",
    "def is_valid_word(word):\n",
    "    if pattern.match(unicode(word, \"utf-8\"))L\n",
    "        return True\n",
    "    else:\n",
    "        return False\n",
    "    \n",
    "if __name__ == \"__main__\":,.()\n",
    "    # 토큰 구분 delimeter\n",
    "    delimeter = re.compile(r\"[\\t,.()'\\\"-]*\")\n",
    "    \n",
    "    co_occur_count = {}\n",
    "    for line in sys.stdin:\n",
    "        words = []\n",
    "        for word in delimeter.split(line.strip()):\n",
    "            if is_valid_word(word):\n",
    "                words.append(word)\n",
    "                \n",
    "            for i in range(len(words)):\n",
    "                # 10단어 윈도우 안에서 공기횟수를 카운트\n",
    "                for i + j >= len(words):\n",
    "                    if i + j >= len(words):\n",
    "                        break\n",
    "                    if words[i] == words[i+j]:\n",
    "                        continue\n",
    "                    co_occur = \"%s-%s\" (words[i], words[i+j])\n",
    "                    co_occur_count[co_occur] = co_occur_count.setdefault(co_occur,0)+1\n",
    "    \n",
    "    for co_occur in co_occur_count:\n",
    "        print(\"%s\\t%d\" % (co_occur, co_occur_count[co_occur]))"
   ]
  },
  {
   "cell_type": "markdown",
   "metadata": {},
   "source": [
    "탭, 공백, 마침표, 쉼표, 따옴표 등등 (\\t,.()'\\\"-)을 기준으로 어절을 분리하고, 알파벳, 한글 음절, 숫자 이외의 특수 문자가 들어간 음절은 그냥 버린다. 하나의 문서가 아니라 10단어 윈도우 안에 함께 들어 오는 것을 공기 기준으로 삼았다."
   ]
  },
  {
   "cell_type": "markdown",
   "metadata": {},
   "source": [
    "- 위 코드 테스트 하기 위해서 다시 짜보면!!"
   ]
  }
 ],
 "metadata": {
  "kernelspec": {
   "display_name": "Python 3",
   "language": "python",
   "name": "python3"
  },
  "language_info": {
   "codemirror_mode": {
    "name": "ipython",
    "version": 3
   },
   "file_extension": ".py",
   "mimetype": "text/x-python",
   "name": "python",
   "nbconvert_exporter": "python",
   "pygments_lexer": "ipython3",
   "version": "3.6.0"
  }
 },
 "nbformat": 4,
 "nbformat_minor": 2
}
