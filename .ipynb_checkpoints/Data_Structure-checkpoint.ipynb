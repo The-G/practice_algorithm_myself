{
 "cells": [
  {
   "cell_type": "markdown",
   "metadata": {},
   "source": [
    "# 자료구조 공부\n",
    "## Array - DS"
   ]
  },
  {
   "cell_type": "code",
   "execution_count": 3,
   "metadata": {
    "collapsed": false
   },
   "outputs": [
    {
     "name": "stdout",
     "output_type": "stream",
     "text": [
      "5\n",
      "1 2 3 4 5\n",
      "5 4 3 2 1 "
     ]
    }
   ],
   "source": [
    "import sys\n",
    "\n",
    "n = int(input().strip())\n",
    "arr = [int(arr_temp) for arr_temp in input().strip().split(' ')]\n",
    "# for i in arr[::-1]:\n",
    "#     print(i, end=\" \")\n",
    "result = [print(i, end=\" \") for i in arr[::-1]]"
   ]
  },
  {
   "cell_type": "markdown",
   "metadata": {},
   "source": [
    "## Stack\n",
    "Stack은 LIFO(Last In, First Out) 자료구조이다."
   ]
  },
  {
   "cell_type": "code",
   "execution_count": 11,
   "metadata": {
    "collapsed": false
   },
   "outputs": [],
   "source": [
    "class Stack:\n",
    "    def __init__(self):\n",
    "          self.items = []\n",
    "\n",
    "    def isEmpty(self):\n",
    "        return self.items == []\n",
    "\n",
    "    def push(self, item):\n",
    "        self.items.append(item)\n",
    "\n",
    "    def pop(self):\n",
    "        return self.items.pop()\n",
    "\n",
    "    def peek(self):\n",
    "        return self.items[len(self.items)-1]\n",
    " \n",
    "    def size(self):\n",
    "        return len(self.items)"
   ]
  },
  {
   "cell_type": "code",
   "execution_count": 13,
   "metadata": {
    "collapsed": false
   },
   "outputs": [
    {
     "name": "stdout",
     "output_type": "stream",
     "text": [
      "True\n",
      "dog\n",
      "3\n",
      "False\n",
      "8.4\n",
      "True\n",
      "2\n"
     ]
    }
   ],
   "source": [
    "s=Stack()\n",
    "\n",
    "print(s.isEmpty()) # True\n",
    "s.push(4)\n",
    "s.push('dog')\n",
    "print(s.peek()) # dog\n",
    "s.push(True)\n",
    "print(s.size()) # 3\n",
    "print(s.isEmpty()) # False\n",
    "s.push(8.4)\n",
    "print(s.pop()) # 8.4\n",
    "print(s.pop()) #True\n",
    "print(s.size()) # 2"
   ]
  },
  {
   "cell_type": "markdown",
   "metadata": {},
   "source": [
    "- stack으로 진법변환 푸는 것도 있지만 재귀로 푼 경우도 있었음."
   ]
  },
  {
   "cell_type": "code",
   "execution_count": 22,
   "metadata": {
    "collapsed": false
   },
   "outputs": [
    {
     "name": "stdout",
     "output_type": "stream",
     "text": [
      "1\n",
      "0\n",
      "0\n",
      "1\n",
      "0\n",
      "1\n",
      "1\n",
      "11101001\n",
      "1\n",
      "5\n",
      "351\n",
      "9\n",
      "E9\n"
     ]
    }
   ],
   "source": [
    "def convert(n, base):\n",
    "    T = \"0123456789ABCDEF\"\n",
    "    q, r = divmod(n, base)\n",
    "    if q == 0:\n",
    "#         print(T[r])\n",
    "        return T[r]\n",
    "    else:\n",
    "#         print(T[r])\n",
    "        return convert(q, base) + T[r]\n",
    "\n",
    "\n",
    "print(convert(233, 2))\n",
    "print(convert(233, 8))\n",
    "print(convert(233, 16))"
   ]
  },
  {
   "cell_type": "markdown",
   "metadata": {},
   "source": [
    "- 회문 판별하기, 이 회문또한 stack으로도 풀 수 있다."
   ]
  },
  {
   "cell_type": "code",
   "execution_count": 17,
   "metadata": {
    "collapsed": false
   },
   "outputs": [
    {
     "name": "stdout",
     "output_type": "stream",
     "text": [
      "단어를 입력하세요: ttat\n",
      "False\n"
     ]
    }
   ],
   "source": [
    "word = input('단어를 입력하세요: ')\n",
    " \n",
    "is_palindrome = True                 # 회문 판별값을 저장할 변수, 초깃값은 True\n",
    "for i in range(len(word) // 2):      # 0부터 문자열 길이의 절반만큼 반복, 홀수경우버림\n",
    "    if word[i] != word[-1 - i]:      # 왼쪽 문자와 오른쪽 문자를 비교하여 문자가 다르면\n",
    "        is_palindrome = False        # 회문이 아님\n",
    "        break\n",
    "print(is_palindrome)                 # 회문 판별값 출력"
   ]
  },
  {
   "cell_type": "code",
   "execution_count": 20,
   "metadata": {
    "collapsed": false
   },
   "outputs": [
    {
     "data": {
      "text/plain": [
       "3"
      ]
     },
     "execution_count": 20,
     "metadata": {},
     "output_type": "execute_result"
    }
   ],
   "source": [
    "len(\"ttattt\") // 2"
   ]
  },
  {
   "cell_type": "markdown",
   "metadata": {},
   "source": []
  },
  {
   "cell_type": "markdown",
   "metadata": {},
   "source": [
    "## Queue\n",
    "Queue는 FIFO(First In, First Out) 자료구조이다."
   ]
  },
  {
   "cell_type": "markdown",
   "metadata": {},
   "source": [
    "- list 를 사용한 queue"
   ]
  },
  {
   "cell_type": "code",
   "execution_count": 25,
   "metadata": {
    "collapsed": false
   },
   "outputs": [
    {
     "name": "stdout",
     "output_type": "stream",
     "text": [
      "[1, 2, 3, 4]\n",
      "GET >  1\n",
      "GET >  2\n",
      "GET >  3\n",
      "GET >  4\n"
     ]
    }
   ],
   "source": [
    "def Main():\n",
    "    queue = []      # queue create\n",
    "    queue.append(1) # same PUT\n",
    "    queue.append(2)\n",
    "    queue.append(3)\n",
    "    queue.append(4)\n",
    "    print(queue)\n",
    "\n",
    "    while queue:\n",
    "        print(\"GET > \",queue.pop(0)) # same GET\n",
    "\n",
    "Main()"
   ]
  },
  {
   "cell_type": "code",
   "execution_count": 26,
   "metadata": {
    "collapsed": true
   },
   "outputs": [],
   "source": [
    "class Queue(list):\n",
    "\n",
    "    enqueue = list.append # enqueue == > insert 관용적인 이름\n",
    "    \n",
    "    def dequeue(self):    # dequeue == > delete\n",
    "        return self.pop(0)\n",
    "\n",
    "    def is_empty(self):\n",
    "        if not self:\n",
    "            return True\n",
    "        else:\n",
    "            return False\n",
    "\n",
    "    def peek(self):\n",
    "        return self[0]"
   ]
  },
  {
   "cell_type": "code",
   "execution_count": 30,
   "metadata": {
    "collapsed": true
   },
   "outputs": [],
   "source": [
    "q = Queue()\n",
    "q.enqueue(1)\n",
    "q.enqueue(2)\n",
    "q.enqueue(3)\n",
    "q.enqueue(4)\n",
    "q.enqueue(5)"
   ]
  },
  {
   "cell_type": "code",
   "execution_count": 31,
   "metadata": {
    "collapsed": false
   },
   "outputs": [
    {
     "data": {
      "text/plain": [
       "[1, 2, 3, 4, 5]"
      ]
     },
     "execution_count": 31,
     "metadata": {},
     "output_type": "execute_result"
    }
   ],
   "source": [
    "q"
   ]
  },
  {
   "cell_type": "code",
   "execution_count": 34,
   "metadata": {
    "collapsed": false
   },
   "outputs": [
    {
     "data": {
      "text/plain": [
       "1"
      ]
     },
     "execution_count": 34,
     "metadata": {},
     "output_type": "execute_result"
    }
   ],
   "source": [
    "q.peek()"
   ]
  },
  {
   "cell_type": "code",
   "execution_count": 35,
   "metadata": {
    "collapsed": false
   },
   "outputs": [
    {
     "data": {
      "text/plain": [
       "[1, 2, 3, 4, 5]"
      ]
     },
     "execution_count": 35,
     "metadata": {},
     "output_type": "execute_result"
    }
   ],
   "source": [
    "q"
   ]
  },
  {
   "cell_type": "code",
   "execution_count": 37,
   "metadata": {
    "collapsed": false
   },
   "outputs": [
    {
     "name": "stdout",
     "output_type": "stream",
     "text": [
      "1 2 3 4 5 "
     ]
    }
   ],
   "source": [
    "while not q.is_empty():\n",
    "    print(q.dequeue(), end= ' ') # 1 2 3 4 5"
   ]
  },
  {
   "cell_type": "markdown",
   "metadata": {},
   "source": [
    "- node를 사용한 queue"
   ]
  },
  {
   "cell_type": "code",
   "execution_count": 4,
   "metadata": {
    "collapsed": true
   },
   "outputs": [],
   "source": [
    "class Node:\n",
    "    def __init__(self, data): # 초기 node 설정\n",
    "        self.data = data\n",
    "        self.next = None\n",
    "\n",
    "class Queue:\n",
    "    def __init__(self):\n",
    "        self.head = None\n",
    "        self.tail = None\n",
    "\n",
    "    def is_empty(self):\n",
    "        if not self.head:\n",
    "            return True\n",
    "        else:\n",
    "            return False\n",
    "\n",
    "    def enqueue(self, data):\n",
    "        new_node = Node(data)\n",
    "\n",
    "        if self.is_empty():\n",
    "            self.head = new_node\n",
    "#            self.tail = new_node\n",
    "            return\n",
    "        else:\n",
    "            self.tail.next = new_node\n",
    "            self.tail = new_node\n",
    "            \n",
    "    def dequeue(self):\n",
    "        if self.is_empty():\n",
    "            return None\n",
    "        else: \n",
    "            ret_data = self.head.data\n",
    "            self.head = self.head.next # 뒤에서 앞으로 한칸씩! \n",
    "            return ret_data # 나가는 값 출력!\n",
    "\n",
    "    def peek(self):\n",
    "        if self.is_empty():\n",
    "            return None\n",
    "        else:\n",
    "            return self.head.data # 다음에 나갈 데이터 보여줌!"
   ]
  },
  {
   "cell_type": "code",
   "execution_count": 5,
   "metadata": {
    "collapsed": false,
    "scrolled": true
   },
   "outputs": [
    {
     "name": "stdout",
     "output_type": "stream",
     "text": [
      "True\n",
      "<class '__main__.Queue'>\n",
      "deleted data : 1\n",
      "2\n",
      "2\n",
      "3\n",
      "4\n",
      "5\n"
     ]
    }
   ],
   "source": [
    "q = Queue()\n",
    "\n",
    "print(q.is_empty()) # True\n",
    "\n",
    "print(type(q))\n",
    "q.enqueue(1)\n",
    "print(\"deleted data : {}\".format(q.dequeue())) # deleted data : 1\n",
    "\n",
    "q.enqueue(2)\n",
    "q.enqueue(3)\n",
    "q.enqueue(4)\n",
    "q.enqueue(5)\n",
    "\n",
    "print(q.peek()) # print(2)\n",
    "\n",
    "while not q.is_empty():\n",
    "    print(q.dequeue()) # 2, 3, 4, 5"
   ]
  },
  {
   "cell_type": "markdown",
   "metadata": {},
   "source": [
    "## python method 이용 Queue\n",
    "#### Sample A - Simplest"
   ]
  },
  {
   "cell_type": "code",
   "execution_count": 16,
   "metadata": {
    "collapsed": false
   },
   "outputs": [
    {
     "name": "stdout",
     "output_type": "stream",
     "text": [
      "1 5 10 "
     ]
    }
   ],
   "source": [
    "import queue as Q\n",
    "\n",
    "q = Q.PriorityQueue()\n",
    "q.put(10)\n",
    "q.put(1)\n",
    "q.put(5)\n",
    "while not q.empty():\n",
    "    print(q.get(), end=\" \")"
   ]
  },
  {
   "cell_type": "markdown",
   "metadata": {},
   "source": [
    "#### Sample B - tuple"
   ]
  },
  {
   "cell_type": "code",
   "execution_count": 1,
   "metadata": {
    "collapsed": false
   },
   "outputs": [
    {
     "name": "stdout",
     "output_type": "stream",
     "text": [
      "(1, 'one') (1, 'one2') (5, 'five') (10, 'ten') "
     ]
    }
   ],
   "source": [
    "import queue as Q\n",
    "\n",
    "q = Q.PriorityQueue()\n",
    "q.put((10,'ten'))\n",
    "q.put((1,'one'))\n",
    "q.put((1,'one2'))\n",
    "q.put((5,'five'))\n",
    "while not q.empty():\n",
    "    print(q.get(), end = \" \")"
   ]
  },
  {
   "cell_type": "markdown",
   "metadata": {
    "collapsed": true
   },
   "source": [
    "#### heapq - Heap queue, priority queue algorithm으로도 알려져있다.\n"
   ]
  },
  {
   "cell_type": "code",
   "execution_count": 5,
   "metadata": {
    "collapsed": false
   },
   "outputs": [
    {
     "name": "stdout",
     "output_type": "stream",
     "text": [
      "(1, 'one') (10, 'ten') (5, 'five') =====\n",
      "(5, 'five') (10, 'ten') =====\n",
      "(5, 'five')\n"
     ]
    }
   ],
   "source": [
    "import heapq\n",
    "\n",
    "heap = []\n",
    "heapq.heappush(heap, (1, 'one'))\n",
    "heapq.heappush(heap, (10, 'ten'))\n",
    "heapq.heappush(heap, (5,'five'))\n",
    "\n",
    "for x in heap:\n",
    "    print(x,end=\" \")\n",
    "print(\"=====\")\n",
    "\n",
    "heapq.heappop(heap)\n",
    "\n",
    "for x in heap:\n",
    "    print(x,end=\" \")\n",
    "print(\"=====\")\n",
    "\n",
    "# the smallest\n",
    "print(heap[0])"
   ]
  },
  {
   "cell_type": "markdown",
   "metadata": {},
   "source": [
    "### What's the difference between heapq and PriorityQueue in python?\n",
    "Queue.PriorityQueue is a thread-safe class, while the heapq module makes no thread-safety guarantees. \n",
    "\n",
    "https://stackoverflow.com/questions/36991716/whats-the-difference-between-heapq-and-priorityqueue-in-python"
   ]
  },
  {
   "cell_type": "markdown",
   "metadata": {},
   "source": [
    "### shell sort"
   ]
  },
  {
   "cell_type": "code",
   "execution_count": 48,
   "metadata": {
    "collapsed": true
   },
   "outputs": [],
   "source": [
    "def gapInsertionSort(x, start, gap):\n",
    "    for target in range(start+gap, len(x), gap): #gap의 마지막 값부터 마지막까지 \n",
    "                                                 # gap 간격으로 이동 한 값 반환\n",
    "        val = x[target] # val에 gab 간격으로 이동한 값을 대입!! \n",
    "        print(\"-- \" + str(target+1) + \" 번째 선택 \", end=\" \")\n",
    "        i = target\n",
    "        print()\n",
    "        print(\"-- start < start+gap 시작 (시작과 갭사이 안이면)\")\n",
    "        while i > start: # gap 간격으로 이동한 값 보다 start 보다 작으면 계속\n",
    "            if x[i-gap] > val: # start 값이 target 값보다 크면 \n",
    "                print(\"------ x[i-gap] > val 이어서\")\n",
    "                print(\"------ x[start] > x[target] 이어서\")\n",
    "                x[i] = x[i-gap] # target값 <= start값\n",
    "                print(\"------ \" + str(i+1) + \"번째 값에 \" + str(i-gap+1) + \"번째 값을 넣는다\")\n",
    "            else:\n",
    "                print(\"------ x[i-gap] > val 을 만족하지 않는다\")\n",
    "                break\n",
    "            i -= gap\n",
    "            print(\"---- \" + str(i) + \"를\" + str(i-gap) + \"(i-gap)으로 변경\")\n",
    "        x[i] = val\n",
    "        print(\"-- x[i] = val 함\" )\n",
    "\n",
    "def shellSort(x):\n",
    "    gap = len(x) // 2 # array의 절반 크기만큼을 gap으로!! \n",
    "    print(str(len(x)) + \" 배열 받음\")\n",
    "    print(\"gap을\" + str(len(x) // 2) + \"으로 시작\")\n",
    "    while gap > 0: # gap이 0보다 크면 계속!\n",
    "        print(\"갭이 0보다 큼 GO\")\n",
    "        for start in range(gap): # 갭크기 유지하며 0부터 끝까지 이동!!!\n",
    "            print(\"start number는 \" + str(start+1) + \"번째\" )\n",
    "            gapInsertionSort(x, start, gap)\n",
    "        gap = gap // 2\n",
    "        print(\"gap은\" + str(gap // 2) + \"으로 변경\")"
   ]
  },
  {
   "cell_type": "code",
   "execution_count": 49,
   "metadata": {
    "collapsed": false
   },
   "outputs": [
    {
     "name": "stdout",
     "output_type": "stream",
     "text": [
      "17 배열 받음\n",
      "gap을8으로 시작\n",
      "start number는 1번째\n",
      "-- 9 번째 선택  \n",
      "-- start < start+gap 시작 (시작과 갭사이 안이면)\n",
      "------ x[i-gap] > val 을 만족하지 않는다\n",
      "-- x[i] = val 함\n",
      "-- 17 번째 선택  \n",
      "-- start < start+gap 시작 (시작과 갭사이 안이면)\n",
      "------ x[i-gap] > val 을 만족하지 않는다\n",
      "-- x[i] = val 함\n",
      "start number는 2번째\n",
      "-- 10 번째 선택  \n",
      "-- start < start+gap 시작 (시작과 갭사이 안이면)\n",
      "------ x[i-gap] > val 을 만족하지 않는다\n",
      "-- x[i] = val 함\n",
      "start number는 3번째\n",
      "-- 11 번째 선택  \n",
      "-- start < start+gap 시작 (시작과 갭사이 안이면)\n",
      "------ x[i-gap] > val 을 만족하지 않는다\n",
      "-- x[i] = val 함\n",
      "start number는 4번째\n",
      "-- 12 번째 선택  \n",
      "-- start < start+gap 시작 (시작과 갭사이 안이면)\n",
      "------ x[i-gap] > val 이어서\n",
      "------ x[start] > x[target] 이어서\n",
      "------ 12번째 값에 4번째 값을 넣는다\n",
      "---- 3를-5(i-gap)으로 변경\n",
      "-- x[i] = val 함\n",
      "start number는 5번째\n",
      "-- 13 번째 선택  \n",
      "-- start < start+gap 시작 (시작과 갭사이 안이면)\n",
      "------ x[i-gap] > val 이어서\n",
      "------ x[start] > x[target] 이어서\n",
      "------ 13번째 값에 5번째 값을 넣는다\n",
      "---- 4를-4(i-gap)으로 변경\n",
      "-- x[i] = val 함\n",
      "start number는 6번째\n",
      "-- 14 번째 선택  \n",
      "-- start < start+gap 시작 (시작과 갭사이 안이면)\n",
      "------ x[i-gap] > val 이어서\n",
      "------ x[start] > x[target] 이어서\n",
      "------ 14번째 값에 6번째 값을 넣는다\n",
      "---- 5를-3(i-gap)으로 변경\n",
      "-- x[i] = val 함\n",
      "start number는 7번째\n",
      "-- 15 번째 선택  \n",
      "-- start < start+gap 시작 (시작과 갭사이 안이면)\n",
      "------ x[i-gap] > val 을 만족하지 않는다\n",
      "-- x[i] = val 함\n",
      "start number는 8번째\n",
      "-- 16 번째 선택  \n",
      "-- start < start+gap 시작 (시작과 갭사이 안이면)\n",
      "------ x[i-gap] > val 을 만족하지 않는다\n",
      "-- x[i] = val 함\n",
      "gap은2으로 변경\n",
      "start number는 1번째\n",
      "-- 5 번째 선택  \n",
      "-- start < start+gap 시작 (시작과 갭사이 안이면)\n",
      "------ x[i-gap] > val 을 만족하지 않는다\n",
      "-- x[i] = val 함\n",
      "-- 9 번째 선택  \n",
      "-- start < start+gap 시작 (시작과 갭사이 안이면)\n",
      "------ x[i-gap] > val 을 만족하지 않는다\n",
      "-- x[i] = val 함\n",
      "-- 13 번째 선택  \n",
      "-- start < start+gap 시작 (시작과 갭사이 안이면)\n",
      "------ x[i-gap] > val 이어서\n",
      "------ x[start] > x[target] 이어서\n",
      "------ 13번째 값에 9번째 값을 넣는다\n",
      "---- 8를4(i-gap)으로 변경\n",
      "------ x[i-gap] > val 을 만족하지 않는다\n",
      "-- x[i] = val 함\n",
      "-- 17 번째 선택  \n",
      "-- start < start+gap 시작 (시작과 갭사이 안이면)\n",
      "------ x[i-gap] > val 을 만족하지 않는다\n",
      "-- x[i] = val 함\n",
      "start number는 2번째\n",
      "-- 6 번째 선택  \n",
      "-- start < start+gap 시작 (시작과 갭사이 안이면)\n",
      "------ x[i-gap] > val 을 만족하지 않는다\n",
      "-- x[i] = val 함\n",
      "-- 10 번째 선택  \n",
      "-- start < start+gap 시작 (시작과 갭사이 안이면)\n",
      "------ x[i-gap] > val 을 만족하지 않는다\n",
      "-- x[i] = val 함\n",
      "-- 14 번째 선택  \n",
      "-- start < start+gap 시작 (시작과 갭사이 안이면)\n",
      "------ x[i-gap] > val 이어서\n",
      "------ x[start] > x[target] 이어서\n",
      "------ 14번째 값에 10번째 값을 넣는다\n",
      "---- 9를5(i-gap)으로 변경\n",
      "------ x[i-gap] > val 을 만족하지 않는다\n",
      "-- x[i] = val 함\n",
      "start number는 3번째\n",
      "-- 7 번째 선택  \n",
      "-- start < start+gap 시작 (시작과 갭사이 안이면)\n",
      "------ x[i-gap] > val 을 만족하지 않는다\n",
      "-- x[i] = val 함\n",
      "-- 11 번째 선택  \n",
      "-- start < start+gap 시작 (시작과 갭사이 안이면)\n",
      "------ x[i-gap] > val 을 만족하지 않는다\n",
      "-- x[i] = val 함\n",
      "-- 15 번째 선택  \n",
      "-- start < start+gap 시작 (시작과 갭사이 안이면)\n",
      "------ x[i-gap] > val 이어서\n",
      "------ x[start] > x[target] 이어서\n",
      "------ 15번째 값에 11번째 값을 넣는다\n",
      "---- 10를6(i-gap)으로 변경\n",
      "------ x[i-gap] > val 을 만족하지 않는다\n",
      "-- x[i] = val 함\n",
      "start number는 4번째\n",
      "-- 8 번째 선택  \n",
      "-- start < start+gap 시작 (시작과 갭사이 안이면)\n",
      "------ x[i-gap] > val 을 만족하지 않는다\n",
      "-- x[i] = val 함\n",
      "-- 12 번째 선택  \n",
      "-- start < start+gap 시작 (시작과 갭사이 안이면)\n",
      "------ x[i-gap] > val 이어서\n",
      "------ x[start] > x[target] 이어서\n",
      "------ 12번째 값에 8번째 값을 넣는다\n",
      "---- 7를3(i-gap)으로 변경\n",
      "------ x[i-gap] > val 을 만족하지 않는다\n",
      "-- x[i] = val 함\n",
      "-- 16 번째 선택  \n",
      "-- start < start+gap 시작 (시작과 갭사이 안이면)\n",
      "------ x[i-gap] > val 을 만족하지 않는다\n",
      "-- x[i] = val 함\n",
      "gap은1으로 변경\n",
      "start number는 1번째\n",
      "-- 3 번째 선택  \n",
      "-- start < start+gap 시작 (시작과 갭사이 안이면)\n",
      "------ x[i-gap] > val 을 만족하지 않는다\n",
      "-- x[i] = val 함\n",
      "-- 5 번째 선택  \n",
      "-- start < start+gap 시작 (시작과 갭사이 안이면)\n",
      "------ x[i-gap] > val 을 만족하지 않는다\n",
      "-- x[i] = val 함\n",
      "-- 7 번째 선택  \n",
      "-- start < start+gap 시작 (시작과 갭사이 안이면)\n",
      "------ x[i-gap] > val 을 만족하지 않는다\n",
      "-- x[i] = val 함\n",
      "-- 9 번째 선택  \n",
      "-- start < start+gap 시작 (시작과 갭사이 안이면)\n",
      "------ x[i-gap] > val 이어서\n",
      "------ x[start] > x[target] 이어서\n",
      "------ 9번째 값에 7번째 값을 넣는다\n",
      "---- 6를4(i-gap)으로 변경\n",
      "------ x[i-gap] > val 을 만족하지 않는다\n",
      "-- x[i] = val 함\n",
      "-- 11 번째 선택  \n",
      "-- start < start+gap 시작 (시작과 갭사이 안이면)\n",
      "------ x[i-gap] > val 을 만족하지 않는다\n",
      "-- x[i] = val 함\n",
      "-- 13 번째 선택  \n",
      "-- start < start+gap 시작 (시작과 갭사이 안이면)\n",
      "------ x[i-gap] > val 을 만족하지 않는다\n",
      "-- x[i] = val 함\n",
      "-- 15 번째 선택  \n",
      "-- start < start+gap 시작 (시작과 갭사이 안이면)\n",
      "------ x[i-gap] > val 을 만족하지 않는다\n",
      "-- x[i] = val 함\n",
      "-- 17 번째 선택  \n",
      "-- start < start+gap 시작 (시작과 갭사이 안이면)\n",
      "------ x[i-gap] > val 을 만족하지 않는다\n",
      "-- x[i] = val 함\n",
      "start number는 2번째\n",
      "-- 4 번째 선택  \n",
      "-- start < start+gap 시작 (시작과 갭사이 안이면)\n",
      "------ x[i-gap] > val 이어서\n",
      "------ x[start] > x[target] 이어서\n",
      "------ 4번째 값에 2번째 값을 넣는다\n",
      "---- 1를-1(i-gap)으로 변경\n",
      "-- x[i] = val 함\n",
      "-- 6 번째 선택  \n",
      "-- start < start+gap 시작 (시작과 갭사이 안이면)\n",
      "------ x[i-gap] > val 을 만족하지 않는다\n",
      "-- x[i] = val 함\n",
      "-- 8 번째 선택  \n",
      "-- start < start+gap 시작 (시작과 갭사이 안이면)\n",
      "------ x[i-gap] > val 이어서\n",
      "------ x[start] > x[target] 이어서\n",
      "------ 8번째 값에 6번째 값을 넣는다\n",
      "---- 5를3(i-gap)으로 변경\n",
      "------ x[i-gap] > val 을 만족하지 않는다\n",
      "-- x[i] = val 함\n",
      "-- 10 번째 선택  \n",
      "-- start < start+gap 시작 (시작과 갭사이 안이면)\n",
      "------ x[i-gap] > val 을 만족하지 않는다\n",
      "-- x[i] = val 함\n",
      "-- 12 번째 선택  \n",
      "-- start < start+gap 시작 (시작과 갭사이 안이면)\n",
      "------ x[i-gap] > val 을 만족하지 않는다\n",
      "-- x[i] = val 함\n",
      "-- 14 번째 선택  \n",
      "-- start < start+gap 시작 (시작과 갭사이 안이면)\n",
      "------ x[i-gap] > val 을 만족하지 않는다\n",
      "-- x[i] = val 함\n",
      "-- 16 번째 선택  \n",
      "-- start < start+gap 시작 (시작과 갭사이 안이면)\n",
      "------ x[i-gap] > val 이어서\n",
      "------ x[start] > x[target] 이어서\n",
      "------ 16번째 값에 14번째 값을 넣는다\n",
      "---- 13를11(i-gap)으로 변경\n",
      "------ x[i-gap] > val 을 만족하지 않는다\n",
      "-- x[i] = val 함\n",
      "gap은0으로 변경\n",
      "start number는 1번째\n",
      "-- 2 번째 선택  \n",
      "-- start < start+gap 시작 (시작과 갭사이 안이면)\n",
      "------ x[i-gap] > val 을 만족하지 않는다\n",
      "-- x[i] = val 함\n",
      "-- 3 번째 선택  \n",
      "-- start < start+gap 시작 (시작과 갭사이 안이면)\n",
      "------ x[i-gap] > val 을 만족하지 않는다\n",
      "-- x[i] = val 함\n",
      "-- 4 번째 선택  \n",
      "-- start < start+gap 시작 (시작과 갭사이 안이면)\n",
      "------ x[i-gap] > val 이어서\n",
      "------ x[start] > x[target] 이어서\n",
      "------ 4번째 값에 3번째 값을 넣는다\n",
      "---- 2를1(i-gap)으로 변경\n",
      "------ x[i-gap] > val 을 만족하지 않는다\n",
      "-- x[i] = val 함\n",
      "-- 5 번째 선택  \n",
      "-- start < start+gap 시작 (시작과 갭사이 안이면)\n",
      "------ x[i-gap] > val 을 만족하지 않는다\n",
      "-- x[i] = val 함\n",
      "-- 6 번째 선택  \n",
      "-- start < start+gap 시작 (시작과 갭사이 안이면)\n",
      "------ x[i-gap] > val 을 만족하지 않는다\n",
      "-- x[i] = val 함\n",
      "-- 7 번째 선택  \n",
      "-- start < start+gap 시작 (시작과 갭사이 안이면)\n",
      "------ x[i-gap] > val 을 만족하지 않는다\n",
      "-- x[i] = val 함\n",
      "-- 8 번째 선택  \n",
      "-- start < start+gap 시작 (시작과 갭사이 안이면)\n",
      "------ x[i-gap] > val 을 만족하지 않는다\n",
      "-- x[i] = val 함\n",
      "-- 9 번째 선택  \n",
      "-- start < start+gap 시작 (시작과 갭사이 안이면)\n",
      "------ x[i-gap] > val 을 만족하지 않는다\n",
      "-- x[i] = val 함\n",
      "-- 10 번째 선택  \n",
      "-- start < start+gap 시작 (시작과 갭사이 안이면)\n",
      "------ x[i-gap] > val 이어서\n",
      "------ x[start] > x[target] 이어서\n",
      "------ 10번째 값에 9번째 값을 넣는다\n",
      "---- 8를7(i-gap)으로 변경\n",
      "------ x[i-gap] > val 을 만족하지 않는다\n",
      "-- x[i] = val 함\n",
      "-- 11 번째 선택  \n",
      "-- start < start+gap 시작 (시작과 갭사이 안이면)\n",
      "------ x[i-gap] > val 을 만족하지 않는다\n",
      "-- x[i] = val 함\n",
      "-- 12 번째 선택  \n",
      "-- start < start+gap 시작 (시작과 갭사이 안이면)\n",
      "------ x[i-gap] > val 을 만족하지 않는다\n",
      "-- x[i] = val 함\n",
      "-- 13 번째 선택  \n",
      "-- start < start+gap 시작 (시작과 갭사이 안이면)\n",
      "------ x[i-gap] > val 을 만족하지 않는다\n",
      "-- x[i] = val 함\n",
      "-- 14 번째 선택  \n",
      "-- start < start+gap 시작 (시작과 갭사이 안이면)\n",
      "------ x[i-gap] > val 을 만족하지 않는다\n",
      "-- x[i] = val 함\n",
      "-- 15 번째 선택  \n",
      "-- start < start+gap 시작 (시작과 갭사이 안이면)\n",
      "------ x[i-gap] > val 을 만족하지 않는다\n",
      "-- x[i] = val 함\n",
      "-- 16 번째 선택  \n",
      "-- start < start+gap 시작 (시작과 갭사이 안이면)\n",
      "------ x[i-gap] > val 이어서\n",
      "------ x[start] > x[target] 이어서\n",
      "------ 16번째 값에 15번째 값을 넣는다\n",
      "---- 14를13(i-gap)으로 변경\n",
      "------ x[i-gap] > val 을 만족하지 않는다\n",
      "-- x[i] = val 함\n",
      "-- 17 번째 선택  \n",
      "-- start < start+gap 시작 (시작과 갭사이 안이면)\n",
      "------ x[i-gap] > val 을 만족하지 않는다\n",
      "-- x[i] = val 함\n",
      "gap은0으로 변경\n"
     ]
    }
   ],
   "source": [
    "x = [i for j in (range(11), range(0, 11,2)) for i in j]\n",
    "x\n",
    "shellSort(x)"
   ]
  },
  {
   "cell_type": "code",
   "execution_count": 85,
   "metadata": {
    "collapsed": false
   },
   "outputs": [],
   "source": [
    "def shellSort(x):\n",
    "    gap = len(x) // 2 \n",
    "    print(str(len(x)) + \"길이의 배열을 받음\")\n",
    "    print(\"gap은\" + str(len(x) // 2 ) + \"길이 임\")\n",
    "    while gap > 0:\n",
    "        for start in range(gap):\n",
    "            gapInsertionSort(x, start, gap)\n",
    "        print(\"gap을 2로 나눔 \" + str(gap) + \"->\" + str(gap//2) )\n",
    "        gap = gap // 2\n",
    "        \n",
    "def gapInsertionSort(x, start, gap):\n",
    "    for target in range(start+gap, len(x), gap): \n",
    "        print(str(target) + \" ~ \" + str(len(x)) + \" 까지 뭘하는거지?! \")\n",
    "        val = x[target]\n",
    "        print(\"잡고 있는 값\" + str(target+1) + \"번째 '\" + str(val) + \"' 설정\")\n",
    "        i = target\n",
    "        while i > start:\n",
    "            print(\"start값\" + str(start+1) + \"[\" + str(x[start]) + \"]\" + \"과 target값\" + str(i+1) + \"[\" + str(x[i]) + \"]\" + \" 비교\")\n",
    "            if x[i-gap] > val:\n",
    "                x[i] = x[i-gap]\n",
    "            else:\n",
    "                break\n",
    "            i -= gap\n",
    "        x[i] = val"
   ]
  },
  {
   "cell_type": "code",
   "execution_count": 86,
   "metadata": {
    "collapsed": false
   },
   "outputs": [
    {
     "name": "stdout",
     "output_type": "stream",
     "text": [
      "[0, 1, 2, 3, 4, 5, 6, 7, 8, 9, 10, 0, 2, 4, 6, 8, 10]\n",
      "17길이의 배열을 받음\n",
      "gap은8길이 임\n",
      "8 ~ 17 까지 뭘하는거지?! \n",
      "잡고 있는 값9번째 '8' 설정\n",
      "start값1[0]과 target값9[8] 비교\n",
      "16 ~ 17 까지 뭘하는거지?! \n",
      "잡고 있는 값17번째 '10' 설정\n",
      "start값1[0]과 target값17[10] 비교\n",
      "9 ~ 17 까지 뭘하는거지?! \n",
      "잡고 있는 값10번째 '9' 설정\n",
      "start값2[1]과 target값10[9] 비교\n",
      "10 ~ 17 까지 뭘하는거지?! \n",
      "잡고 있는 값11번째 '10' 설정\n",
      "start값3[2]과 target값11[10] 비교\n",
      "11 ~ 17 까지 뭘하는거지?! \n",
      "잡고 있는 값12번째 '0' 설정\n",
      "start값4[3]과 target값12[0] 비교\n",
      "12 ~ 17 까지 뭘하는거지?! \n",
      "잡고 있는 값13번째 '2' 설정\n",
      "start값5[4]과 target값13[2] 비교\n",
      "13 ~ 17 까지 뭘하는거지?! \n",
      "잡고 있는 값14번째 '4' 설정\n",
      "start값6[5]과 target값14[4] 비교\n",
      "14 ~ 17 까지 뭘하는거지?! \n",
      "잡고 있는 값15번째 '6' 설정\n",
      "start값7[6]과 target값15[6] 비교\n",
      "15 ~ 17 까지 뭘하는거지?! \n",
      "잡고 있는 값16번째 '8' 설정\n",
      "start값8[7]과 target값16[8] 비교\n",
      "gap을 2로 나눔 8->4\n",
      "4 ~ 17 까지 뭘하는거지?! \n",
      "잡고 있는 값5번째 '2' 설정\n",
      "start값1[0]과 target값5[2] 비교\n",
      "8 ~ 17 까지 뭘하는거지?! \n",
      "잡고 있는 값9번째 '8' 설정\n",
      "start값1[0]과 target값9[8] 비교\n",
      "12 ~ 17 까지 뭘하는거지?! \n",
      "잡고 있는 값13번째 '4' 설정\n",
      "start값1[0]과 target값13[4] 비교\n",
      "start값1[0]과 target값9[8] 비교\n",
      "16 ~ 17 까지 뭘하는거지?! \n",
      "잡고 있는 값17번째 '10' 설정\n",
      "start값1[0]과 target값17[10] 비교\n",
      "5 ~ 17 까지 뭘하는거지?! \n",
      "잡고 있는 값6번째 '4' 설정\n",
      "start값2[1]과 target값6[4] 비교\n",
      "9 ~ 17 까지 뭘하는거지?! \n",
      "잡고 있는 값10번째 '9' 설정\n",
      "start값2[1]과 target값10[9] 비교\n",
      "13 ~ 17 까지 뭘하는거지?! \n",
      "잡고 있는 값14번째 '5' 설정\n",
      "start값2[1]과 target값14[5] 비교\n",
      "start값2[1]과 target값10[9] 비교\n",
      "6 ~ 17 까지 뭘하는거지?! \n",
      "잡고 있는 값7번째 '6' 설정\n",
      "start값3[2]과 target값7[6] 비교\n",
      "10 ~ 17 까지 뭘하는거지?! \n",
      "잡고 있는 값11번째 '10' 설정\n",
      "start값3[2]과 target값11[10] 비교\n",
      "14 ~ 17 까지 뭘하는거지?! \n",
      "잡고 있는 값15번째 '6' 설정\n",
      "start값3[2]과 target값15[6] 비교\n",
      "start값3[2]과 target값11[10] 비교\n",
      "7 ~ 17 까지 뭘하는거지?! \n",
      "잡고 있는 값8번째 '7' 설정\n",
      "start값4[0]과 target값8[7] 비교\n",
      "11 ~ 17 까지 뭘하는거지?! \n",
      "잡고 있는 값12번째 '3' 설정\n",
      "start값4[0]과 target값12[3] 비교\n",
      "start값4[0]과 target값8[7] 비교\n",
      "15 ~ 17 까지 뭘하는거지?! \n",
      "잡고 있는 값16번째 '8' 설정\n",
      "start값4[0]과 target값16[8] 비교\n",
      "gap을 2로 나눔 4->2\n",
      "2 ~ 17 까지 뭘하는거지?! \n",
      "잡고 있는 값3번째 '2' 설정\n",
      "start값1[0]과 target값3[2] 비교\n",
      "4 ~ 17 까지 뭘하는거지?! \n",
      "잡고 있는 값5번째 '2' 설정\n",
      "start값1[0]과 target값5[2] 비교\n",
      "6 ~ 17 까지 뭘하는거지?! \n",
      "잡고 있는 값7번째 '6' 설정\n",
      "start값1[0]과 target값7[6] 비교\n",
      "8 ~ 17 까지 뭘하는거지?! \n",
      "잡고 있는 값9번째 '4' 설정\n",
      "start값1[0]과 target값9[4] 비교\n",
      "start값1[0]과 target값7[6] 비교\n",
      "10 ~ 17 까지 뭘하는거지?! \n",
      "잡고 있는 값11번째 '6' 설정\n",
      "start값1[0]과 target값11[6] 비교\n",
      "12 ~ 17 까지 뭘하는거지?! \n",
      "잡고 있는 값13번째 '8' 설정\n",
      "start값1[0]과 target값13[8] 비교\n",
      "14 ~ 17 까지 뭘하는거지?! \n",
      "잡고 있는 값15번째 '10' 설정\n",
      "start값1[0]과 target값15[10] 비교\n",
      "16 ~ 17 까지 뭘하는거지?! \n",
      "잡고 있는 값17번째 '10' 설정\n",
      "start값1[0]과 target값17[10] 비교\n",
      "3 ~ 17 까지 뭘하는거지?! \n",
      "잡고 있는 값4번째 '0' 설정\n",
      "start값2[1]과 target값4[0] 비교\n",
      "5 ~ 17 까지 뭘하는거지?! \n",
      "잡고 있는 값6번째 '4' 설정\n",
      "start값2[0]과 target값6[4] 비교\n",
      "7 ~ 17 까지 뭘하는거지?! \n",
      "잡고 있는 값8번째 '3' 설정\n",
      "start값2[0]과 target값8[3] 비교\n",
      "start값2[0]과 target값6[4] 비교\n",
      "9 ~ 17 까지 뭘하는거지?! \n",
      "잡고 있는 값10번째 '5' 설정\n",
      "start값2[0]과 target값10[5] 비교\n",
      "11 ~ 17 까지 뭘하는거지?! \n",
      "잡고 있는 값12번째 '7' 설정\n",
      "start값2[0]과 target값12[7] 비교\n",
      "13 ~ 17 까지 뭘하는거지?! \n",
      "잡고 있는 값14번째 '9' 설정\n",
      "start값2[0]과 target값14[9] 비교\n",
      "15 ~ 17 까지 뭘하는거지?! \n",
      "잡고 있는 값16번째 '8' 설정\n",
      "start값2[0]과 target값16[8] 비교\n",
      "start값2[0]과 target값14[9] 비교\n",
      "gap을 2로 나눔 2->1\n",
      "1 ~ 17 까지 뭘하는거지?! \n",
      "잡고 있는 값2번째 '0' 설정\n",
      "start값1[0]과 target값2[0] 비교\n",
      "2 ~ 17 까지 뭘하는거지?! \n",
      "잡고 있는 값3번째 '2' 설정\n",
      "start값1[0]과 target값3[2] 비교\n",
      "3 ~ 17 까지 뭘하는거지?! \n",
      "잡고 있는 값4번째 '1' 설정\n",
      "start값1[0]과 target값4[1] 비교\n",
      "start값1[0]과 target값3[2] 비교\n",
      "4 ~ 17 까지 뭘하는거지?! \n",
      "잡고 있는 값5번째 '2' 설정\n",
      "start값1[0]과 target값5[2] 비교\n",
      "5 ~ 17 까지 뭘하는거지?! \n",
      "잡고 있는 값6번째 '3' 설정\n",
      "start값1[0]과 target값6[3] 비교\n",
      "6 ~ 17 까지 뭘하는거지?! \n",
      "잡고 있는 값7번째 '4' 설정\n",
      "start값1[0]과 target값7[4] 비교\n",
      "7 ~ 17 까지 뭘하는거지?! \n",
      "잡고 있는 값8번째 '4' 설정\n",
      "start값1[0]과 target값8[4] 비교\n",
      "8 ~ 17 까지 뭘하는거지?! \n",
      "잡고 있는 값9번째 '6' 설정\n",
      "start값1[0]과 target값9[6] 비교\n",
      "9 ~ 17 까지 뭘하는거지?! \n",
      "잡고 있는 값10번째 '5' 설정\n",
      "start값1[0]과 target값10[5] 비교\n",
      "start값1[0]과 target값9[6] 비교\n",
      "10 ~ 17 까지 뭘하는거지?! \n",
      "잡고 있는 값11번째 '6' 설정\n",
      "start값1[0]과 target값11[6] 비교\n",
      "11 ~ 17 까지 뭘하는거지?! \n",
      "잡고 있는 값12번째 '7' 설정\n",
      "start값1[0]과 target값12[7] 비교\n",
      "12 ~ 17 까지 뭘하는거지?! \n",
      "잡고 있는 값13번째 '8' 설정\n",
      "start값1[0]과 target값13[8] 비교\n",
      "13 ~ 17 까지 뭘하는거지?! \n",
      "잡고 있는 값14번째 '8' 설정\n",
      "start값1[0]과 target값14[8] 비교\n",
      "14 ~ 17 까지 뭘하는거지?! \n",
      "잡고 있는 값15번째 '10' 설정\n",
      "start값1[0]과 target값15[10] 비교\n",
      "15 ~ 17 까지 뭘하는거지?! \n",
      "잡고 있는 값16번째 '9' 설정\n",
      "start값1[0]과 target값16[9] 비교\n",
      "start값1[0]과 target값15[10] 비교\n",
      "16 ~ 17 까지 뭘하는거지?! \n",
      "잡고 있는 값17번째 '10' 설정\n",
      "start값1[0]과 target값17[10] 비교\n",
      "gap을 2로 나눔 1->0\n"
     ]
    }
   ],
   "source": [
    "x = [i for j in (range(11), range(0, 11,2)) for i in j]\n",
    "print(x)\n",
    "shellSort(x)"
   ]
  },
  {
   "cell_type": "markdown",
   "metadata": {},
   "source": [
    "- Priority Queue"
   ]
  },
  {
   "cell_type": "code",
   "execution_count": 15,
   "metadata": {
    "collapsed": false
   },
   "outputs": [
    {
     "name": "stdout",
     "output_type": "stream",
     "text": [
      "(0, 'b')\n",
      "(1, 'c')\n",
      "(1, 'e')\n",
      "(2, 'a')\n",
      "(2, 'd')\n"
     ]
    }
   ],
   "source": [
    "from queue import Queue\n",
    "from heapq import heappush, heappop\n",
    "\n",
    "class PriorityQueue(Queue):\n",
    "    # Initialize the queue representation\n",
    "    def _init(self, maxsize):\n",
    "        self.maxsize = maxsize\n",
    "        self.queue = []\n",
    "\n",
    "    # Put a new item in the queue\n",
    "    def _put(self, item):\n",
    "        return heappush(self.queue, item)\n",
    "\n",
    "    # Get an item from the queue\n",
    "    def _get(self):\n",
    "        return heappop(self.queue)\n",
    "\n",
    "q = PriorityQueue()\n",
    "q.put((2,\"a\"))\n",
    "q.put((0,\"b\"))\n",
    "q.put((1,\"c\"))\n",
    "q.put((2,\"d\"))\n",
    "q.put((1,\"e\"))\n",
    "while not q.empty():\n",
    "    print(q.get())"
   ]
  },
  {
   "cell_type": "markdown",
   "metadata": {},
   "source": [
    "- prioriy queue character"
   ]
  },
  {
   "cell_type": "code",
   "execution_count": 14,
   "metadata": {
    "collapsed": false
   },
   "outputs": [
    {
     "name": "stdout",
     "output_type": "stream",
     "text": [
      "('aa', 'five') ('abc', 'one') ('bcd', 'one2') ('cd', 'ten') "
     ]
    }
   ],
   "source": [
    "import queue as Q\n",
    "\n",
    "q = Q.PriorityQueue()\n",
    "q.put(('cd','ten'))\n",
    "q.put(('abc','one'))\n",
    "q.put(('bcd','one2'))\n",
    "q.put(('aa','five'))\n",
    "while not q.empty():\n",
    "    print(q.get(), end = \" \")"
   ]
  },
  {
   "cell_type": "code",
   "execution_count": null,
   "metadata": {
    "collapsed": true
   },
   "outputs": [],
   "source": []
  }
 ],
 "metadata": {
  "kernelspec": {
   "display_name": "Python 3",
   "language": "python",
   "name": "python3"
  },
  "language_info": {
   "codemirror_mode": {
    "name": "ipython",
    "version": 3
   },
   "file_extension": ".py",
   "mimetype": "text/x-python",
   "name": "python",
   "nbconvert_exporter": "python",
   "pygments_lexer": "ipython3",
   "version": "3.6.0"
  }
 },
 "nbformat": 4,
 "nbformat_minor": 2
}
