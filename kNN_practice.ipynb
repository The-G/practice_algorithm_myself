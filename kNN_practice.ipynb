{
 "cells": [
  {
   "cell_type": "markdown",
   "metadata": {},
   "source": [
    "### kNN(k-Nearest Neighbor) 구현하기\n",
    "reference : 상상개발자, https://www.youtube.com/watch?v=ItT-PSw_hnY"
   ]
  },
  {
   "cell_type": "code",
   "execution_count": 22,
   "metadata": {
    "collapsed": true
   },
   "outputs": [],
   "source": [
    "def createDataSet():\n",
    "    group = array([[1,2],[1,4],[4,1],[4,2]])\n",
    "    labels = ['Action','Action','Romantic','Romantic']\n",
    "    return group, labels"
   ]
  },
  {
   "cell_type": "code",
   "execution_count": 23,
   "metadata": {
    "collapsed": true
   },
   "outputs": [],
   "source": [
    "def classify0(inX, dataSet, labels, k):\n",
    "    # caculate the distance between inX and the current point\n",
    "    sortedDistances = calcDistance(inX, dataSet, labels, k)\n",
    "    # take k items with lowest distances to inX and find the majority class among k items\n",
    "    sortedClassCount = findMajorityClass(inX, dataSet, labels, k, sortedDistances)\n",
    "    # sortedClassCount is now [('Action', 2)], therefore return Action\n",
    "    return sortedClassCount[0][0]"
   ]
  },
  {
   "cell_type": "code",
   "execution_count": 24,
   "metadata": {
    "collapsed": true
   },
   "outputs": [],
   "source": [
    "# 피타고라스 정의로 두점 사이의 거리 구하기 구현한거다!! \n",
    "def calcDistance(inX, dataSet, labels, k):\n",
    "    # shape is a tuple that gives dimensions of the array\n",
    "    # shape[0] returns the number of rows, here will return 4 / 4개의 점\n",
    "    dataSetSize = dataSet.shape[0] \n",
    "    \"\"\"\n",
    "    dataSet = [[1,2],\n",
    "              [1,4],\n",
    "              [4,1],\n",
    "              [4,2]]\n",
    "    \"\"\"\n",
    "    \n",
    "    \n",
    "    # numpy.tile(A, reps) : construct an array by repeating A\n",
    "    # the number of times given by reps\n",
    "    # if reps has length d, the result will have dimension of max(d, A.ndim)\n",
    "    # tile(inX, (dataSetSize,1)) will return[ [2,3],[2,3],[2,3],[2,3] ]\n",
    "    # diffMat is [[1,1],[1,-1],[-2,2],[-2,1]]\n",
    "    diffMat = tile(inX, (dataSetSize, 1)) - dataSet # tile로 test 점 4개로 만듦\n",
    "    \"\"\"\n",
    "    Tile(inX, (dataSetSize,1)) = [[2,3],[2,3],[2,3],[2,3]]\n",
    "    diffMat = [[2-1,3-4],[2-1,3-2],[2-4,3-1],[2-4,3-2]] # 두점사이의 차\n",
    "            = [[1,-1],[1,1],[-2,2],[-2,1]]\n",
    "    \n",
    "    sqDiffMat.sum = [[1^2 + (-1)^2],\n",
    "                     [1^2 + 1^2],\n",
    "                     [(-2)^2 + 2^2],\n",
    "                     [(-2)^2 + 1^2]]\n",
    "                  = [[2],\n",
    "                     [2],\n",
    "                     [8],\n",
    "                     [5]]\n",
    "    axis=1 # 0은행 / 1은열, 열의 집합으로 합(열끼리 합)\n",
    "    \"\"\"\n",
    "    \n",
    "    \n",
    "    # **2 means sqares\n",
    "    sqDiffMat = diffMat ** 2\n",
    "    # sqDistances = x^2 + y^2\n",
    "    sqDistances = sqDiffMat.sum(axis=1)\n",
    "    # distance is equal to the square root of the sum of the squares of the coordinates\n",
    "    # distance = [2,2,8,5]\n",
    "    distance = sqDistances ** 0.5\n",
    "    \n",
    "    # numpy.argsort() returns the indices that would sort an array\n",
    "    # here returns [0 1 3 2]\n",
    "    # argsort(), 작은 값부터 index를 부여한다\n",
    "    sortedDisIndices = distances.argsort()\n",
    "    return sortedDisIndices"
   ]
  },
  {
   "cell_type": "code",
   "execution_count": 25,
   "metadata": {
    "collapsed": true
   },
   "outputs": [],
   "source": [
    "def findMajorityClass(inX, dataSet, labels, k, sortedDistIndices):\n",
    "    classCount = {}\n",
    "    \n",
    "    # iterate k times from the closest item\n",
    "    for i in range(k):\n",
    "        votelabel = labels[sortedDistIndices[i]]\n",
    "        # increase +1 on the selected label\n",
    "        classCount[votelabel] = classCount.get(votelabel, 0) + 1\n",
    "    # {'Action':2, 'Romantic':1}\n",
    "    # sort ClassCount Descending order {'Action', 2}\n",
    "    return sorted(classCount.iteritems(), key=operator.itemgetter(1), reverse=True)"
   ]
  },
  {
   "cell_type": "code",
   "execution_count": null,
   "metadata": {
    "collapsed": false,
    "scrolled": false
   },
   "outputs": [],
   "source": [
    "group, label = createDataSet()\n",
    "result = classify0([2,3], group, labels, 3)\n",
    "print(result)"
   ]
  },
  {
   "cell_type": "markdown",
   "metadata": {},
   "source": [
    "- 위는 python2를 기준으로 짠 것 같다!! "
   ]
  },
  {
   "cell_type": "code",
   "execution_count": 34,
   "metadata": {
    "collapsed": false
   },
   "outputs": [
    {
     "name": "stdout",
     "output_type": "stream",
     "text": [
      "{'Action': 2, 'Romantic': 1}\n",
      "Action\n"
     ]
    }
   ],
   "source": [
    "from numpy import *\n",
    "import operator\n",
    "\n",
    "def createDataSet():\n",
    "    group = array([[1,2],[1,4],[4,1],[4,2]])\n",
    "    labels = ['Action','Action','Romantic','Romantic']\n",
    "    return group, labels\n",
    "\n",
    "def classify0(inX, dataSet, labels, k):\n",
    "    sortedDistances = calcDistance(inX, dataSet, labels, k)\n",
    "    sortedClassCount = findMajorityClass(inX, dataSet, labels, k, sortedDistances)\n",
    "    return sortedClassCount[0][0]\n",
    "\n",
    "def calcDistance(inX, dataSet, labels, k):\n",
    "    dataSetSize = dataSet.shape[0] \n",
    "    diffMat = tile(inX, (dataSetSize, 1)) - dataSet\n",
    "    sqDiffMat = diffMat ** 2\n",
    "    sqDistances = sqDiffMat.sum(axis=1)\n",
    "    distance = sqDistances ** 0.5\n",
    "    sortedDisIndices = distance.argsort()\n",
    "    return sortedDisIndices\n",
    "\n",
    "def findMajorityClass(inX, dataSet, labels, k, sortedDistIndices):\n",
    "    classCount = {}\n",
    "    \n",
    "    for i in range(k):\n",
    "        votelabel = labels[sortedDistIndices[i]]\n",
    "        classCount[votelabel] = classCount.get(votelabel, 0) + 1\n",
    "    \n",
    "    print(classCount)\n",
    "\n",
    "    return sorted(classCount.items(), key=operator.itemgetter(1), reverse=True)\n",
    "\n",
    "\n",
    "group, labels = createDataSet()\n",
    "result = classify0([2,3], group, labels, 3)\n",
    "print(result)"
   ]
  }
 ],
 "metadata": {
  "kernelspec": {
   "display_name": "Python 3",
   "language": "python",
   "name": "python3"
  },
  "language_info": {
   "codemirror_mode": {
    "name": "ipython",
    "version": 3
   },
   "file_extension": ".py",
   "mimetype": "text/x-python",
   "name": "python",
   "nbconvert_exporter": "python",
   "pygments_lexer": "ipython3",
   "version": "3.6.0"
  }
 },
 "nbformat": 4,
 "nbformat_minor": 2
}
