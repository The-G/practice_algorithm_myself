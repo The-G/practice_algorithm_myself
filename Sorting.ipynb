{
 "cells": [
  {
   "cell_type": "markdown",
   "metadata": {},
   "source": [
    "# Bubble Sort(거품 정렬)\n",
    "- performance : O($n^2$)   - performance 안 좋지...\n",
    "- space complexity : O(1)  - sqpping 을 위한 공간 1개 필요!!\n",
    "- 맨 뒤 부터 채움"
   ]
  },
  {
   "cell_type": "code",
   "execution_count": 9,
   "metadata": {
    "collapsed": false
   },
   "outputs": [
    {
     "name": "stdout",
     "output_type": "stream",
     "text": [
      "[4, 3, 1, 2]\n",
      "[3, 4, 1, 2]\n",
      "[3, 1, 4, 2]\n",
      "[3, 1, 2, 4]\n",
      "[1, 3, 2, 4]\n",
      "[1, 2, 3, 4]\n",
      "[1, 2, 3, 4]\n",
      "[1, 2, 3, 4]\n",
      "[1, 2, 3, 4]\n"
     ]
    },
    {
     "data": {
      "text/plain": [
       "[1, 2, 3, 4]"
      ]
     },
     "execution_count": 9,
     "metadata": {},
     "output_type": "execute_result"
    }
   ],
   "source": [
    "def bubblesort(arr):\n",
    "    for i in range(len(arr)-1):\n",
    "        for j in range(len(arr)-1):\n",
    "            print(arr)\n",
    "            if arr[j] > arr[j+1]:\n",
    "                arr[j], arr[j+1] = arr[j+1], arr[j]\n",
    "                            \n",
    "    return arr\n",
    "\n",
    "\n",
    "bubblesort([4,3,1,2])"
   ]
  },
  {
   "cell_type": "markdown",
   "metadata": {},
   "source": [
    "# Selection Sort (선택정렬)\n",
    "- Worst case performance : O($n^2$)\n",
    "- Best case performance : O($n^2$)\n",
    "- Average case performance : O($n^2$)\n",
    "- Worst case space complexity : O(n) total, O(1) auxiliary\n",
    "- 앞부터 채워준다."
   ]
  },
  {
   "cell_type": "code",
   "execution_count": 15,
   "metadata": {
    "collapsed": false
   },
   "outputs": [
    {
     "name": "stdout",
     "output_type": "stream",
     "text": [
      "[6, 5, 2, 4, 3, 1, 0]\n",
      "[0, 5, 2, 4, 3, 1, 6]\n",
      "[0, 1, 2, 4, 3, 5, 6]\n",
      "[0, 1, 2, 4, 3, 5, 6]\n",
      "[0, 1, 2, 3, 4, 5, 6]\n",
      "[0, 1, 2, 3, 4, 5, 6]\n"
     ]
    },
    {
     "data": {
      "text/plain": [
       "[0, 1, 2, 3, 4, 5, 6]"
      ]
     },
     "execution_count": 15,
     "metadata": {},
     "output_type": "execute_result"
    }
   ],
   "source": [
    "import unittest\n",
    "\n",
    "def selectionSort(input):\n",
    "    for i in range(len(input) - 1):\n",
    "        print(input)\n",
    "        idx_min = i # 초기 최소값 index 설정\n",
    "        j = i + 1\n",
    "        \n",
    "        # 최솟값 index 갱신 (마지막까지 비교하면서...)\n",
    "        while j < len(input):\n",
    "            if(input[j] < input[idx_min]):\n",
    "                idx_min = j\n",
    "            j = j + 1\n",
    "\n",
    "        # 최솟값 index의 변경이 있었으면 swapping\n",
    "        if idx_min is not i:\n",
    "            input[idx_min], input[i] = input[i], input[idx_min]\n",
    "\n",
    "    return input\n",
    "\n",
    "selectionSort([6,5,2,4,3,1,0])\n",
    "# 이런식으로 testing 하네!!!\n",
    "# class unit_test(unittest.TestCase):\n",
    "#     def test(self):\n",
    "#         self.assertEqual([1, 2, 3, 4, 5, 6], selectionSort([4, 6, 1, 3, 5, 2]))\n"
   ]
  },
  {
   "cell_type": "markdown",
   "metadata": {},
   "source": [
    "# Insertion Sort (삽입정렬)\n",
    "- 아주 간단하게 구현 할 수 있지만, 효율적이지 않음"
   ]
  },
  {
   "cell_type": "code",
   "execution_count": 17,
   "metadata": {
    "collapsed": false
   },
   "outputs": [
    {
     "name": "stdout",
     "output_type": "stream",
     "text": [
      "[5, 4, 3, 0, 1, 2]\n",
      "[4, 5, 3, 0, 1, 2]\n",
      "[3, 4, 5, 0, 1, 2]\n",
      "[0, 3, 4, 5, 1, 2]\n",
      "[0, 1, 3, 4, 5, 2]\n",
      "[0, 1, 2, 3, 4, 5]\n"
     ]
    },
    {
     "data": {
      "text/plain": [
       "[0, 1, 2, 3, 4, 5]"
      ]
     },
     "execution_count": 17,
     "metadata": {},
     "output_type": "execute_result"
    }
   ],
   "source": [
    "\n",
    "def insertion_sort(input):\n",
    "\n",
    "    for idx, valueToInsert in enumerate(input):\n",
    "        holePosition = idx # 시작위치!!\n",
    "\n",
    "        # 시작위치의 전값이 시작위치 값보다 작으면 계속 앞으로 가며 비교!!\n",
    "        while holePosition > 0 and input[holePosition-1] > valueToInsert:\n",
    "            input[holePosition - 1], input[holePosition] = input[holePosition], input[holePosition-1]\n",
    "            holePosition = holePosition - 1\n",
    "\n",
    "        print(input)\n",
    "\n",
    "    return input\n",
    "\n",
    "insertion_sort([5,4,3,0,1,2])"
   ]
  },
  {
   "cell_type": "markdown",
   "metadata": {},
   "source": [
    "# Merge Sort (병합정렬)\n",
    "- performance (n log n)\n",
    "\n",
    "\n",
    "1. Divide the unsorted list into n sublists, each containing 1 element (a list of 1 element is considered sorted) \n",
    "2. Repeatedly merge sublists to produce new sorted sublists until there is only 1 sublists remaining. This will be the sorted list."
   ]
  },
  {
   "cell_type": "code",
   "execution_count": 35,
   "metadata": {
    "collapsed": true
   },
   "outputs": [],
   "source": [
    "def mergeSort(arr):\n",
    "    print(\"Splitting \",arr)\n",
    "\n",
    "    if len(arr)>1:\n",
    "        mid = len(arr)//2\n",
    "        lefthalf = arr[:mid]\n",
    "        righthalf = arr[mid:]\n",
    "        \n",
    "        mergeSort(lefthalf)\n",
    "        mergeSort(righthalf)\n",
    "        ## (upper)divide list to sublist containing 1 element using Recursion ##\n",
    "        \n",
    "        i=0\n",
    "        j=0\n",
    "        k=0\n",
    "        ## element 2개 이상 포함한 array 끼리 비교해서 merge 할 때 사용되는 코드 ##\n",
    "        while i < len(lefthalf) and j < len(righthalf):\n",
    "            if lefthalf[i] < righthalf[j]:\n",
    "                arr[k]=lefthalf[i]\n",
    "                i=i+1\n",
    "            else:\n",
    "                arr[k]=righthalf[j]\n",
    "                j=j+1\n",
    "            k=k+1\n",
    "        print(\"merge 1 =>\", arr)\n",
    "        ## 양쪽 array 비교 후 남은 것이 있으면 sort 없이 바로 붙여주기!! ## \n",
    "        while i < len(lefthalf):\n",
    "            arr[k]=lefthalf[i]\n",
    "            i=i+1\n",
    "            k=k+1\n",
    "        while j < len(righthalf):\n",
    "            arr[k]=righthalf[j]\n",
    "            j=j+1\n",
    "            k=k+1\n",
    "        print(\"merge 2 =>\", arr)\n",
    "            \n",
    "    print(\"Merging \",arr)"
   ]
  },
  {
   "cell_type": "code",
   "execution_count": 37,
   "metadata": {
    "collapsed": false
   },
   "outputs": [
    {
     "name": "stdout",
     "output_type": "stream",
     "text": [
      "Splitting  [5, 4, 3, 1, 2, 0]\n",
      "Splitting  [5, 4, 3]\n",
      "Splitting  [5]\n",
      "Merging  [5]\n",
      "Splitting  [4, 3]\n",
      "Splitting  [4]\n",
      "Merging  [4]\n",
      "Splitting  [3]\n",
      "Merging  [3]\n",
      "merge 1 => [3, 3]\n",
      "merge 2 => [3, 4]\n",
      "Merging  [3, 4]\n",
      "merge 1 => [3, 4, 3]\n",
      "merge 2 => [3, 4, 5]\n",
      "Merging  [3, 4, 5]\n",
      "Splitting  [1, 2, 0]\n",
      "Splitting  [1]\n",
      "Merging  [1]\n",
      "Splitting  [2, 0]\n",
      "Splitting  [2]\n",
      "Merging  [2]\n",
      "Splitting  [0]\n",
      "Merging  [0]\n",
      "merge 1 => [0, 0]\n",
      "merge 2 => [0, 2]\n",
      "Merging  [0, 2]\n",
      "merge 1 => [0, 1, 0]\n",
      "merge 2 => [0, 1, 2]\n",
      "Merging  [0, 1, 2]\n",
      "merge 1 => [0, 1, 2, 1, 2, 0]\n",
      "merge 2 => [0, 1, 2, 3, 4, 5]\n",
      "Merging  [0, 1, 2, 3, 4, 5]\n",
      "[0, 1, 2, 3, 4, 5]\n"
     ]
    }
   ],
   "source": [
    "arr = [5,4,3,1,2,0]\n",
    "mergeSort(arr)\n",
    "print(arr)"
   ]
  },
  {
   "cell_type": "markdown",
   "metadata": {},
   "source": [
    "- another merge sort code (이 코드가 좀 더 이해하기 쉬움!)"
   ]
  },
  {
   "cell_type": "code",
   "execution_count": 44,
   "metadata": {
    "collapsed": true
   },
   "outputs": [],
   "source": [
    "# Code for the merge subroutine\n",
    "\n",
    "def merge(a,b):\n",
    "    \"\"\" Function to merge two arrays \"\"\"\n",
    "    c = []\n",
    "    while len(a) != 0 and len(b) != 0:\n",
    "        if a[0] < b[0]:\n",
    "            c.append(a[0])\n",
    "            a.remove(a[0])\n",
    "        else:\n",
    "            c.append(b[0])\n",
    "            b.remove(b[0])\n",
    "    # 나머지 처리!! \n",
    "    if len(a) == 0:\n",
    "        c += b\n",
    "    else:\n",
    "        c += a\n",
    "    \n",
    "    print(\"merge : \", c)\n",
    "    return c\n",
    "    \n",
    "\n",
    "# Code for merge sort\n",
    "\n",
    "def mergesort(x):\n",
    "    \"\"\" Function to sort an array using merge sort algorithm \"\"\"\n",
    "    print(\"split : \", x)\n",
    "    if len(x) == 0 or len(x) == 1:\n",
    "        return x\n",
    "    else:\n",
    "        middle = len(x)//2\n",
    "        a = mergesort(x[:middle])\n",
    "        b = mergesort(x[middle:])\n",
    "        return merge(a,b)"
   ]
  },
  {
   "cell_type": "code",
   "execution_count": 46,
   "metadata": {
    "collapsed": false
   },
   "outputs": [
    {
     "name": "stdout",
     "output_type": "stream",
     "text": [
      "split :  [8, 7, 6, 5, 4, 3, 2, 1]\n",
      "split :  [8, 7, 6, 5]\n",
      "split :  [8, 7]\n",
      "split :  [8]\n",
      "split :  [7]\n",
      "merge :  [7, 8]\n",
      "split :  [6, 5]\n",
      "split :  [6]\n",
      "split :  [5]\n",
      "merge :  [5, 6]\n",
      "merge :  [5, 6, 7, 8]\n",
      "split :  [4, 3, 2, 1]\n",
      "split :  [4, 3]\n",
      "split :  [4]\n",
      "split :  [3]\n",
      "merge :  [3, 4]\n",
      "split :  [2, 1]\n",
      "split :  [2]\n",
      "split :  [1]\n",
      "merge :  [1, 2]\n",
      "merge :  [1, 2, 3, 4]\n",
      "merge :  [1, 2, 3, 4, 5, 6, 7, 8]\n"
     ]
    },
    {
     "data": {
      "text/plain": [
       "[1, 2, 3, 4, 5, 6, 7, 8]"
      ]
     },
     "execution_count": 46,
     "metadata": {},
     "output_type": "execute_result"
    }
   ],
   "source": [
    "mergesort([8,7,6,5,4,3,2,1])"
   ]
  },
  {
   "cell_type": "markdown",
   "metadata": {},
   "source": [
    "# Quick Sort (퀵 정렬)\n",
    "- performance : O(n log n), worst case O(n^2)(이미 정렬되어 있는 경우)\n",
    "- space complexity : O(n)\n",
    "1. Find Pivot, move items smaller than pivot to the left side of pivot, move items greater than pivot to the right side of pivot.\n",
    "2. Repeatedly do step 1 from both left side items and right side items."
   ]
  },
  {
   "cell_type": "code",
   "execution_count": 63,
   "metadata": {
    "collapsed": false
   },
   "outputs": [
    {
     "name": "stdout",
     "output_type": "stream",
     "text": [
      "list :  [1, 5, 8, 6, 2, 4, 2, 7, 8, 3]\n",
      "pivot :  3\n",
      "left :  [1, 2, 2]\n",
      "list :  [1, 2, 2, 3, 5, 4, 8, 7, 8, 6]\n",
      "pivot :  2\n",
      "left :  [1]\n",
      "list :  [1, 2, 2, 3, 5, 4, 8, 7, 8, 6]\n",
      "right :  [2]\n",
      "list :  [1, 2, 2, 3, 5, 4, 8, 7, 8, 6]\n",
      "right :  [5, 4, 8, 7, 8, 6]\n",
      "list :  [1, 2, 2, 3, 5, 4, 8, 7, 8, 6]\n",
      "pivot :  6\n",
      "left :  [5, 4]\n",
      "list :  [1, 2, 2, 3, 5, 4, 6, 7, 8, 8]\n",
      "pivot :  4\n",
      "left :  []\n",
      "list :  [1, 2, 2, 3, 4, 5, 6, 7, 8, 8]\n",
      "right :  [5]\n",
      "list :  [1, 2, 2, 3, 4, 5, 6, 7, 8, 8]\n",
      "right :  [7, 8, 8]\n",
      "list :  [1, 2, 2, 3, 4, 5, 6, 7, 8, 8]\n",
      "pivot :  8\n",
      "left :  [7]\n",
      "list :  [1, 2, 2, 3, 4, 5, 6, 7, 8, 8]\n",
      "right :  [8]\n",
      "list :  [1, 2, 2, 3, 4, 5, 6, 7, 8, 8]\n"
     ]
    },
    {
     "data": {
      "text/plain": [
       "[1, 2, 2, 3, 4, 5, 6, 7, 8, 8]"
      ]
     },
     "execution_count": 63,
     "metadata": {},
     "output_type": "execute_result"
    }
   ],
   "source": [
    "import unittest\n",
    "\n",
    "def quick_sort(list, start, end):\n",
    "    # repeat until sublist has one item\n",
    "    # because the algorithm is using in-place space, we can not use len(list) instead we use start, end for sublist\n",
    "    print(\"list : \", list)\n",
    "    if start < end:\n",
    "        # get pivot using partition method\n",
    "        pivot = partition(list, start, end)\n",
    "        # recurse quick sort left side from pivot\n",
    "        print(\"left : \",list[start:pivot])\n",
    "        quick_sort(list, start, pivot-1)\n",
    "        # recurse quick sort right side from pivot\n",
    "        print(\"right : \",list[pivot+1: end+1])\n",
    "        quick_sort(list,pivot+1, end)\n",
    "    \n",
    "    return list\n",
    "\n",
    "def partition(list, start, end):\n",
    "    # use end item as initial pivot\n",
    "    pivot = end\n",
    "    print(\"pivot : \",list[pivot])\n",
    "    # use start as initial wall index\n",
    "    wall = start\n",
    "    left = start\n",
    "    # repeat until left item hit the end of list\n",
    "    while left < pivot:\n",
    "        # if left item is smaller than pivot, swap left item with wall and move wall to right\n",
    "        # this will ensure items smaller than pivot stay left side from the wall and\n",
    "        # the items greater than pivot stay right side from the wall\n",
    "        if list[left] < list[pivot]:\n",
    "            list[wall], list[left] = list[left], list[wall]\n",
    "            wall = wall + 1\n",
    "        left = left + 1\n",
    "    # when left hit the end of list, swap pivot with wall\n",
    "    list[wall], list[pivot] = list[pivot], list[wall]\n",
    "    # now left side of wall are the items smaller than wall\n",
    "    # now right side of pivot are the items greater than wall\n",
    "    # wall is the new pivot\n",
    "    pivot = wall\n",
    "    return pivot\n",
    "\n",
    "list = [1,5,8,6,2,4,2,7,8,3]\n",
    "quick_sort(list,0,len(list)-1)\n"
   ]
  },
  {
   "cell_type": "markdown",
   "metadata": {},
   "source": [
    "피벗(pivot, 기준값) 원소를 정하여 피벗보다 작은 값은 피벗 앞 쪽에, 피벗보다 큰 값은 피벗 뒤 쪽에 오도록 한다. \n",
    "피벗 양 쪽 배열에 대해 같은 작업을 반복해나간다. \n",
    "분할 정복 방법의 일봉이며, 재귀 호출이 진행될 때 마다 최소한 하나의 원소(피벅)는 최종적으로 위치가 정해진다. 병합정렬은 데이터를 쪼갠 뒤 합치는 과정에서 정렬하지만, 퀵정렬은 데이터를 쪼개면서 정렬한다. "
   ]
  },
  {
   "cell_type": "code",
   "execution_count": 6,
   "metadata": {
    "collapsed": true
   },
   "outputs": [],
   "source": [
    "def swap(x, i, j):\n",
    "    x[i], x[j] = x[j], x[i]\n",
    "\n",
    "def pivotFirst(x, lmark, rmark):\n",
    "    pivot_val = x[lmark]\n",
    "    pivot_idx = lmark\n",
    "    while lmark <= rmark:\n",
    "        while lmark <= rmark and x[lmark] <= pivot_val:\n",
    "            lmark += 1\n",
    "        while lmark <= rmark and x[rmark] >= pivot_val:\n",
    "            rmark -= 1\n",
    "        if lmark <= rmark:\n",
    "            swap(x, lmark, rmark)\n",
    "            lmark += 1\n",
    "            rmark -= 1\n",
    "    swap(x, pivot_idx, rmark)\n",
    "    return rmark\n",
    "\n",
    "def quickSort(x, pivotMethod=pivotFirst):\n",
    "    def _qsort(x, first, last):\n",
    "        if first < last:\n",
    "            splitpoint = pivotMethod(x, first, last)\n",
    "            _qsort(x, first, splitpoint-1)\n",
    "            _qsort(x, splitpoint+1, last)\n",
    "    _qsort(x, 0, len(x)-1)"
   ]
  },
  {
   "cell_type": "code",
   "execution_count": 7,
   "metadata": {
    "collapsed": true
   },
   "outputs": [],
   "source": [
    "x = [2,4,5,4,1,5,74,1,2,6,8,4,21,5,4,1,58]"
   ]
  },
  {
   "cell_type": "code",
   "execution_count": 8,
   "metadata": {
    "collapsed": false
   },
   "outputs": [
    {
     "data": {
      "text/plain": [
       "[1, 1, 1, 2, 2, 4, 4, 4, 4, 5, 5, 5, 6, 8, 21, 58, 74]"
      ]
     },
     "execution_count": 8,
     "metadata": {},
     "output_type": "execute_result"
    }
   ],
   "source": [
    "quickSort(x)\n",
    "x"
   ]
  },
  {
   "cell_type": "code",
   "execution_count": 29,
   "metadata": {
    "collapsed": true
   },
   "outputs": [],
   "source": [
    "def quickSort(alist):\n",
    "    quickSortHelper(alist,0,len(alist)-1) # index 0(first)부터 ~ 마지막(last)까지\n",
    "\n",
    "def quickSortHelper(alist,first,last):\n",
    "    # 만약 first가 last보다 작으면 (첫 index가 마지막 index 보다 작으면)\n",
    "    if first<last: \n",
    "        # splitpoint를 잡는다. partition을 통해서.\n",
    "        splitpoint = partition(alist,first,last)\n",
    "  \n",
    "        quickSortHelper(alist,first,splitpoint-1)\n",
    "        quickSortHelper(alist,splitpoint+1,last)\n",
    "\n",
    "def partition(alist,first,last):\n",
    "    pivotvalue = alist[first]\n",
    "\n",
    "    leftmark = first+1\n",
    "    rightmark = last\n",
    "\n",
    "    done = False\n",
    "    while not done:\n",
    "\n",
    "        while leftmark <= rightmark and alist[leftmark] <= pivotvalue:\n",
    "            leftmark = leftmark + 1\n",
    "            print(alist)\n",
    "\n",
    "        while alist[rightmark] >= pivotvalue and rightmark >= leftmark:\n",
    "            rightmark = rightmark -1\n",
    "            print(alist)\n",
    "\n",
    "        if rightmark < leftmark:\n",
    "            done = True\n",
    "        else:\n",
    "            temp = alist[leftmark]\n",
    "            alist[leftmark] = alist[rightmark]\n",
    "            alist[rightmark] = temp\n",
    "        \n",
    "        print(alist)\n",
    "        \n",
    "    temp = alist[first]\n",
    "    alist[first] = alist[rightmark]\n",
    "    alist[rightmark] = temp\n",
    "\n",
    "    return rightmark"
   ]
  },
  {
   "cell_type": "code",
   "execution_count": 30,
   "metadata": {
    "collapsed": false
   },
   "outputs": [
    {
     "name": "stdout",
     "output_type": "stream",
     "text": [
      "[54, 26, 93, 17, 77, 31, 44, 55, 20]\n",
      "[54, 26, 20, 17, 77, 31, 44, 55, 93]\n",
      "[54, 26, 20, 17, 77, 31, 44, 55, 93]\n",
      "[54, 26, 20, 17, 77, 31, 44, 55, 93]\n",
      "[54, 26, 20, 17, 77, 31, 44, 55, 93]\n",
      "[54, 26, 20, 17, 77, 31, 44, 55, 93]\n",
      "[54, 26, 20, 17, 44, 31, 77, 55, 93]\n",
      "[54, 26, 20, 17, 44, 31, 77, 55, 93]\n",
      "[54, 26, 20, 17, 44, 31, 77, 55, 93]\n",
      "[54, 26, 20, 17, 44, 31, 77, 55, 93]\n",
      "[54, 26, 20, 17, 44, 31, 77, 55, 93]\n",
      "[31, 26, 20, 17, 44, 54, 77, 55, 93]\n",
      "[31, 26, 20, 17, 44, 54, 77, 55, 93]\n",
      "[31, 26, 20, 17, 44, 54, 77, 55, 93]\n",
      "[31, 26, 20, 17, 44, 54, 77, 55, 93]\n",
      "[31, 26, 20, 17, 44, 54, 77, 55, 93]\n",
      "[17, 26, 20, 31, 44, 54, 77, 55, 93]\n",
      "[17, 26, 20, 31, 44, 54, 77, 55, 93]\n",
      "[17, 26, 20, 31, 44, 54, 77, 55, 93]\n",
      "[17, 26, 20, 31, 44, 54, 77, 55, 93]\n",
      "[17, 26, 20, 31, 44, 54, 77, 55, 93]\n",
      "[17, 20, 26, 31, 44, 54, 77, 55, 93]\n",
      "[17, 20, 26, 31, 44, 54, 77, 55, 93]\n",
      "[17, 20, 26, 31, 44, 54, 77, 55, 93]\n",
      "[17, 20, 26, 31, 44, 54, 55, 77, 93]\n"
     ]
    }
   ],
   "source": [
    "alist = [54,26,93,17,77,31,44,55,20]\n",
    "quickSort(alist)\n",
    "print(alist)"
   ]
  },
  {
   "cell_type": "code",
   "execution_count": null,
   "metadata": {
    "collapsed": true
   },
   "outputs": [],
   "source": []
  },
  {
   "cell_type": "code",
   "execution_count": 20,
   "metadata": {
    "collapsed": true
   },
   "outputs": [],
   "source": [
    "def quicksort(x):\n",
    "    if len(x) == 1 or len(x) == 0:\n",
    "        return x\n",
    "    else:\n",
    "        pivot = x[0]\n",
    "        i = 0\n",
    "        for j in range(len(x)-1):\n",
    "            if x[j+1] < pivot:\n",
    "                x[j+1],x[i+1] = x[i+1], x[j+1]\n",
    "                i += 1\n",
    "        x[0],x[i] = x[i],x[0]\n",
    "        first_part = quicksort(x[:i])\n",
    "        second_part = quicksort(x[i+1:])\n",
    "        first_part.append(x[i])\n",
    "        print(first_part + second_part)\n",
    "        return first_part + second_part\n",
    "        "
   ]
  },
  {
   "cell_type": "code",
   "execution_count": 21,
   "metadata": {
    "collapsed": false
   },
   "outputs": [
    {
     "name": "stdout",
     "output_type": "stream",
     "text": [
      "[31, 44]\n",
      "[26, 31, 44]\n",
      "[17, 20, 26, 31, 44]\n",
      "[55, 77, 93]\n",
      "[17, 20, 26, 31, 44, 54, 55, 77, 93]\n"
     ]
    },
    {
     "data": {
      "text/plain": [
       "[17, 20, 26, 31, 44, 54, 55, 77, 93]"
      ]
     },
     "execution_count": 21,
     "metadata": {},
     "output_type": "execute_result"
    }
   ],
   "source": [
    "alist = [54,26,93,17,77,31,44,55,20]\n",
    "quicksort(alist)"
   ]
  },
  {
   "cell_type": "code",
   "execution_count": 22,
   "metadata": {
    "collapsed": false
   },
   "outputs": [
    {
     "name": "stdout",
     "output_type": "stream",
     "text": [
      "[20, 26, 17, 31, 44, 54, 77, 55, 93]\n"
     ]
    }
   ],
   "source": [
    "print(alist)"
   ]
  },
  {
   "cell_type": "markdown",
   "metadata": {},
   "source": [
    "### Quick Sort Example\n",
    "- 피벗은 p, 리스트 왼쪽 끝과 오른쪽 끝에서 시작한 인덱스들을 i,j라고 하자.\n",
    "            5 - 3 - 7 - 6 - 2 - 1 - 4    \n",
    "                                    p \n",
    "                                    \n",
    "- 리스트 왼쪽에 있는 i 위치의 값이 피벗 값보다 크고, 오른쪽에 있는 j 위치의 값은 피벗 값보다 작으므로 둘을 교환한다.\n",
    "\n",
    "            5 - 3 - 7 - 6 - 2 - 1 - 4 \n",
    "            i                   j   p \n",
    "            1 - 3 - 7 - 6 - 2 - 5 - 4 \n",
    "            i                   j   p \n",
    "            \n",
    "- j 위치의 값이 피벗 값보다 작지만, **i 위치의 값도 피벗값보다 작으므로 교환하지 않는다.**\n",
    "\n",
    "            1 - 3 - 7 - 6 - 2 - 5 - 4 \n",
    "                i           j       p \n",
    "                \n",
    "- i위치를 피벗 값보다 큰 값이 나올 때 까지 진행해 j 위치의 값과 교환한다.\n",
    "\n",
    "            1 - 3 - 7 - 6 - 2 - 5 - 4 \n",
    "                    i       j       p \n",
    "            1 - 3 - 2 - 6 - 7 - 5 - 4  \n",
    "                    i       j       p \n",
    "                    \n",
    "- **i위치가 j 위치보다 같거나 커지면, i 위치의 값과 피벗 값을 교환**한다.\n",
    "\n",
    "            1 - 3 - 2 - 6 - 7 - 5 - 4 \n",
    "                                    p \n",
    "            1 - 3 - 2 - 4 - 7 - 5 - 6 \n",
    "                        p         \n",
    "                        \n",
    "- 피벗 값 좌우의 리스트에 대해 각각 퀵 정렬을 재귀적으로 수행한다.\n",
    "\n",
    "            1 - 3 - 2 \n",
    "            1 - 2 - 3 \n",
    "            \n",
    "- 완성된 리스트는 다음과 같다.\n",
    "\n",
    "            1 - 2 - 3 - 4 - 5 - 6 - 7"
   ]
  },
  {
   "cell_type": "markdown",
   "metadata": {},
   "source": [
    "- 이게 간단하니 좋네!! "
   ]
  },
  {
   "cell_type": "code",
   "execution_count": 85,
   "metadata": {
    "collapsed": true
   },
   "outputs": [],
   "source": [
    "def quicksort3(x):\n",
    "    \n",
    "    # 만약 배열의 원소 개수가 1보다 작거나 같으면 배열을 return한다!\n",
    "    if len(x) <= 1:\n",
    "        return x\n",
    "    \n",
    "    # pivot을 배열의 중앙값으로 잡고\n",
    "    pivot = x[len(x) // 2]\n",
    "    less = []\n",
    "    more = []\n",
    "    equal = []     \n",
    "\n",
    "    # x 배열에서 원소를 하나씩 꺼내서 a라고 한다.\n",
    "    for a in x:\n",
    "        # 만약 원소값이 중앙에 있는 값보다 작으면 less에 추가한다.\n",
    "        if a < pivot:\n",
    "            less.append(a)\n",
    "\n",
    "        #만약 원소값이 중앙에 있는 값보다 크면 more에 추가한다.\n",
    "        elif a > pivot:\n",
    "            more.append(a)\n",
    "\n",
    "        # 원소가 중앙값과 같아서 equal에 추가한다. \n",
    "        else:\n",
    "            equal.append(a)\n",
    "    print(\"list : \", x)\n",
    "    print(\"pivot : \", pivot)\n",
    "    print(\"left : \", less)\n",
    "    print(\"equal : \", equal)\n",
    "    print(\"right : \", more)\n",
    "        \n",
    "    # less에 대해서 똑같이 중앙값을 잡고 less와 more를 만든다.\n",
    "    # more에 대해서 똑같이 중앙값을 잡고 less와 more를 만든다.\n",
    "    return quicksort3(less) + equal + quicksort3(more)"
   ]
  },
  {
   "cell_type": "code",
   "execution_count": 86,
   "metadata": {
    "collapsed": false
   },
   "outputs": [
    {
     "name": "stdout",
     "output_type": "stream",
     "text": [
      "list :  [54, 26, 93, 17, 77, 31, 44, 55, 20]\n",
      "pivot :  77\n",
      "left :  [54, 26, 17, 31, 44, 55, 20]\n",
      "equal :  [77]\n",
      "right :  [93]\n",
      "list :  [54, 26, 17, 31, 44, 55, 20]\n",
      "pivot :  31\n",
      "left :  [26, 17, 20]\n",
      "equal :  [31]\n",
      "right :  [54, 44, 55]\n",
      "list :  [26, 17, 20]\n",
      "pivot :  17\n",
      "left :  []\n",
      "equal :  [17]\n",
      "right :  [26, 20]\n",
      "list :  [26, 20]\n",
      "pivot :  20\n",
      "left :  []\n",
      "equal :  [20]\n",
      "right :  [26]\n",
      "list :  [54, 44, 55]\n",
      "pivot :  44\n",
      "left :  []\n",
      "equal :  [44]\n",
      "right :  [54, 55]\n",
      "list :  [54, 55]\n",
      "pivot :  55\n",
      "left :  [54]\n",
      "equal :  [55]\n",
      "right :  []\n"
     ]
    },
    {
     "data": {
      "text/plain": [
       "[17, 20, 26, 31, 44, 54, 55, 77, 93]"
      ]
     },
     "execution_count": 86,
     "metadata": {},
     "output_type": "execute_result"
    }
   ],
   "source": [
    "alist = [54,26,93,17,77,31,44,55,20]\n",
    "quicksort3(alist)"
   ]
  },
  {
   "cell_type": "markdown",
   "metadata": {
    "collapsed": true
   },
   "source": [
    "---"
   ]
  },
  {
   "cell_type": "markdown",
   "metadata": {
    "collapsed": true
   },
   "source": [
    "# Heap Sort\n",
    " 최대 힙 트리나 최소 힙 트리를 구성해 정렬을 하는 방법으로서, 내림차순 정렬을 위해서는 최소 힙을 구성하고 오름차순 정렬을 위해서는 최대 힙을 구성하면 된다. 최대 힙을 구성하여 정렬하는 방법은 아래 예와 같다.\n",
    "  1. n개의 노드에 대한 완전 이진 트리를 구성한다. 이때 루트 노드부터 부노드, 왼쪽 자노드, 오른쪽 자노드 순으로 구성한다. \n",
    "  2. 최대 힙을 구성한다. 최대 힙이란 부노드가 지노드보다 큰 트리를 말하는데, 단말 노드를 자노드로 가진 부노드부터 구성하며 아래부터 루트까지 올라오며 순차적으로 만들어 갈 수 있다.\n",
    "  3. 가장 큰 수(루트에 위치)를 가장 작은 수와 교환한다.\n",
    "  4. 2와 3을 반복한다. "
   ]
  },
  {
   "cell_type": "code",
   "execution_count": 54,
   "metadata": {
    "collapsed": false
   },
   "outputs": [],
   "source": [
    "def heapsort(aList):\n",
    "    # convert aList to heap\n",
    "    length = len(aList) - 1 # 배열 개수 구하고\n",
    "    leastParent = length // 2 # 최소 parent node 개수를 구함!\n",
    "    for i in range(leastParent, -1, -1): # index, [10, 9, 8, 7, 6, 5, 4, 3, 2, 1, 0]\n",
    "        # node 개수 절반만큼 moveDown을 반복한다.\n",
    "        moveDown( aList, i, length )\n",
    "    print(\"after make heap:\", aList)\n",
    "    \n",
    "    # flatten heap into sorted array\n",
    "    for i in range ( length, 0, -1 ):\n",
    "        if aList[0] > aList[i]:\n",
    "            swap( aList, 0, i )\n",
    "            moveDown( aList, 0, i - 1 )\n",
    " \n",
    " \n",
    "def moveDown(aList, first, last): # aList / first:node의 중간 index / last:마지막 node index \n",
    "    largest = 2 * first + 1 # large\n",
    "    while largest <= last:\n",
    "        # (right child exists) and (is larger than left child)\n",
    "        if( largest < last ) and ( aList[largest] < aList[largest + 1] ):\n",
    "            largest += 1\n",
    "\n",
    "        # right child is larger than parent\n",
    "        if aList[largest] > aList[first]:\n",
    "            swap( aList, largest, first )\n",
    "            # move down to largest child\n",
    "            first = largest;\n",
    "            largest = 2 * first + 1\n",
    "        else:\n",
    "            return # force exit\n",
    "\n",
    "def swap( A, x, y ):\n",
    "    A[x], A[y] = A[y], A[x]\n"
   ]
  },
  {
   "cell_type": "code",
   "execution_count": 55,
   "metadata": {
    "collapsed": false
   },
   "outputs": [
    {
     "name": "stdout",
     "output_type": "stream",
     "text": [
      "[8, 5, 3, 1, 9, 6, 0, 7, 4, 2, 5]\n",
      "after make heap: [9, 8, 6, 7, 5, 3, 0, 1, 4, 2, 5]\n",
      "[0, 1, 2, 3, 4, 5, 5, 6, 7, 8, 9]\n"
     ]
    }
   ],
   "source": [
    "A = [8, 5, 3, 1, 9, 6, 0, 7, 4, 2, 5]\n",
    "print(A)\n",
    "heapsort( A )\n",
    "print(A)"
   ]
  },
  {
   "cell_type": "code",
   "execution_count": 26,
   "metadata": {
    "collapsed": false
   },
   "outputs": [],
   "source": [
    "import unittest\n",
    "\n",
    "class Test( unittest.TestCase ):\n",
    "    def testHeapsort( self ):\n",
    "        A = [8, 5, 3, 1, 9, 6, 0, 7, 4, 2, 5]\n",
    "        print(A)\n",
    "        heapsort( A )\n",
    "        print(A)\n",
    "        for i in range( 1, len( A ) ):\n",
    "            if A[i - 1] > A[i]:\n",
    "                self.fail( \"heapsort method fails.\" )"
   ]
  },
  {
   "cell_type": "markdown",
   "metadata": {},
   "source": [
    "reference : http://www.bogotobogo.com/Algorithms/heapsort.php"
   ]
  },
  {
   "cell_type": "markdown",
   "metadata": {},
   "source": [
    "# Shell Sort\n",
    "쉘 정렬은 다음과 같은 과정으로 나눈다.\n",
    "1. 데이터를 십수개 정도 듬성듬성 나누어서 삽입 정렬한다.\n",
    "2. 데이터를 다시 잘게 나누어서 삽입 정렬한다,\n",
    "3. 이렇게 계속 하여 마침내 정렬이 된다. "
   ]
  },
  {
   "cell_type": "code",
   "execution_count": 66,
   "metadata": {
    "collapsed": true
   },
   "outputs": [],
   "source": [
    "def gapInsertionSort(x, start, gap):\n",
    "    for target in range(start+gap, len(x), gap):\n",
    "        val = x[target]\n",
    "        i = target\n",
    "        while i > start:\n",
    "            if x[i-gap] > val:\n",
    "                x[i] = x[i-gap]\n",
    "            else:\n",
    "                break\n",
    "            i -= gap\n",
    "        x[i] = val\n",
    "\n",
    "def shellSort(x):\n",
    "    gap = len(x) // 2\n",
    "    while gap > 0:\n",
    "        for start in range(gap):\n",
    "            gapInsertionSort(x, start, gap)\n",
    "        gap = gap // 2"
   ]
  },
  {
   "cell_type": "code",
   "execution_count": 68,
   "metadata": {
    "collapsed": true
   },
   "outputs": [],
   "source": [
    "a = [8, 5, 3, 1, 9, 6, 0, 7, 4, 2, 5]\n",
    "shellSort(a)"
   ]
  },
  {
   "cell_type": "code",
   "execution_count": 69,
   "metadata": {
    "collapsed": false
   },
   "outputs": [
    {
     "data": {
      "text/plain": [
       "[0, 1, 2, 3, 4, 5, 5, 6, 7, 8, 9]"
      ]
     },
     "execution_count": 69,
     "metadata": {},
     "output_type": "execute_result"
    }
   ],
   "source": [
    "a"
   ]
  }
 ],
 "metadata": {
  "kernelspec": {
   "display_name": "Python 3",
   "language": "python",
   "name": "python3"
  },
  "language_info": {
   "codemirror_mode": {
    "name": "ipython",
    "version": 3
   },
   "file_extension": ".py",
   "mimetype": "text/x-python",
   "name": "python",
   "nbconvert_exporter": "python",
   "pygments_lexer": "ipython3",
   "version": "3.6.0"
  }
 },
 "nbformat": 4,
 "nbformat_minor": 2
}
