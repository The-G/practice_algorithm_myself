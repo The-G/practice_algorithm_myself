{
 "cells": [
  {
   "cell_type": "markdown",
   "metadata": {},
   "source": [
    "# Quick Sort (퀵 정렬)"
   ]
  },
  {
   "cell_type": "markdown",
   "metadata": {},
   "source": [
    "피벗(pivot, 기준값) 원소를 정하여 피벗보다 작은 값은 피벗 앞 쪽에, 피벗보다 큰 값은 피벗 뒤 쪽에 오도록 한다. \n",
    "피벗 양 쪽 배열에 대해 같은 작업을 반복해나간다. \n",
    "분할 정복 방법의 일봉이며, 재귀 호출이 진행될 때 마다 최소한 하나의 원소(피벅)는 최종적으로 위치가 정해진다. 병합정렬은 데이터를 쪼갠 뒤 합치는 과정에서 정렬하지만, 퀵정렬은 데이터를 쪼개면서 정렬한다. "
   ]
  },
  {
   "cell_type": "code",
   "execution_count": 6,
   "metadata": {
    "collapsed": true
   },
   "outputs": [],
   "source": [
    "def swap(x, i, j):\n",
    "    x[i], x[j] = x[j], x[i]\n",
    "\n",
    "def pivotFirst(x, lmark, rmark):\n",
    "    pivot_val = x[lmark]\n",
    "    pivot_idx = lmark\n",
    "    while lmark <= rmark:\n",
    "        while lmark <= rmark and x[lmark] <= pivot_val:\n",
    "            lmark += 1\n",
    "        while lmark <= rmark and x[rmark] >= pivot_val:\n",
    "            rmark -= 1\n",
    "        if lmark <= rmark:\n",
    "            swap(x, lmark, rmark)\n",
    "            lmark += 1\n",
    "            rmark -= 1\n",
    "    swap(x, pivot_idx, rmark)\n",
    "    return rmark\n",
    "\n",
    "def quickSort(x, pivotMethod=pivotFirst):\n",
    "    def _qsort(x, first, last):\n",
    "        if first < last:\n",
    "            splitpoint = pivotMethod(x, first, last)\n",
    "            _qsort(x, first, splitpoint-1)\n",
    "            _qsort(x, splitpoint+1, last)\n",
    "    _qsort(x, 0, len(x)-1)"
   ]
  },
  {
   "cell_type": "code",
   "execution_count": 7,
   "metadata": {
    "collapsed": true
   },
   "outputs": [],
   "source": [
    "x = [2,4,5,4,1,5,74,1,2,6,8,4,21,5,4,1,58]"
   ]
  },
  {
   "cell_type": "code",
   "execution_count": 8,
   "metadata": {
    "collapsed": false
   },
   "outputs": [
    {
     "data": {
      "text/plain": [
       "[1, 1, 1, 2, 2, 4, 4, 4, 4, 5, 5, 5, 6, 8, 21, 58, 74]"
      ]
     },
     "execution_count": 8,
     "metadata": {},
     "output_type": "execute_result"
    }
   ],
   "source": [
    "quickSort(x)\n",
    "x"
   ]
  },
  {
   "cell_type": "code",
   "execution_count": 29,
   "metadata": {
    "collapsed": true
   },
   "outputs": [],
   "source": [
    "def quickSort(alist):\n",
    "    quickSortHelper(alist,0,len(alist)-1) # index 0(first)부터 ~ 마지막(last)까지\n",
    "\n",
    "def quickSortHelper(alist,first,last):\n",
    "    # 만약 first가 last보다 작으면 (첫 index가 마지막 index 보다 작으면)\n",
    "    if first<last: \n",
    "        # splitpoint를 잡는다. partition을 통해서.\n",
    "        splitpoint = partition(alist,first,last)\n",
    "  \n",
    "        quickSortHelper(alist,first,splitpoint-1)\n",
    "        quickSortHelper(alist,splitpoint+1,last)\n",
    "\n",
    "def partition(alist,first,last):\n",
    "    pivotvalue = alist[first]\n",
    "\n",
    "    leftmark = first+1\n",
    "    rightmark = last\n",
    "\n",
    "    done = False\n",
    "    while not done:\n",
    "\n",
    "        while leftmark <= rightmark and alist[leftmark] <= pivotvalue:\n",
    "            leftmark = leftmark + 1\n",
    "            print(alist)\n",
    "\n",
    "        while alist[rightmark] >= pivotvalue and rightmark >= leftmark:\n",
    "            rightmark = rightmark -1\n",
    "            print(alist)\n",
    "\n",
    "        if rightmark < leftmark:\n",
    "            done = True\n",
    "        else:\n",
    "            temp = alist[leftmark]\n",
    "            alist[leftmark] = alist[rightmark]\n",
    "            alist[rightmark] = temp\n",
    "        \n",
    "        print(alist)\n",
    "        \n",
    "    temp = alist[first]\n",
    "    alist[first] = alist[rightmark]\n",
    "    alist[rightmark] = temp\n",
    "\n",
    "    return rightmark"
   ]
  },
  {
   "cell_type": "code",
   "execution_count": 30,
   "metadata": {
    "collapsed": false
   },
   "outputs": [
    {
     "name": "stdout",
     "output_type": "stream",
     "text": [
      "[54, 26, 93, 17, 77, 31, 44, 55, 20]\n",
      "[54, 26, 20, 17, 77, 31, 44, 55, 93]\n",
      "[54, 26, 20, 17, 77, 31, 44, 55, 93]\n",
      "[54, 26, 20, 17, 77, 31, 44, 55, 93]\n",
      "[54, 26, 20, 17, 77, 31, 44, 55, 93]\n",
      "[54, 26, 20, 17, 77, 31, 44, 55, 93]\n",
      "[54, 26, 20, 17, 44, 31, 77, 55, 93]\n",
      "[54, 26, 20, 17, 44, 31, 77, 55, 93]\n",
      "[54, 26, 20, 17, 44, 31, 77, 55, 93]\n",
      "[54, 26, 20, 17, 44, 31, 77, 55, 93]\n",
      "[54, 26, 20, 17, 44, 31, 77, 55, 93]\n",
      "[31, 26, 20, 17, 44, 54, 77, 55, 93]\n",
      "[31, 26, 20, 17, 44, 54, 77, 55, 93]\n",
      "[31, 26, 20, 17, 44, 54, 77, 55, 93]\n",
      "[31, 26, 20, 17, 44, 54, 77, 55, 93]\n",
      "[31, 26, 20, 17, 44, 54, 77, 55, 93]\n",
      "[17, 26, 20, 31, 44, 54, 77, 55, 93]\n",
      "[17, 26, 20, 31, 44, 54, 77, 55, 93]\n",
      "[17, 26, 20, 31, 44, 54, 77, 55, 93]\n",
      "[17, 26, 20, 31, 44, 54, 77, 55, 93]\n",
      "[17, 26, 20, 31, 44, 54, 77, 55, 93]\n",
      "[17, 20, 26, 31, 44, 54, 77, 55, 93]\n",
      "[17, 20, 26, 31, 44, 54, 77, 55, 93]\n",
      "[17, 20, 26, 31, 44, 54, 77, 55, 93]\n",
      "[17, 20, 26, 31, 44, 54, 55, 77, 93]\n"
     ]
    }
   ],
   "source": [
    "alist = [54,26,93,17,77,31,44,55,20]\n",
    "quickSort(alist)\n",
    "print(alist)"
   ]
  },
  {
   "cell_type": "code",
   "execution_count": null,
   "metadata": {
    "collapsed": true
   },
   "outputs": [],
   "source": []
  },
  {
   "cell_type": "code",
   "execution_count": 20,
   "metadata": {
    "collapsed": true
   },
   "outputs": [],
   "source": [
    "def quicksort(x):\n",
    "    if len(x) == 1 or len(x) == 0:\n",
    "        return x\n",
    "    else:\n",
    "        pivot = x[0]\n",
    "        i = 0\n",
    "        for j in range(len(x)-1):\n",
    "            if x[j+1] < pivot:\n",
    "                x[j+1],x[i+1] = x[i+1], x[j+1]\n",
    "                i += 1\n",
    "        x[0],x[i] = x[i],x[0]\n",
    "        first_part = quicksort(x[:i])\n",
    "        second_part = quicksort(x[i+1:])\n",
    "        first_part.append(x[i])\n",
    "        print(first_part + second_part)\n",
    "        return first_part + second_part\n",
    "        "
   ]
  },
  {
   "cell_type": "code",
   "execution_count": 21,
   "metadata": {
    "collapsed": false
   },
   "outputs": [
    {
     "name": "stdout",
     "output_type": "stream",
     "text": [
      "[31, 44]\n",
      "[26, 31, 44]\n",
      "[17, 20, 26, 31, 44]\n",
      "[55, 77, 93]\n",
      "[17, 20, 26, 31, 44, 54, 55, 77, 93]\n"
     ]
    },
    {
     "data": {
      "text/plain": [
       "[17, 20, 26, 31, 44, 54, 55, 77, 93]"
      ]
     },
     "execution_count": 21,
     "metadata": {},
     "output_type": "execute_result"
    }
   ],
   "source": [
    "alist = [54,26,93,17,77,31,44,55,20]\n",
    "quicksort(alist)"
   ]
  },
  {
   "cell_type": "code",
   "execution_count": 22,
   "metadata": {
    "collapsed": false
   },
   "outputs": [
    {
     "name": "stdout",
     "output_type": "stream",
     "text": [
      "[20, 26, 17, 31, 44, 54, 77, 55, 93]\n"
     ]
    }
   ],
   "source": [
    "print(alist)"
   ]
  },
  {
   "cell_type": "markdown",
   "metadata": {},
   "source": [
    "### Quick Sort Example\n",
    "- 피벗은 p, 리스트 왼쪽 끝과 오른쪽 끝에서 시작한 인덱스들을 i,j라고 하자.\n",
    "            5 - 3 - 7 - 6 - 2 - 1 - 4    \n",
    "                                    p \n",
    "                                    \n",
    "- 리스트 왼쪽에 있는 i 위치의 값이 피벗 값보다 크고, 오른쪽에 있는 j 위치의 값은 피벗 값보다 작으므로 둘을 교환한다.\n",
    "\n",
    "            5 - 3 - 7 - 6 - 2 - 1 - 4 \n",
    "            i                   j   p \n",
    "            1 - 3 - 7 - 6 - 2 - 5 - 4 \n",
    "            i                   j   p \n",
    "            \n",
    "- j 위치의 값이 피벗 값보다 작지만, **i 위치의 값도 피벗값보다 작으므로 교환하지 않는다.**\n",
    "\n",
    "            1 - 3 - 7 - 6 - 2 - 5 - 4 \n",
    "                i           j       p \n",
    "                \n",
    "- i위치를 피벗 값보다 큰 값이 나올 때 까지 진행해 j 위치의 값과 교환한다.\n",
    "\n",
    "            1 - 3 - 7 - 6 - 2 - 5 - 4 \n",
    "                    i       j       p \n",
    "            1 - 3 - 2 - 6 - 7 - 5 - 4  \n",
    "                    i       j       p \n",
    "                    \n",
    "- **i위치가 j 위치보다 같거나 커지면, i 위치의 값과 피벗 값을 교환**한다.\n",
    "\n",
    "            1 - 3 - 2 - 6 - 7 - 5 - 4 \n",
    "                                    p \n",
    "            1 - 3 - 2 - 4 - 7 - 5 - 6 \n",
    "                        p         \n",
    "                        \n",
    "- 피벗 값 좌우의 리스트에 대해 각각 퀵 정렬을 재귀적으로 수행한다.\n",
    "\n",
    "            1 - 3 - 2 \n",
    "            1 - 2 - 3 \n",
    "            \n",
    "- 완성된 리스트는 다음과 같다.\n",
    "\n",
    "            1 - 2 - 3 - 4 - 5 - 6 - 7"
   ]
  },
  {
   "cell_type": "markdown",
   "metadata": {},
   "source": [
    "- 이게 간단하니 좋네!! "
   ]
  },
  {
   "cell_type": "code",
   "execution_count": 66,
   "metadata": {
    "collapsed": true
   },
   "outputs": [],
   "source": [
    "def quicksort3(x):\n",
    "    \n",
    "    # 만약 배열의 원소 개수가 1보다 작거나 같으면 배열을 return한다!\n",
    "    if len(x) <= 1:\n",
    "        return x\n",
    "    \n",
    "    # pivot을 배열의 중앙값으로 잡고\n",
    "    pivot = x[len(x) // 2]\n",
    "    less = []\n",
    "    more = []\n",
    "    equal = []\n",
    "    \n",
    "    # x 배열에서 원소를 하나씩 커내서 a라고 한다.\n",
    "    for a in x:\n",
    "\n",
    "        # 만약 원소값이 중앙에 있는 값보다 작으면 less에 추가한다.\n",
    "        if a < pivot:\n",
    "            less.append(a)\n",
    "\n",
    "        #만약 원소값이 중앙에 있는 값보다 크면 more에 추가한다.\n",
    "        elif a > pivot:\n",
    "            more.append(a)\n",
    "\n",
    "        # 원소가 중앙값과 같아서 equal에 추가한다. \n",
    "        else:\n",
    "            equal.append(a)\n",
    "        \n",
    "    # less에 대해서 똑같이 중앙값을 잡고 less와 more를 만든다.\n",
    "    # more에 대해서 똑같이 중앙값을 잡고 less와 more를 만든다.\n",
    "    return quicksort(less) + equal + quicksort(more)"
   ]
  },
  {
   "cell_type": "code",
   "execution_count": 67,
   "metadata": {
    "collapsed": false
   },
   "outputs": [
    {
     "name": "stdout",
     "output_type": "stream",
     "text": [
      "[]\n",
      "[54]\n",
      "[54, 26]\n",
      "[54, 26, 93]\n",
      "[54, 26, 17, 93]\n",
      "[54, 26, 17, 77, 93]\n",
      "[54, 26, 17, 31, 77, 93]\n",
      "[54, 26, 17, 31, 44, 77, 93]\n",
      "[54, 26, 17, 31, 44, 55, 77, 93]\n",
      "[54, 26, 17, 31, 44, 55, 20, 77, 93]\n"
     ]
    },
    {
     "data": {
      "text/plain": [
       "[17, 20, 26, 31, 44, 54, 55, 77, 93]"
      ]
     },
     "execution_count": 67,
     "metadata": {},
     "output_type": "execute_result"
    }
   ],
   "source": [
    "alist = [54,26,93,17,77,31,44,55,20]\n",
    "quicksort3(alist)"
   ]
  },
  {
   "cell_type": "code",
   "execution_count": null,
   "metadata": {
    "collapsed": true
   },
   "outputs": [],
   "source": []
  },
  {
   "cell_type": "code",
   "execution_count": null,
   "metadata": {
    "collapsed": true
   },
   "outputs": [],
   "source": []
  }
 ],
 "metadata": {
  "kernelspec": {
   "display_name": "Python 3",
   "language": "python",
   "name": "python3"
  },
  "language_info": {
   "codemirror_mode": {
    "name": "ipython",
    "version": 3
   },
   "file_extension": ".py",
   "mimetype": "text/x-python",
   "name": "python",
   "nbconvert_exporter": "python",
   "pygments_lexer": "ipython3",
   "version": "3.6.0"
  }
 },
 "nbformat": 4,
 "nbformat_minor": 2
}
