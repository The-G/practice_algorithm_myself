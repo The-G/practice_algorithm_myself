{
 "cells": [
  {
   "cell_type": "markdown",
   "metadata": {},
   "source": [
    "# Heap Sort"
   ]
  },
  {
   "cell_type": "code",
   "execution_count": 1,
   "metadata": {
    "collapsed": true
   },
   "outputs": [],
   "source": [
    "\"\"\"\n",
    "heap tree 만들기\n",
    "\"\"\"\n",
    "def heapsort(a):\n",
    "    def swap(a,i,j):\n",
    "        a[i], a[j] = a[j], a[i]\n",
    "\n",
    "    def siftdown(a, i, size):\n",
    "        l = 2*i+1\n",
    "        r = 2*i+2\n",
    "        largest = i\n",
    "        # (0,1,2) \n",
    "        # (1,3,4) = (root,left,right)\n",
    "        \n",
    "        # 범위안의 값이고, left > root면 largest = left\n",
    "        if l <= size-1 and a[l] > a[i]:  \n",
    "            largest = l\n",
    "        # 범위안의 값이고, right > largest면 largest = right\n",
    "        if r <= size-1 and a[r] > a[largest]:\n",
    "            largest = r\n",
    "        # largest가 원래 root 값과 다르면 \n",
    "        if largest != i:\n",
    "            # swap 해준다.\n",
    "            swap(a, i, largest) \n",
    "            # 재귀로, a 배열의 largest를 root로 다시 크기비교!!\n",
    "            siftdown(a, largest, size)\n",
    "\n",
    "    def heapify(a, size):\n",
    "        p = (size//2)-1\n",
    "        while p>=0:\n",
    "            siftdown(a, p, size)\n",
    "            p -= 1\n",
    "            \n",
    "\n",
    "    size = len(a)\n",
    "    heapify(a, size)\n",
    "    print(\"max-heap :\",a)\n",
    "\n",
    "    \"\"\"\n",
    "    heap tree를 이용 sort 하기!! \n",
    "    \"\"\"\n",
    "    end = size-1\n",
    "    # 가장 큰 값을 root로 올리고 차례차례 end 값과 바꿔준다.\n",
    "    while(end > 0):\n",
    "        # 배열 a에서 0(root) 와 end(마지막)을 swap\n",
    "        swap(a, 0, end)\n",
    "        # 가장 큰 값을 root로 올려준다.\n",
    "        siftdown(a, 0, end)\n",
    "        end -= 1"
   ]
  },
  {
   "cell_type": "code",
   "execution_count": 2,
   "metadata": {
    "collapsed": false
   },
   "outputs": [
    {
     "name": "stdout",
     "output_type": "stream",
     "text": [
      "max-heap : [9, 4, 7, 1, 3, 2]\n",
      "[1, 2, 3, 4, 7, 9]\n"
     ]
    }
   ],
   "source": [
    "arr = [1,3,2,4,9,7]\n",
    "heapsort(arr)\n",
    "print(arr)"
   ]
  }
 ],
 "metadata": {
  "kernelspec": {
   "display_name": "Python 3",
   "language": "python",
   "name": "python3"
  },
  "language_info": {
   "codemirror_mode": {
    "name": "ipython",
    "version": 3
   },
   "file_extension": ".py",
   "mimetype": "text/x-python",
   "name": "python",
   "nbconvert_exporter": "python",
   "pygments_lexer": "ipython3",
   "version": "3.6.0"
  }
 },
 "nbformat": 4,
 "nbformat_minor": 2
}
