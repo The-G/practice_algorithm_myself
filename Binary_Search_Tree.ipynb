{
 "cells": [
  {
   "cell_type": "markdown",
   "metadata": {},
   "source": [
    "# Binary Search Tree"
   ]
  },
  {
   "cell_type": "code",
   "execution_count": 42,
   "metadata": {
    "collapsed": true
   },
   "outputs": [],
   "source": [
    "class Node:\n",
    "    def __init__(self, item):\n",
    "        self.val = item\n",
    "        self.left = None\n",
    "        self.right = None\n",
    "\n",
    "class BinaryTree:\n",
    "    def __init__(self):\n",
    "        self.head = Node(None)\n",
    "        \n",
    "        #test purpose lists\n",
    "        self.preorder_list = []\n",
    "        self.inorder_list = []\n",
    "        self.postorder_list = []\n",
    "        \n",
    "    \"\"\"Add\"\"\"\n",
    "    def add(self, item):\n",
    "        if self.head.val is None: # tree head 없으면\n",
    "            self.head.val = item\n",
    "        else: # 기존 tree 있으면 \n",
    "            self.__add_node(self.head, item)\n",
    "    \n",
    "    def __add_node(self, cur, item):\n",
    "        if cur.val >= item:\n",
    "            if cur.left is not None:\n",
    "                self.__add_node(cur.left, item)\n",
    "            else:\n",
    "                cur.left = Node(item)\n",
    "        else:\n",
    "            if cur.right is not None:\n",
    "                self.__add_node(cur.right, item)\n",
    "            else:\n",
    "                cur.right = Node(item)\n",
    "\n",
    "    \"\"\"Search\"\"\"    \n",
    "    def search(self, item):\n",
    "        if self.head.val is None: # tree가 없으니 False 반환\n",
    "            return False\n",
    "        else:\n",
    "            return self.__search_node(self.head, item)\n",
    "\n",
    "    def __search_node(self, cur, item):\n",
    "        if cur.val == item: # 찾았으면 True\n",
    "            return True\n",
    "        else:\n",
    "            if cur.val >= item:\n",
    "                if cur.left is not None:\n",
    "                    return self.__search_node(cur.left, item)\n",
    "                else:\n",
    "                    return False # 못찾음.\n",
    "            else:\n",
    "                if cur.right is not None:\n",
    "                    return self.__search_node(cur.right, item)\n",
    "                else:\n",
    "                    return False\n",
    "\n",
    "    \"\"\"Remove\"\"\"\n",
    "    def remove(self, item):\n",
    "        # Tree 가 없으면..\n",
    "        if self.head.val is None: \n",
    "            print (\"There is no item: in Binary Search Tree\", item)\n",
    "            \n",
    "        # 현재 위치와 값이 같다면!! \n",
    "        if self.head.val == item: \n",
    "            # 1) Node to be removed has no children.(자식node가 없는 경우)\n",
    "            if self.head.left is None and self.head.right is None:\n",
    "                self.head = None\n",
    "            # 2) Node to be removed has one right child.(오른쪽 자식 node가 있는 경우) \n",
    "            #    지워야 할 것을 오른쪽 자식 node로 대체\n",
    "            elif self.head.left is None and self.head.right is not None:\n",
    "                self.head = self.head.right\n",
    "            # 3) Node to be removed has one left child.(왼쪽 자식 node 가 있는 경우)\n",
    "            #    지워야 할 것을 왼쪽 자식 node로 대체\n",
    "            elif self.head.left is not None and self.head.right is None:\n",
    "                self.head = self.head.left\n",
    "            # 4) Node to be removed has two children.(지워야 할 node의 두 자식노드 모두 있는 경우.)\n",
    "            else:\n",
    "                # 지워야 할 현재 위치 값을 오른쪽 자식 노드의 맨 왼쪽 자식 노드 값으로 대체\n",
    "                self.head.val = self.__most_left_val_from_right_node(self.head.right).val\n",
    "                # 대체 후 같은 값을 찾아서 제거!! \n",
    "                self.__removeitem(self.head, self.head.right, self.head.val)\n",
    "        # 현재 위치와 값이 다르다면!!   \n",
    "        else: \n",
    "            if self.head.val > item: # 작으면 왼쪽\n",
    "                self.__remove(self.head, self.head.left, item)\n",
    "            else:                    # 크면 왼쪽\n",
    "                self.__remove(self.head, self.head.right, item)\n",
    "\n",
    "    def __remove(self, parent, cur, item):\n",
    "        # 자식 노드 값이 없으면 지워야 할 값이 없다고 return\n",
    "        if cur is None:\n",
    "            print (\"There is no item: \", item)\n",
    "            \n",
    "        # 자식노드의 값과 지워야 할 값이 같으면\n",
    "        if cur.val == item:\n",
    "            # 1) Node to be removed has no children.(자식 노드가 없으면)\n",
    "            if cur.left is None and cur.right is None:\n",
    "                # 해당 자식 노드가 left인지 right 인지 확인해서 지움! \n",
    "                if parent.left == cur:\n",
    "                    parent.left = None\n",
    "                else:\n",
    "                    parent.right = None\n",
    "            # 2) Node to be removed has one right child.(오른쪽 자식 노드가 있으면)\n",
    "            elif cur.left is None and cur.right is not None:\n",
    "                if parent.left == cur:\n",
    "                    parent.left = cur.right\n",
    "                else:\n",
    "                    parent.right = cur.right\n",
    "            # 3) Node to be removed has one left child.(왼쪽 자식 노드가 있으면)\n",
    "            elif cur.left is not None and cur.right is None:\n",
    "                if parent.left == cur:\n",
    "                    parent.left = cur.left\n",
    "                else:\n",
    "                    parent.right = cur.left\n",
    "            # 4) Node to be removed has two children.(양쪽 자식 노드 모두 있으면)\n",
    "            else:\n",
    "                # 자식노드 값을 자식노드 오른쪽 값의 맨 왼쪽 값으로 바꾸고.\n",
    "                cur.val = self.__most_left_val_from_right_node(cur.right).val\n",
    "                # 자식노드 오른쪽 노드의 맨 왼쪽 값을 제거한다.\n",
    "                self.__removeitem(cur, cur.right, cur.val)\n",
    "                \n",
    "        # else 있어야 할 거 같은데,,, 안했네!! \n",
    "        # 재귀 하면 될 듯!!??????? ㅇㅇ 맞는듯!! \n",
    "        else:\n",
    "            if cur.val > item: # 작으면 왼쪽\n",
    "                self.__remove(cur, cur.left, item)\n",
    "            else:                    # 크면 왼쪽\n",
    "                self.__remove(cur, cur.right, item)            \n",
    "    \n",
    "    \n",
    "    def __most_left_val_from_right_node(self, cur):\n",
    "        if cur.left is None:\n",
    "            return cur\n",
    "        else:\n",
    "            return self.__most_left_val_from_right_node(cur.left)\n",
    "\n",
    "    def __removeitem(self, parent, cur, item):\n",
    "        if cur.val == item:\n",
    "            if parent.left == cur:\n",
    "                parent.left = None\n",
    "            else:\n",
    "                parent.right = None\n",
    "        else:\n",
    "            if cur.val > item:\n",
    "                self.__removeitem(cur, cur.left, item)\n",
    "            else:\n",
    "                self.__removeitem(cur, cur.right, item)\n",
    "                \n",
    "    \"\"\"Preorder traverse\"\"\"\n",
    "    def preorder_traverse(self):\n",
    "        if self.head is not None:\n",
    "            self.__preorder(self.head)\n",
    "\n",
    "    def __preorder(self, cur):\n",
    "        self.preorder_list.append(cur.val)\n",
    "        print (cur.val)\n",
    "        if cur.left is not None:\n",
    "            self.__preorder(cur.left)\n",
    "        if cur.right is not None:\n",
    "            self.__preorder(cur.right)\n",
    "\n",
    "    \"\"\"Inorder traverse\"\"\"\n",
    "    def inorder_traverse(self):\n",
    "        if self.head is not None:\n",
    "            self.__inorder(self.head)\n",
    "\n",
    "    def __inorder(self, cur):\n",
    "        if cur.left is not None:\n",
    "            self.__inorder(cur.left)\n",
    "\n",
    "        self.inorder_list.append(cur.val)\n",
    "        print (cur.val)\n",
    "\n",
    "        if cur.right is not None:\n",
    "            self.__inorder(cur.right)\n",
    "\n",
    "    \"\"\"Postorder traverse\"\"\"\n",
    "    def postorder_traverse(self):\n",
    "        if self.head is not None:\n",
    "            self.__postorder(self.head)\n",
    "\n",
    "    def __postorder(self, cur):\n",
    "        if cur.left is not None:\n",
    "            self.__postorder(cur.left)\n",
    "\n",
    "        if cur.right is not None:\n",
    "            self.__postorder(cur.right)\n",
    "\n",
    "        self.postorder_list.append(cur.val)\n",
    "        print (cur.val)"
   ]
  },
  {
   "cell_type": "code",
   "execution_count": 31,
   "metadata": {
    "collapsed": true
   },
   "outputs": [],
   "source": [
    "bt = BinaryTree()\n",
    "bt.add(5)\n",
    "bt.add(3)\n",
    "bt.add(4)\n",
    "bt.add(1)\n",
    "bt.add(7)\n",
    "bt.add(6)\n",
    "bt.add(2)"
   ]
  },
  {
   "cell_type": "markdown",
   "metadata": {},
   "source": [
    "- 그려보면 이해된다!! "
   ]
  },
  {
   "cell_type": "code",
   "execution_count": 32,
   "metadata": {
    "collapsed": false,
    "scrolled": true
   },
   "outputs": [
    {
     "name": "stdout",
     "output_type": "stream",
     "text": [
      "pre order\n",
      "5\n",
      "3\n",
      "1\n",
      "2\n",
      "4\n",
      "7\n",
      "6\n"
     ]
    },
    {
     "data": {
      "text/plain": [
       "[5, 3, 1, 2, 4, 7, 6]"
      ]
     },
     "execution_count": 32,
     "metadata": {},
     "output_type": "execute_result"
    }
   ],
   "source": [
    "print(\"pre order\")\n",
    "bt.preorder_traverse()\n",
    "bt.preorder_list"
   ]
  },
  {
   "cell_type": "code",
   "execution_count": 33,
   "metadata": {
    "collapsed": false
   },
   "outputs": [
    {
     "name": "stdout",
     "output_type": "stream",
     "text": [
      "in order\n",
      "1\n",
      "2\n",
      "3\n",
      "4\n",
      "5\n",
      "6\n",
      "7\n"
     ]
    },
    {
     "data": {
      "text/plain": [
       "[1, 2, 3, 4, 5, 6, 7]"
      ]
     },
     "execution_count": 33,
     "metadata": {},
     "output_type": "execute_result"
    }
   ],
   "source": [
    "print(\"in order\")\n",
    "bt.inorder_traverse()\n",
    "bt.inorder_list"
   ]
  },
  {
   "cell_type": "code",
   "execution_count": 34,
   "metadata": {
    "collapsed": false
   },
   "outputs": [
    {
     "name": "stdout",
     "output_type": "stream",
     "text": [
      "post order\n",
      "2\n",
      "1\n",
      "4\n",
      "3\n",
      "6\n",
      "7\n",
      "5\n"
     ]
    },
    {
     "data": {
      "text/plain": [
       "[2, 1, 4, 3, 6, 7, 5]"
      ]
     },
     "execution_count": 34,
     "metadata": {},
     "output_type": "execute_result"
    }
   ],
   "source": [
    "print(\"post order\")\n",
    "bt.postorder_traverse()\n",
    "bt.postorder_list"
   ]
  },
  {
   "cell_type": "code",
   "execution_count": 43,
   "metadata": {
    "collapsed": false
   },
   "outputs": [
    {
     "name": "stdout",
     "output_type": "stream",
     "text": [
      "bt root remove\n",
      "5\n",
      "3\n",
      "1\n",
      "0\n",
      "2\n",
      "4\n",
      "7\n",
      "6\n",
      "10\n",
      "9\n"
     ]
    },
    {
     "data": {
      "text/plain": [
       "[5, 3, 1, 0, 2, 4, 7, 6, 10, 9]"
      ]
     },
     "execution_count": 43,
     "metadata": {},
     "output_type": "execute_result"
    }
   ],
   "source": [
    "print (\"bt root remove\")\n",
    "bt_root_remove_test = BinaryTree()\n",
    "bt_root_remove_test.add(5)\n",
    "bt_root_remove_test.add(3)\n",
    "bt_root_remove_test.add(4)\n",
    "bt_root_remove_test.add(1)\n",
    "bt_root_remove_test.add(7)\n",
    "bt_root_remove_test.add(6)\n",
    "bt_root_remove_test.add(2)\n",
    "bt_root_remove_test.add(10)\n",
    "bt_root_remove_test.add(8)\n",
    "bt_root_remove_test.add(9)\n",
    "bt_root_remove_test.add(0)\n",
    "bt_root_remove_test.remove(8)\n",
    "bt_root_remove_test.preorder_traverse()\n",
    "bt_root_remove_test.preorder_list"
   ]
  },
  {
   "cell_type": "markdown",
   "metadata": {},
   "source": [
    "#### 이런식으로 test 할 수도 있다!! "
   ]
  },
  {
   "cell_type": "code",
   "execution_count": 6,
   "metadata": {
    "collapsed": true
   },
   "outputs": [],
   "source": [
    "import unittest\n",
    "\n",
    "class binary_tree_test(unittest.TestCase):\n",
    "    def test(self):\n",
    "        bt = BinaryTree()\n",
    "        bt.add(5)\n",
    "        bt.add(3)\n",
    "        bt.add(4)\n",
    "        bt.add(1)\n",
    "        bt.add(7)\n",
    "        print(\"pre order\")\n",
    "        bt.preorder_traverse()\n",
    "        self.assertEqual(bt.preorder_list, [5,3,1,4,7])\n",
    "\n",
    "        print(\"in order\")\n",
    "        bt.inorder_traverse()\n",
    "        self.assertEqual(bt.inorder_list, [1,3,4,5,7])\n",
    "\n",
    "        print(\"post order\")\n",
    "        bt.postorder_traverse()\n",
    "        self.assertEqual(bt.postorder_list, [1,4,3,7,5])\n",
    "\n",
    "        print (\"bt root remove\")\n",
    "        bt_root_remove_test = BinaryTree()\n",
    "        bt_root_remove_test.add(60)\n",
    "        bt_root_remove_test.add(50)\n",
    "        bt_root_remove_test.add(70)\n",
    "        bt_root_remove_test.remove(60)\n",
    "        bt_root_remove_test.preorder_traverse()\n",
    "        self.assertEqual(bt_root_remove_test.preorder_list, [70,50])\n",
    "\n",
    "        print (\"bt root remove2\")\n",
    "        bt_root_remove_test = BinaryTree()\n",
    "        bt_root_remove_test.add(60)\n",
    "        bt_root_remove_test.add(50)\n",
    "        bt_root_remove_test.remove(60)\n",
    "        bt_root_remove_test.preorder_traverse()\n",
    "        self.assertEqual(bt_root_remove_test.preorder_list, [50])\n",
    "\n",
    "        print (\"bt root remove3\")\n",
    "        bt_root_remove_test = BinaryTree()\n",
    "        bt_root_remove_test.add(60)\n",
    "        bt_root_remove_test.add(70)\n",
    "        bt_root_remove_test.remove(60)\n",
    "        bt_root_remove_test.preorder_traverse()\n",
    "        self.assertEqual(bt_root_remove_test.preorder_list, [70])\n",
    "\n",
    "        print (\"bt left remove 1\")\n",
    "        bt_left_remove_test_1 = BinaryTree()\n",
    "        bt_left_remove_test_1.add(60)\n",
    "        bt_left_remove_test_1.add(50)\n",
    "        bt_left_remove_test_1.add(70)\n",
    "        bt_left_remove_test_1.remove(50)\n",
    "        bt_left_remove_test_1.preorder_traverse()\n",
    "        self.assertEqual(bt_left_remove_test_1.preorder_list, [60,70])\n",
    "\n",
    "        print (\"bt left remove 2\")\n",
    "        bt_left_remove_test_2_left = BinaryTree()\n",
    "        bt_left_remove_test_2_left.add(60)\n",
    "        bt_left_remove_test_2_left.add(50)\n",
    "        bt_left_remove_test_2_left.add(70)\n",
    "        bt_left_remove_test_2_left.add(40)\n",
    "        bt_left_remove_test_2_left.remove(50)\n",
    "        bt_left_remove_test_2_left.preorder_traverse()\n",
    "        self.assertEqual(bt_left_remove_test_2_left.preorder_list, [60,40,70])\n",
    "\n",
    "        print (\"bt right remove 2\")\n",
    "        bt_left_remove_test_2_right = BinaryTree()\n",
    "        bt_left_remove_test_2_right.add(60)\n",
    "        bt_left_remove_test_2_right.add(50)\n",
    "        bt_left_remove_test_2_right.add(70)\n",
    "        bt_left_remove_test_2_right.add(55)\n",
    "        bt_left_remove_test_2_right.remove(50)\n",
    "        bt_left_remove_test_2_right.preorder_traverse()\n",
    "        self.assertEqual(bt_left_remove_test_2_right.preorder_list, [60,55,70])\n",
    "\n",
    "        print (\"bt right remove 1\")\n",
    "        bt_right_remove_test_1 = BinaryTree()\n",
    "        bt_right_remove_test_1.add(60)\n",
    "        bt_right_remove_test_1.add(50)\n",
    "        bt_right_remove_test_1.add(70)\n",
    "        bt_right_remove_test_1.remove(70)\n",
    "        bt_right_remove_test_1.preorder_traverse()\n",
    "        self.assertEqual(bt_right_remove_test_1.preorder_list, [60,50])\n",
    "\n",
    "        print (\"bt right remove 2\")\n",
    "        bt_right_remove_test_2_left = BinaryTree()\n",
    "        bt_right_remove_test_2_left.add(60)\n",
    "        bt_right_remove_test_2_left.add(50)\n",
    "        bt_right_remove_test_2_left.add(70)\n",
    "        bt_right_remove_test_2_left.add(65)\n",
    "        bt_right_remove_test_2_left.remove(70)\n",
    "        bt_right_remove_test_2_left.preorder_traverse()\n",
    "        self.assertEqual(bt_right_remove_test_2_left.preorder_list, [60,50,65])\n",
    "\n",
    "        print (\"bt right remove 2\")\n",
    "        bt_right_remove_test_2_right = BinaryTree()\n",
    "        bt_right_remove_test_2_right.add(60)\n",
    "        bt_right_remove_test_2_right.add(50)\n",
    "        bt_right_remove_test_2_right.add(70)\n",
    "        bt_right_remove_test_2_right.add(75)\n",
    "        bt_right_remove_test_2_right.remove(70)\n",
    "        bt_right_remove_test_2_right.preorder_traverse()\n",
    "        self.assertEqual(bt_right_remove_test_2_right.preorder_list, [60,50,75])\n",
    "\n",
    "        print (\"bt left remove 3\")\n",
    "        bt_left_remove_test_3 = BinaryTree()\n",
    "        bt_left_remove_test_3.add(60)\n",
    "        bt_left_remove_test_3.add(50)\n",
    "        bt_left_remove_test_3.add(70)\n",
    "        bt_left_remove_test_3.add(40)\n",
    "        bt_left_remove_test_3.add(55)\n",
    "        bt_left_remove_test_3.add(52)\n",
    "        bt_left_remove_test_3.remove(50)\n",
    "        bt_left_remove_test_3.preorder_traverse()\n",
    "        self.assertEqual(bt_left_remove_test_3.preorder_list, [60,52,40,55,70])\n",
    "\n",
    "        print(\"BST search test\")\n",
    "        bt_search_test = BinaryTree()\n",
    "        bt_search_test.add(60)\n",
    "        bt_search_test.add(50)\n",
    "        bt_search_test.add(70)\n",
    "        bt_search_test.add(40)\n",
    "        bt_search_test.add(55)\n",
    "        bt_search_test.add(52)\n",
    "        self.assertTrue(bt_search_test.search(60))\n",
    "        self.assertTrue(bt_search_test.search(50))\n",
    "        self.assertTrue(bt_search_test.search(70))\n",
    "        self.assertTrue(bt_search_test.search(40))\n",
    "        self.assertTrue(bt_search_test.search(55))\n",
    "        self.assertTrue(bt_search_test.search(52))\n",
    "        self.assertFalse(bt_search_test.search(61))\n",
    "        self.assertFalse(bt_search_test.search(81))"
   ]
  },
  {
   "cell_type": "code",
   "execution_count": null,
   "metadata": {
    "collapsed": true
   },
   "outputs": [],
   "source": []
  }
 ],
 "metadata": {
  "kernelspec": {
   "display_name": "Python 3",
   "language": "python",
   "name": "python3"
  },
  "language_info": {
   "codemirror_mode": {
    "name": "ipython",
    "version": 3
   },
   "file_extension": ".py",
   "mimetype": "text/x-python",
   "name": "python",
   "nbconvert_exporter": "python",
   "pygments_lexer": "ipython3",
   "version": "3.6.0"
  }
 },
 "nbformat": 4,
 "nbformat_minor": 2
}
