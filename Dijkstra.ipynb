{
 "cells": [
  {
   "cell_type": "markdown",
   "metadata": {},
   "source": [
    "# == 최단경로검색 Dijkstra Algorithm == "
   ]
  },
  {
   "cell_type": "markdown",
   "metadata": {},
   "source": [
    "# dijkstra's algorithm\n",
    "1. Assign to every node a distance value. Set it to zero for our initial node\n",
    "   and to infinity for all other nodes.\n",
    "2. Mark all nodes as unvisited. Set initial node as current.\n",
    "3. For current node, consider all its unvisited neighbors and calculate their\n",
    "   tentative distance (from the initial node). For example, if current node\n",
    "   (A) has distance of 6, and an edge connecting it with another node (B)\n",
    "   is 2, the distance to B through A will be 6+2=8. If this distance is less\n",
    "   than the previously recorded distance (infinity in the beginning, zero\n",
    "   for the initial node), overwrite the distance.\n",
    "4. When we are done considering all neighbors of the current node, mark it as\n",
    "   visited. A visited node will not be checked ever again; its distance\n",
    "   recorded now is final and minimal.\n",
    "5. If all nodes have been visited, finish. Otherwise, set the unvisited node\n",
    "   with the smallest distance (from the initial node) as the next \"current\n",
    "   node\" and continue from step 3.\n",
    "\n",
    "\n",
    "- source: wikipedia http://en.wikipedia.org/wiki/Dijkstra%27s_algorithm"
   ]
  },
  {
   "cell_type": "code",
   "execution_count": 13,
   "metadata": {
    "collapsed": true
   },
   "outputs": [],
   "source": [
    "class Graph(object):\n",
    "    \"\"\"\n",
    "    A simple undirected, weighted graph\n",
    "    \"\"\"\n",
    "    def __init__(self):\n",
    "        self.nodes = set()\n",
    "        self.edges = {}\n",
    "        self.distances = {}\n",
    "\n",
    "    def add_node(self, value):\n",
    "        self.nodes.add(value)\n",
    "\n",
    "    def add_edge(self, from_node, to_node, distance):\n",
    "        self._add_edge(from_node, to_node, distance)\n",
    "        self._add_edge(to_node, from_node, distance)\n",
    "\n",
    "    def _add_edge(self, from_node, to_node, distance):\n",
    "        self.edges.setdefault(from_node, [])\n",
    "        self.edges[from_node].append(to_node)\n",
    "        self.distances[(from_node, to_node)] = distance"
   ]
  },
  {
   "cell_type": "markdown",
   "metadata": {},
   "source": [
    "<img src=\"picture/그림3.png\" align=\"left\" width=\"350\" />"
   ]
  },
  {
   "cell_type": "code",
   "execution_count": 14,
   "metadata": {
    "collapsed": false
   },
   "outputs": [
    {
     "name": "stdout",
     "output_type": "stream",
     "text": [
      "nodes : {1, 2, 3, 4, 5, 6}\n",
      "edges : {1: [2, 3, 6], 2: [1, 3, 4], 3: [1, 2, 4, 6], 6: [1, 3, 5], 4: [2, 3, 5], 5: [4, 6]}\n",
      "distances : {(1, 2): 7, (2, 1): 7, (1, 3): 9, (3, 1): 9, (1, 6): 14, (6, 1): 14, (2, 3): 10, (3, 2): 10, (2, 4): 15, (4, 2): 15, (3, 4): 11, (4, 3): 11, (3, 6): 2, (6, 3): 2, (4, 5): 6, (5, 4): 6, (5, 6): 9, (6, 5): 9}\n"
     ]
    }
   ],
   "source": [
    "g = Graph()\n",
    "g.nodes = set(range(1, 7))\n",
    "g.add_edge(1, 2, 7)\n",
    "g.add_edge(1, 3, 9)\n",
    "g.add_edge(1, 6, 14)\n",
    "g.add_edge(2, 3, 10)\n",
    "g.add_edge(2, 4, 15)\n",
    "g.add_edge(3, 4, 11)\n",
    "g.add_edge(3, 6, 2)\n",
    "g.add_edge(4, 5, 6)\n",
    "g.add_edge(5, 6, 9)\n",
    "print(\"nodes :\", g.nodes)\n",
    "print(\"edges :\",g.edges)\n",
    "print(\"distances :\", g.distances)"
   ]
  },
  {
   "cell_type": "code",
   "execution_count": 29,
   "metadata": {
    "collapsed": true
   },
   "outputs": [],
   "source": [
    "def dijkstra(graph, initial_node): # 그래프와 시작node를 받는다. \n",
    "    visited = {initial_node: 0} # 시작노드에 cost 0으로 visited라는 dic 생성\n",
    "                                # 각 node 까지의 최솟값을 저장할 dic\n",
    "    current_node = initial_node # 현재 노드 = 시작노드\n",
    "    path = {}                   # 최소cost 계산시 어디에서 왔는지 담을 path dictionary 생성 \n",
    "\n",
    "    nodes = set(graph.nodes)    # graph.nodes를 중복제거 하네.. \n",
    "                                # node가 2개 이상인 경우가 있을 수 있나?!\n",
    "    \n",
    "    while nodes: # 체크 안 한 node가 있으면 계속\n",
    "        min_node = None\n",
    "        for node in nodes: # node를 하나씩 봄.\n",
    "            if node in visited: # 방문한 node면 e.g. 최초 1노드는 visited에 포함되어 있다.\n",
    "                if min_node is None:\n",
    "                    min_node = node \n",
    "                elif visited[node] < visited[min_node]:\n",
    "                    min_node = node\n",
    "                    \n",
    "        # while문 종료!?! 왜있지?! 예외처리.. 연결안된 섬같은 node가 여기에 걸리네..\n",
    "        # 근데 그러면 node.remove(min_node); continue; 해줘야 하지 않나???\n",
    "        if min_node is None: \n",
    "            break\n",
    "\n",
    "        nodes.remove(min_node) # 확인한 노드 제거하고\n",
    "        cur_cost = visited[min_node] # min_node의 weight 값을 cur_cost 로\n",
    "\n",
    "        for next_node in graph.edges[min_node]: # min_node와 연결된 node들을 봄.\n",
    "            new_cost = cur_cost + graph.distances[(min_node, next_node)] # e.g. 1->2의 weight + cur_cost를 new_cost로 셋\n",
    "            if next_node not in visited or new_cost < visited[next_node]: # next_node를 방문한적이 없거나. new_cost가 현재 그 node를 방문한 기존 cost보다 작다면 \n",
    "                visited[next_node] = new_cost    # 새로운 최소 cost 갱신\n",
    "                path[next_node] = min_node       # 최소 cost 갱신된 경우 어디 node에서 왔는지 기록\n",
    "                                                 # 이걸 알아야 최단경로를 알 수 있다.\n",
    "#         print(\"visited :\", visited)\n",
    "#         print(\"path: \", path)\n",
    "#         print(\"-----\")\n",
    "    return visited, path"
   ]
  },
  {
   "cell_type": "markdown",
   "metadata": {},
   "source": [
    "- dijkstra로 node 1에서 갈 수 있는 곳의 **모든 최소cost**와 표에서 보았던 **어디를 통해서 왔는지**에 대해서 계산함! \n",
    "- dictionary로 return"
   ]
  },
  {
   "cell_type": "code",
   "execution_count": 26,
   "metadata": {
    "collapsed": false
   },
   "outputs": [
    {
     "name": "stdout",
     "output_type": "stream",
     "text": [
      "visited : {1: 0, 2: 7, 3: 9, 6: 14}\n",
      "path:  {2: 1, 3: 1, 6: 1}\n",
      "-----\n",
      "visited : {1: 0, 2: 7, 3: 9, 6: 14, 4: 22}\n",
      "path:  {2: 1, 3: 1, 6: 1, 4: 2}\n",
      "-----\n",
      "visited : {1: 0, 2: 7, 3: 9, 6: 11, 4: 20}\n",
      "path:  {2: 1, 3: 1, 6: 3, 4: 3}\n",
      "-----\n",
      "visited : {1: 0, 2: 7, 3: 9, 6: 11, 4: 20, 5: 20}\n",
      "path:  {2: 1, 3: 1, 6: 3, 4: 3, 5: 6}\n",
      "-----\n",
      "visited : {1: 0, 2: 7, 3: 9, 6: 11, 4: 20, 5: 20}\n",
      "path:  {2: 1, 3: 1, 6: 3, 4: 3, 5: 6}\n",
      "-----\n",
      "visited : {1: 0, 2: 7, 3: 9, 6: 11, 4: 20, 5: 20}\n",
      "path:  {2: 1, 3: 1, 6: 3, 4: 3, 5: 6}\n",
      "-----\n"
     ]
    },
    {
     "data": {
      "text/plain": [
       "({1: 0, 2: 7, 3: 9, 4: 20, 5: 20, 6: 11}, {2: 1, 3: 1, 4: 3, 5: 6, 6: 3})"
      ]
     },
     "execution_count": 26,
     "metadata": {},
     "output_type": "execute_result"
    }
   ],
   "source": [
    "dijkstra(g, 1)"
   ]
  },
  {
   "cell_type": "markdown",
   "metadata": {},
   "source": [
    "<img src=\"picture/그림4.png\" align=\"left\" width=\"350\" />"
   ]
  },
  {
   "cell_type": "code",
   "execution_count": 30,
   "metadata": {
    "collapsed": true
   },
   "outputs": [],
   "source": [
    "def shortest_path(graph, initial_node, goal_node): # 그래프, 시작node, 도착node\n",
    "    _, s_paths = dijkstra(graph, initial_node)\n",
    "    # s_distances, s_paths = dijkstra(graph, initial_node) # 그래프와 시작노드를  dijkstra에 넣어서 distance와 path를 출력함\n",
    "    route = [goal_node]\n",
    "\n",
    "    while goal_node != initial_node: # 시작노드에 도착 할 때 까지!! \n",
    "        route.append(s_paths[goal_node])\n",
    "        goal_node = s_paths[goal_node]\n",
    "\n",
    "    route.reverse()\n",
    "    return route"
   ]
  },
  {
   "cell_type": "code",
   "execution_count": 32,
   "metadata": {
    "collapsed": false
   },
   "outputs": [
    {
     "ename": "AssertionError",
     "evalue": "",
     "output_type": "error",
     "traceback": [
      "\u001b[0;31m---------------------------------------------------------------------------\u001b[0m",
      "\u001b[0;31mAssertionError\u001b[0m                            Traceback (most recent call last)",
      "\u001b[0;32m<ipython-input-32-447b0eb0faa3>\u001b[0m in \u001b[0;36m<module>\u001b[0;34m()\u001b[0m\n\u001b[0;32m----> 1\u001b[0;31m \u001b[1;32massert\u001b[0m \u001b[0mshortest_path\u001b[0m\u001b[1;33m(\u001b[0m\u001b[0mg\u001b[0m\u001b[1;33m,\u001b[0m \u001b[1;36m1\u001b[0m\u001b[1;33m,\u001b[0m \u001b[1;36m5\u001b[0m\u001b[1;33m)\u001b[0m \u001b[1;33m==\u001b[0m \u001b[1;33m[\u001b[0m\u001b[1;36m1\u001b[0m\u001b[1;33m,\u001b[0m \u001b[1;36m3\u001b[0m\u001b[1;33m,\u001b[0m \u001b[1;36m6\u001b[0m\u001b[1;33m]\u001b[0m\u001b[1;33m\u001b[0m\u001b[0m\n\u001b[0m\u001b[1;32m      2\u001b[0m \u001b[1;32massert\u001b[0m \u001b[0mshortest_path\u001b[0m\u001b[1;33m(\u001b[0m\u001b[0mg\u001b[0m\u001b[1;33m,\u001b[0m \u001b[1;36m5\u001b[0m\u001b[1;33m,\u001b[0m \u001b[1;36m1\u001b[0m\u001b[1;33m)\u001b[0m \u001b[1;33m==\u001b[0m \u001b[1;33m[\u001b[0m\u001b[1;36m5\u001b[0m\u001b[1;33m,\u001b[0m \u001b[1;36m6\u001b[0m\u001b[1;33m,\u001b[0m \u001b[1;36m3\u001b[0m\u001b[1;33m,\u001b[0m \u001b[1;36m1\u001b[0m\u001b[1;33m]\u001b[0m\u001b[1;33m\u001b[0m\u001b[0m\n\u001b[1;32m      3\u001b[0m \u001b[1;32massert\u001b[0m \u001b[0mshortest_path\u001b[0m\u001b[1;33m(\u001b[0m\u001b[0mg\u001b[0m\u001b[1;33m,\u001b[0m \u001b[1;36m2\u001b[0m\u001b[1;33m,\u001b[0m \u001b[1;36m5\u001b[0m\u001b[1;33m)\u001b[0m \u001b[1;33m==\u001b[0m \u001b[1;33m[\u001b[0m\u001b[1;36m2\u001b[0m\u001b[1;33m,\u001b[0m \u001b[1;36m3\u001b[0m\u001b[1;33m,\u001b[0m \u001b[1;36m6\u001b[0m\u001b[1;33m,\u001b[0m \u001b[1;36m5\u001b[0m\u001b[1;33m]\u001b[0m\u001b[1;33m\u001b[0m\u001b[0m\n\u001b[1;32m      4\u001b[0m \u001b[1;32massert\u001b[0m \u001b[0mshortest_path\u001b[0m\u001b[1;33m(\u001b[0m\u001b[0mg\u001b[0m\u001b[1;33m,\u001b[0m \u001b[1;36m1\u001b[0m\u001b[1;33m,\u001b[0m \u001b[1;36m4\u001b[0m\u001b[1;33m)\u001b[0m \u001b[1;33m==\u001b[0m \u001b[1;33m[\u001b[0m\u001b[1;36m1\u001b[0m\u001b[1;33m,\u001b[0m \u001b[1;36m3\u001b[0m\u001b[1;33m,\u001b[0m \u001b[1;36m4\u001b[0m\u001b[1;33m]\u001b[0m\u001b[1;33m\u001b[0m\u001b[0m\n",
      "\u001b[0;31mAssertionError\u001b[0m: "
     ]
    }
   ],
   "source": [
    "assert shortest_path(g, 1, 5) == [1, 3, 6]\n",
    "assert shortest_path(g, 5, 1) == [5, 6, 3, 1]\n",
    "assert shortest_path(g, 2, 5) == [2, 3, 6, 5]\n",
    "assert shortest_path(g, 1, 4) == [1, 3, 4]"
   ]
  },
  {
   "cell_type": "code",
   "execution_count": 33,
   "metadata": {
    "collapsed": true
   },
   "outputs": [],
   "source": [
    "assert shortest_path(g, 1, 5) == [1, 3, 6, 5]\n",
    "assert shortest_path(g, 5, 1) == [5, 6, 3, 1]\n",
    "assert shortest_path(g, 2, 5) == [2, 3, 6, 5]\n",
    "assert shortest_path(g, 1, 4) == [1, 3, 4]"
   ]
  },
  {
   "cell_type": "code",
   "execution_count": 35,
   "metadata": {
    "collapsed": true
   },
   "outputs": [],
   "source": [
    "from IPython.core.interactiveshell import InteractiveShell\n",
    "InteractiveShell.ast_node_interactivity = \"all\""
   ]
  },
  {
   "cell_type": "code",
   "execution_count": 36,
   "metadata": {
    "collapsed": false
   },
   "outputs": [
    {
     "data": {
      "text/plain": [
       "[1, 3, 6, 5]"
      ]
     },
     "execution_count": 36,
     "metadata": {},
     "output_type": "execute_result"
    },
    {
     "data": {
      "text/plain": [
       "[5, 6, 3, 1]"
      ]
     },
     "execution_count": 36,
     "metadata": {},
     "output_type": "execute_result"
    },
    {
     "data": {
      "text/plain": [
       "[2, 3, 6, 5]"
      ]
     },
     "execution_count": 36,
     "metadata": {},
     "output_type": "execute_result"
    },
    {
     "data": {
      "text/plain": [
       "[1, 3, 4]"
      ]
     },
     "execution_count": 36,
     "metadata": {},
     "output_type": "execute_result"
    }
   ],
   "source": [
    "shortest_path(g, 1, 5) # [1, 3, 6, 5]\n",
    "shortest_path(g, 5, 1) # [5, 6, 3, 1]\n",
    "shortest_path(g, 2, 5) # [2, 3, 6, 5]\n",
    "shortest_path(g, 1, 4) # [1, 3, 4]"
   ]
  }
 ],
 "metadata": {
  "kernelspec": {
   "display_name": "Python 3",
   "language": "python",
   "name": "python3"
  },
  "language_info": {
   "codemirror_mode": {
    "name": "ipython",
    "version": 3
   },
   "file_extension": ".py",
   "mimetype": "text/x-python",
   "name": "python",
   "nbconvert_exporter": "python",
   "pygments_lexer": "ipython3",
   "version": "3.6.0"
  }
 },
 "nbformat": 4,
 "nbformat_minor": 2
}
