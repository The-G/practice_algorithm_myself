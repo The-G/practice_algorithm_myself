{
 "cells": [
  {
   "cell_type": "code",
   "execution_count": null,
   "metadata": {
    "collapsed": false
   },
   "outputs": [],
   "source": [
    "# find index problem\n",
    "V = input()\n",
    "n = input()\n",
    "inputs = list(map(int,input().split()))\n",
    "# print(inputs)\n",
    "index = 0\n",
    "for i in inputs:\n",
    "    if i == int(V):\n",
    "        print(index)\n",
    "    index += 1"
   ]
  },
  {
   "cell_type": "code",
   "execution_count": null,
   "metadata": {
    "collapsed": false
   },
   "outputs": [],
   "source": [
    "V = input()\n",
    "n = input()\n",
    "inputs = list(map(int,input().split()))\n",
    "print(inputs.index(int(V)))"
   ]
  },
  {
   "cell_type": "code",
   "execution_count": null,
   "metadata": {
    "collapsed": false,
    "scrolled": true
   },
   "outputs": [],
   "source": [
    "N = int(input())\n",
    "inputs = list(map(str,input().split()))\n",
    "\n",
    "before_result = \"\"\n",
    "for i in reversed(range(0, N)):\n",
    "#     print(\"t는\" + str(i))\n",
    "    t = inputs[i]\n",
    "    for j in reversed(range(0, i)):\n",
    "#         print(\"비교 index는\" + str(j))\n",
    "        if int(t) < int(inputs[j]): \n",
    "            inputs[j+1] = inputs[j]\n",
    "        elif int(t) > int(inputs[j]) and int(t) < int(inputs[j+1]):\n",
    "            inputs[j+1] = t\n",
    "        \n",
    "        \n",
    "        if before_result == \" \".join(inputs): \n",
    "            break\n",
    "        else:\n",
    "            before_result = \" \".join(inputs)\n",
    "            print(\" \".join(inputs))\n",
    "            \n",
    "        if j == 0:\n",
    "            inputs[0] = t\n",
    "#             print(\" \".join(inputs))\n",
    "            "
   ]
  },
  {
   "cell_type": "markdown",
   "metadata": {},
   "source": [
    "## InsertionSort 정확"
   ]
  },
  {
   "cell_type": "code",
   "execution_count": 11,
   "metadata": {
    "collapsed": false
   },
   "outputs": [],
   "source": [
    "# TODO:: 코드 이해해라!!\n",
    "def insertionSort(x):\n",
    "    for size in range(1, len(x)):\n",
    "        val = x[size]\n",
    "        i = size\n",
    "        while i > 0 and int(x[i-1]) > int(val):\n",
    "            x[i] = x[i-1]\n",
    "            i -= 1\n",
    "        x[i] = val\n",
    "        print(\" \".join(x))"
   ]
  },
  {
   "cell_type": "code",
   "execution_count": 12,
   "metadata": {
    "collapsed": false
   },
   "outputs": [
    {
     "name": "stdout",
     "output_type": "stream",
     "text": [
      "1 4 3 5 6 2\n",
      "1 4 3 5 6 2\n",
      "1 3 4 5 6 2\n",
      "1 3 4 5 6 2\n",
      "1 3 4 5 6 2\n",
      "1 2 3 4 5 6\n"
     ]
    }
   ],
   "source": [
    "x = list(map(str,input().split()))\n",
    "insertionSort(x)"
   ]
  },
  {
   "cell_type": "code",
   "execution_count": 7,
   "metadata": {
    "collapsed": false
   },
   "outputs": [
    {
     "data": {
      "text/plain": [
       "['1', '2', '3', '4', '5', '6']"
      ]
     },
     "execution_count": 7,
     "metadata": {},
     "output_type": "execute_result"
    }
   ],
   "source": [
    "x"
   ]
  },
  {
   "cell_type": "code",
   "execution_count": 22,
   "metadata": {
    "collapsed": false
   },
   "outputs": [
    {
     "name": "stdout",
     "output_type": "stream",
     "text": [
      "6\n",
      "1 2 4 5 0 4 0\n"
     ]
    },
    {
     "ename": "IndexError",
     "evalue": "list assignment index out of range",
     "output_type": "error",
     "traceback": [
      "\u001b[0;31m---------------------------------------------------------------------------\u001b[0m",
      "\u001b[0;31mIndexError\u001b[0m                                Traceback (most recent call last)",
      "\u001b[0;32m<ipython-input-22-7508771fe2d1>\u001b[0m in \u001b[0;36m<module>\u001b[0;34m()\u001b[0m\n\u001b[1;32m     15\u001b[0m \u001b[0mm\u001b[0m \u001b[1;33m=\u001b[0m \u001b[0mint\u001b[0m\u001b[1;33m(\u001b[0m\u001b[0minput\u001b[0m\u001b[1;33m(\u001b[0m\u001b[1;33m)\u001b[0m\u001b[1;33m.\u001b[0m\u001b[0mstrip\u001b[0m\u001b[1;33m(\u001b[0m\u001b[1;33m)\u001b[0m\u001b[1;33m)\u001b[0m\u001b[1;33m\u001b[0m\u001b[0m\n\u001b[1;32m     16\u001b[0m \u001b[0mar\u001b[0m \u001b[1;33m=\u001b[0m \u001b[1;33m[\u001b[0m\u001b[0mint\u001b[0m\u001b[1;33m(\u001b[0m\u001b[0mi\u001b[0m\u001b[1;33m)\u001b[0m \u001b[1;32mfor\u001b[0m \u001b[0mi\u001b[0m \u001b[1;32min\u001b[0m \u001b[0minput\u001b[0m\u001b[1;33m(\u001b[0m\u001b[1;33m)\u001b[0m\u001b[1;33m.\u001b[0m\u001b[0mstrip\u001b[0m\u001b[1;33m(\u001b[0m\u001b[1;33m)\u001b[0m\u001b[1;33m.\u001b[0m\u001b[0msplit\u001b[0m\u001b[1;33m(\u001b[0m\u001b[1;33m)\u001b[0m\u001b[1;33m]\u001b[0m\u001b[1;33m\u001b[0m\u001b[0m\n\u001b[0;32m---> 17\u001b[0;31m \u001b[0minsertion_sort\u001b[0m\u001b[1;33m(\u001b[0m\u001b[0mar\u001b[0m\u001b[1;33m)\u001b[0m\u001b[1;33m\u001b[0m\u001b[0m\n\u001b[0m\u001b[1;32m     18\u001b[0m \u001b[0mprint\u001b[0m\u001b[1;33m(\u001b[0m\u001b[1;34m\" \"\u001b[0m\u001b[1;33m.\u001b[0m\u001b[0mjoin\u001b[0m\u001b[1;33m(\u001b[0m\u001b[0mmap\u001b[0m\u001b[1;33m(\u001b[0m\u001b[0mstr\u001b[0m\u001b[1;33m,\u001b[0m\u001b[0mar\u001b[0m\u001b[1;33m)\u001b[0m\u001b[1;33m)\u001b[0m\u001b[1;33m)\u001b[0m\u001b[1;33m\u001b[0m\u001b[0m\n",
      "\u001b[0;32m<ipython-input-22-7508771fe2d1>\u001b[0m in \u001b[0;36minsertion_sort\u001b[0;34m(l)\u001b[0m\n\u001b[1;32m      6\u001b[0m             \u001b[0ml\u001b[0m\u001b[1;33m[\u001b[0m\u001b[0mj\u001b[0m\u001b[1;33m+\u001b[0m\u001b[1;36m1\u001b[0m\u001b[1;33m]\u001b[0m \u001b[1;33m=\u001b[0m \u001b[0ml\u001b[0m\u001b[1;33m[\u001b[0m\u001b[0mj\u001b[0m\u001b[1;33m]\u001b[0m\u001b[1;33m\u001b[0m\u001b[0m\n\u001b[1;32m      7\u001b[0m             \u001b[0mj\u001b[0m \u001b[1;33m-=\u001b[0m \u001b[1;36m1\u001b[0m\u001b[1;33m\u001b[0m\u001b[0m\n\u001b[0;32m----> 8\u001b[0;31m         \u001b[0ml\u001b[0m\u001b[1;33m[\u001b[0m\u001b[0mj\u001b[0m\u001b[1;33m+\u001b[0m\u001b[1;36m1\u001b[0m\u001b[1;33m]\u001b[0m \u001b[1;33m=\u001b[0m \u001b[0mkey\u001b[0m\u001b[1;33m\u001b[0m\u001b[0m\n\u001b[0m\u001b[1;32m      9\u001b[0m \u001b[1;33m\u001b[0m\u001b[0m\n\u001b[1;32m     10\u001b[0m \u001b[1;31m# 코드 틀린거 문제를 잘 파악해야 하는데!!\u001b[0m\u001b[1;33m\u001b[0m\u001b[1;33m\u001b[0m\u001b[0m\n",
      "\u001b[0;31mIndexError\u001b[0m: list assignment index out of range"
     ]
    }
   ],
   "source": [
    "def insertion_sort(l): # array를 받는다!\n",
    "    for i in range(1, len(l)): # array 전체를 훓는다.\n",
    "        key = l[i] # 전체를 훓는 도중에 비교할 값을 key로 지정한다. \n",
    "        j = i-1 # \n",
    "        while (j > 0) and (l[j] > key):\n",
    "            l[j+1] = l[j]\n",
    "            j -= 1\n",
    "        l[j+1] = key\n",
    "        \n",
    "# 코드 틀린거 문제를 잘 파악해야 하는데!!\n",
    "\n",
    "        \n",
    "\n",
    "\n",
    "m = int(input().strip())\n",
    "ar = [int(i) for i in input().strip().split()]\n",
    "insertion_sort(ar)\n",
    "print(\" \".join(map(str,ar)))"
   ]
  },
  {
   "cell_type": "code",
   "execution_count": null,
   "metadata": {
    "collapsed": true
   },
   "outputs": [],
   "source": []
  },
  {
   "cell_type": "code",
   "execution_count": 19,
   "metadata": {
    "collapsed": false
   },
   "outputs": [
    {
     "name": "stdout",
     "output_type": "stream",
     "text": [
      "6\n",
      "123\n",
      "321\n",
      "2\n",
      "1\n",
      "15486\n",
      "15555\n",
      "1\n",
      "2\n",
      "123\n",
      "321\n",
      "15486\n",
      "15555\n"
     ]
    }
   ],
   "source": [
    "import sys\n",
    "\n",
    "n = int(input().strip())\n",
    "\n",
    "unsorted = []\n",
    "unsorted_i = 0\n",
    "dic_unsorted = dict()\n",
    "for unsorted_i in range(n):\n",
    "    unsorted_t = [str(input().strip())]\n",
    "    unsorted_len= len(unsorted_t[0])\n",
    "    \n",
    "    if unsorted_len in dic_unsorted:\n",
    "        dic_unsorted[unsorted_len].append(unsorted_t[0])\n",
    "    else:\n",
    "        dic_unsorted[unsorted_len] = [unsorted_t[0]]\n",
    "        \n",
    "for i in sorted(dic_unsorted):\n",
    "    if len(dic_unsorted[i]) == 1:\n",
    "        print(dic_unsorted[i][0])\n",
    "    else :\n",
    "        for j in sorted(dic_unsorted[i]):\n",
    "            print(j)\n",
    "\n"
   ]
  },
  {
   "cell_type": "code",
   "execution_count": 21,
   "metadata": {
    "collapsed": false
   },
   "outputs": [
    {
     "name": "stdout",
     "output_type": "stream",
     "text": [
      "5 1 5 7 5 4\n",
      "1 5 5 7 5 4\n",
      "1 5 5 7 5 4\n",
      "1 5 5 7 5 4\n",
      "1 5 5 5 7 4\n",
      "1 4 5 5 5 7\n"
     ]
    }
   ],
   "source": [
    "def insertionSort(x):\n",
    "    for size in range(1, len(x)):\n",
    "        val = x[size]\n",
    "        i = size\n",
    "        while i > 0 and int(x[i-1]) > int(val):\n",
    "            x[i] = x[i-1]\n",
    "            i -= 1\n",
    "        x[i] = val\n",
    "        print(\" \".join(x))\n",
    "x = list(map(str,input().split()))\n",
    "insertionSort(x)"
   ]
  },
  {
   "cell_type": "code",
   "execution_count": 8,
   "metadata": {
    "collapsed": false
   },
   "outputs": [
    {
     "name": "stdout",
     "output_type": "stream",
     "text": [
      "\n"
     ]
    },
    {
     "ename": "ValueError",
     "evalue": "invalid literal for int() with base 10: ''",
     "output_type": "error",
     "traceback": [
      "\u001b[0;31m---------------------------------------------------------------------------\u001b[0m",
      "\u001b[0;31mValueError\u001b[0m                                Traceback (most recent call last)",
      "\u001b[0;32m<ipython-input-8-1727adc7fa7d>\u001b[0m in \u001b[0;36m<module>\u001b[0;34m()\u001b[0m\n\u001b[1;32m     10\u001b[0m \u001b[1;31m# 코드 틀린거 문제를 잘 파악해야 하는데!!\u001b[0m\u001b[1;33m\u001b[0m\u001b[1;33m\u001b[0m\u001b[0m\n\u001b[1;32m     11\u001b[0m \u001b[1;33m\u001b[0m\u001b[0m\n\u001b[0;32m---> 12\u001b[0;31m \u001b[0mm\u001b[0m \u001b[1;33m=\u001b[0m \u001b[0mint\u001b[0m\u001b[1;33m(\u001b[0m\u001b[0minput\u001b[0m\u001b[1;33m(\u001b[0m\u001b[1;33m)\u001b[0m\u001b[1;33m.\u001b[0m\u001b[0mstrip\u001b[0m\u001b[1;33m(\u001b[0m\u001b[1;33m)\u001b[0m\u001b[1;33m)\u001b[0m\u001b[1;33m\u001b[0m\u001b[0m\n\u001b[0m\u001b[1;32m     13\u001b[0m \u001b[0mar\u001b[0m \u001b[1;33m=\u001b[0m \u001b[1;33m[\u001b[0m\u001b[0mint\u001b[0m\u001b[1;33m(\u001b[0m\u001b[0mi\u001b[0m\u001b[1;33m)\u001b[0m \u001b[1;32mfor\u001b[0m \u001b[0mi\u001b[0m \u001b[1;32min\u001b[0m \u001b[0minput\u001b[0m\u001b[1;33m(\u001b[0m\u001b[1;33m)\u001b[0m\u001b[1;33m.\u001b[0m\u001b[0mstrip\u001b[0m\u001b[1;33m(\u001b[0m\u001b[1;33m)\u001b[0m\u001b[1;33m.\u001b[0m\u001b[0msplit\u001b[0m\u001b[1;33m(\u001b[0m\u001b[1;33m)\u001b[0m\u001b[1;33m]\u001b[0m\u001b[1;33m\u001b[0m\u001b[0m\n\u001b[1;32m     14\u001b[0m \u001b[0minsertion_sort\u001b[0m\u001b[1;33m(\u001b[0m\u001b[0mar\u001b[0m\u001b[1;33m)\u001b[0m\u001b[1;33m\u001b[0m\u001b[0m\n",
      "\u001b[0;31mValueError\u001b[0m: invalid literal for int() with base 10: ''"
     ]
    }
   ],
   "source": [
    "def insertion_sort(l): # array를 받는다!\n",
    "    for i in range(1, len(l)): # array 전체를 훓는다.\n",
    "        key = l[i] # 전체를 훓는 도중에 비교할 값을 key로 지정한다. \n",
    "        j = i-1 # \n",
    "        while (j > 0) and (l[j] > key):\n",
    "            l[j+1] = l[j]\n",
    "            j -= 1\n",
    "        l[j+1] = key\n",
    "        \n",
    "# 코드 틀린거 문제를 잘 파악해야 하는데!!\n",
    "\n",
    "m = int(input().strip())\n",
    "ar = [int(i) for i in input().strip().split()]\n",
    "insertion_sort(ar)\n",
    "print(\" \".join(map(str,ar)))"
   ]
  },
  {
   "cell_type": "markdown",
   "metadata": {},
   "source": [
    "# 확실한 InsertionSort"
   ]
  },
  {
   "cell_type": "code",
   "execution_count": 3,
   "metadata": {
    "collapsed": false
   },
   "outputs": [
    {
     "name": "stdout",
     "output_type": "stream",
     "text": [
      "5\n",
      "1 2 3 5 4\n",
      "1 2 3 4 5\n",
      "1\n"
     ]
    }
   ],
   "source": [
    "\n",
    "def insertion_sort(l):\n",
    "    for i in range(1, len(l)):\n",
    "        key = l[i]\n",
    "        j = i\n",
    "        while (j > 0) and (l[j-1] > key):\n",
    "            l[j] = l[j-1]\n",
    "            j -= 1\n",
    "        l[j] = key\n",
    "\n",
    "m = int(input().strip())\n",
    "ar = [int(i) for i in input().strip().split()]\n",
    "insertion_sort(ar)\n",
    "print(\" \".join(map(str,ar)))"
   ]
  },
  {
   "cell_type": "code",
   "execution_count": null,
   "metadata": {
    "collapsed": false
   },
   "outputs": [],
   "source": [
    "def insertion_sort(l):\n",
    "    count = 0\n",
    "    for i in range(1, len(l)):\n",
    "        key = l[i]\n",
    "        j = i\n",
    "        while (j > 0) and (l[j-1] > key):\n",
    "            l[j] = l[j-1]\n",
    "            j -= 1\n",
    "            count += 1\n",
    "        l[j] = key\n",
    "    return count\n",
    "\n",
    "m = int(input().strip())\n",
    "ar = [int(i) for i in input().strip().split()]\n",
    "cnt = insertion_sort(ar)\n",
    "print(cnt)"
   ]
  },
  {
   "cell_type": "markdown",
   "metadata": {},
   "source": [
    "# QuickSort"
   ]
  },
  {
   "cell_type": "code",
   "execution_count": 39,
   "metadata": {
    "collapsed": false
   },
   "outputs": [
    {
     "name": "stdout",
     "output_type": "stream",
     "text": [
      "5\n",
      "4 5 3 7 2\n",
      "3 2 4 5 7 "
     ]
    },
    {
     "data": {
      "text/plain": [
       "[None, None, None, None, None]"
      ]
     },
     "execution_count": 39,
     "metadata": {},
     "output_type": "execute_result"
    }
   ],
   "source": [
    "def quick_sort(ar):\n",
    "    p = ar[0]\n",
    "    equal = p\n",
    "    left = []\n",
    "    right = []\n",
    "    for i in range(1, len(ar)):\n",
    "        if ar[i] >= p:\n",
    "            right.append(ar[i])\n",
    "        else :\n",
    "            left.append(ar[i])\n",
    "  \n",
    "    return left + [equal] + right\n",
    "# ' '.join(str(x) for x in left)\n",
    "    \n",
    "m = int(input().strip())\n",
    "ar = [int(i) for i in input().strip().split()]\n",
    "# input() 받은 걸을 strip() 하고 space로 split함\n",
    "result = quick_sort(ar)\n",
    "[print(i, end=\" \") for i in result]"
   ]
  },
  {
   "cell_type": "code",
   "execution_count": null,
   "metadata": {
    "collapsed": true
   },
   "outputs": [],
   "source": []
  },
  {
   "cell_type": "markdown",
   "metadata": {},
   "source": [
    "- 중복값 찾기! 0~99 까지"
   ]
  },
  {
   "cell_type": "code",
   "execution_count": 65,
   "metadata": {
    "collapsed": true
   },
   "outputs": [
    {
     "name": "stdout",
     "output_type": "stream",
     "text": [
      "5\n",
      "0 1 1 2 2\n",
      "1 2 2 0 0 0 0 0 0 0 0 0 0 0 0 0 0 0 0 0 0 0 0 0 0 0 0 0 0 0 0 0 0 0 0 0 0 0 0 0 0 0 0 0 0 0 0 0 0 0 0 0 0 0 0 0 0 0 0 0 0 0 0 0 0 0 0 0 0 0 0 0 0 0 0 0 0 0 0 0 0 0 0 0 0 0 0 0 0 0 0 0 0 0 0 0 0 0 0 0 "
     ]
    },
    {
     "data": {
      "text/plain": [
       "[None,\n",
       " None,\n",
       " None,\n",
       " None,\n",
       " None,\n",
       " None,\n",
       " None,\n",
       " None,\n",
       " None,\n",
       " None,\n",
       " None,\n",
       " None,\n",
       " None,\n",
       " None,\n",
       " None,\n",
       " None,\n",
       " None,\n",
       " None,\n",
       " None,\n",
       " None,\n",
       " None,\n",
       " None,\n",
       " None,\n",
       " None,\n",
       " None,\n",
       " None,\n",
       " None,\n",
       " None,\n",
       " None,\n",
       " None,\n",
       " None,\n",
       " None,\n",
       " None,\n",
       " None,\n",
       " None,\n",
       " None,\n",
       " None,\n",
       " None,\n",
       " None,\n",
       " None,\n",
       " None,\n",
       " None,\n",
       " None,\n",
       " None,\n",
       " None,\n",
       " None,\n",
       " None,\n",
       " None,\n",
       " None,\n",
       " None,\n",
       " None,\n",
       " None,\n",
       " None,\n",
       " None,\n",
       " None,\n",
       " None,\n",
       " None,\n",
       " None,\n",
       " None,\n",
       " None,\n",
       " None,\n",
       " None,\n",
       " None,\n",
       " None,\n",
       " None,\n",
       " None,\n",
       " None,\n",
       " None,\n",
       " None,\n",
       " None,\n",
       " None,\n",
       " None,\n",
       " None,\n",
       " None,\n",
       " None,\n",
       " None,\n",
       " None,\n",
       " None,\n",
       " None,\n",
       " None,\n",
       " None,\n",
       " None,\n",
       " None,\n",
       " None,\n",
       " None,\n",
       " None,\n",
       " None,\n",
       " None,\n",
       " None,\n",
       " None,\n",
       " None,\n",
       " None,\n",
       " None,\n",
       " None,\n",
       " None,\n",
       " None,\n",
       " None,\n",
       " None,\n",
       " None,\n",
       " None]"
      ]
     },
     "execution_count": 65,
     "metadata": {},
     "output_type": "execute_result"
    }
   ],
   "source": [
    "# dictionary key 값으로 0~99 만들어 놓기\n",
    "\n",
    "# 0이 몇번 1이 몇번... 99가 몇번 나왔는지, output 하는거임!\n",
    "\n",
    "\n",
    "def duplicated(ar):\n",
    "    num = dict()\n",
    "    for i in range(100):\n",
    "        num[i] = 0\n",
    "    \n",
    "    for ar_v in ar:\n",
    "        num[ar_v] += 1\n",
    "        \n",
    "    return num\n",
    "        \n",
    "    \n",
    "n = int(input().strip())\n",
    "ar = [int(i) for i in input().strip().split()]\n",
    "result = duplicated(ar)\n",
    "[print(i, end= \" \") for i in list(result.values())]\n",
    "\n"
   ]
  },
  {
   "cell_type": "code",
   "execution_count": 1,
   "metadata": {
    "collapsed": false
   },
   "outputs": [
    {
     "name": "stdout",
     "output_type": "stream",
     "text": [
      "5\n",
      "0 1 0 1 54\n",
      "0 0 1 1 54 "
     ]
    }
   ],
   "source": [
    "# 카운팅을 하고 그것을 그 개수만큼 적은다!! \n",
    "\n",
    "def duplicated(ar):\n",
    "    num = dict()\n",
    "    for i in range(100):\n",
    "        num[i] = 0\n",
    "    \n",
    "    for ar_v in ar:\n",
    "        num[ar_v] += 1\n",
    "        \n",
    "    return num\n",
    "    \n",
    "    \n",
    "n = int(input().strip())\n",
    "ar = [int(i) for i in input().strip().split()]\n",
    "result = duplicated(ar)\n",
    "\n",
    "for i in range(100):\n",
    "    if list(result.values())[i] != 0:\n",
    "        text = str(list(result.keys())[i]) + ' '\n",
    "        print(text * list(result.values())[i], end=\"\")\n",
    "    \n",
    "\n"
   ]
  },
  {
   "cell_type": "code",
   "execution_count": 13,
   "metadata": {
    "collapsed": false
   },
   "outputs": [
    {
     "data": {
      "text/plain": [
       "'0'"
      ]
     },
     "execution_count": 13,
     "metadata": {},
     "output_type": "execute_result"
    }
   ],
   "source": [
    "str(list(result.keys())[0])"
   ]
  },
  {
   "cell_type": "code",
   "execution_count": 14,
   "metadata": {
    "collapsed": false
   },
   "outputs": [
    {
     "data": {
      "text/plain": [
       "2"
      ]
     },
     "execution_count": 14,
     "metadata": {},
     "output_type": "execute_result"
    }
   ],
   "source": [
    "list(result.values())[0]"
   ]
  },
  {
   "cell_type": "raw",
   "metadata": {
    "collapsed": false
   },
   "source": [
    "Below is the list in the correct order. The strings of each number were printed above for the second half of the array. Elements from the first half of the original array were replaced with dashes.\n",
    "\n",
    "20\n",
    "0 ab\n",
    "6 cd\n",
    "0 ef\n",
    "6 gh\n",
    "4 ij\n",
    "0 ab\n",
    "6 cd\n",
    "0 ef\n",
    "6 gh\n",
    "0 ij\n",
    "4 that\n",
    "3 be\n",
    "0 to\n",
    "1 be\n",
    "5 question\n",
    "1 or\n",
    "2 not\n",
    "4 is\n",
    "2 to\n",
    "4 the\n",
    "\n",
    "값받고 \"-\" 만들어야 할 것들 기록해 두고 ,(기록할 때 변형해서 해도 되겠다 해독되면!)\n",
    "받으면서 sort?!\n"
   ]
  },
  {
   "cell_type": "code",
   "execution_count": 27,
   "metadata": {
    "collapsed": false
   },
   "outputs": [
    {
     "name": "stdout",
     "output_type": "stream",
     "text": [
      "5\n",
      "1 fd\n",
      "3 fds\n",
      "4 af\n",
      "2 fds\n",
      "3 fds\n",
      "{1: ['-'], 3: ['-', 'fds'], 4: ['af'], 2: ['fds']}\n",
      "[1, 2, 3, 4]\n",
      "- fds - fds af - fds -fds af "
     ]
    }
   ],
   "source": [
    "n = int(input().strip())\n",
    "dic_t = dict()\n",
    "half_n = int(n/2)\n",
    "for i in range(n):\n",
    "    temp = [str(i) for i in input().strip().split()]\n",
    "    temp[0] = int(temp[0])\n",
    "    if i < half_n:\n",
    "        if temp[0] in dic_t:\n",
    "            dic_t[temp[0]].append(\"-\")\n",
    "        else:\n",
    "            dic_t[temp[0]] = [\"-\"]\n",
    "    else :\n",
    "        if temp[0] in dic_t:\n",
    "            dic_t[temp[0]].append(temp[1])\n",
    "        else:\n",
    "            dic_t[temp[0]] = [temp[1]]\n",
    "\n",
    "# print(dic_t)\n",
    "# print(sorted(dic_t))\n",
    "# for i in sorted(dic_t):\n",
    "#     for j in dic_t[i]:\n",
    "#         print(j, end=\" \")\n",
    "\n",
    "for i in sorted(dic_t):\n",
    "    print(''.join(dic_t[i]), end=\" \")\n",
    "    \n",
    "\n",
    "    \n",
    "# for i in \n",
    "# list(dic_t.values())[i]\n",
    "    \n",
    "    \n",
    "    \n",
    "        "
   ]
  },
  {
   "cell_type": "markdown",
   "metadata": {
    "collapsed": false
   },
   "source": [
    "## print(str_ar)\n",
    "print(int_ar)\n"
   ]
  },
  {
   "cell_type": "code",
   "execution_count": 4,
   "metadata": {
    "collapsed": false
   },
   "outputs": [
    {
     "ename": "TypeError",
     "evalue": "index() takes at least 1 argument (0 given)",
     "output_type": "error",
     "traceback": [
      "\u001b[0;31m---------------------------------------------------------------------------\u001b[0m",
      "\u001b[0;31mTypeError\u001b[0m                                 Traceback (most recent call last)",
      "\u001b[0;32m<ipython-input-4-9b694deafddb>\u001b[0m in \u001b[0;36m<module>\u001b[0;34m()\u001b[0m\n\u001b[0;32m----> 1\u001b[0;31m \u001b[0mint_ar\u001b[0m\u001b[1;33m.\u001b[0m\u001b[0mindex\u001b[0m\u001b[1;33m(\u001b[0m\u001b[1;33m)\u001b[0m\u001b[1;33m\u001b[0m\u001b[0m\n\u001b[0m",
      "\u001b[0;31mTypeError\u001b[0m: index() takes at least 1 argument (0 given)"
     ]
    }
   ],
   "source": [
    "for "
   ]
  },
  {
   "cell_type": "markdown",
   "metadata": {
    "collapsed": true
   },
   "source": [
    "### ---------------------------------------------------------------------------------------------------------------"
   ]
  },
  {
   "cell_type": "markdown",
   "metadata": {},
   "source": [
    "### shell sort"
   ]
  },
  {
   "cell_type": "code",
   "execution_count": 1,
   "metadata": {
    "collapsed": true
   },
   "outputs": [],
   "source": [
    "def gapInsertionSort(x, start, gap):\n",
    "    for target in range(start+gap, len(x), gap): #gap의 마지막 값부터 마지막까지 \n",
    "                                                 # gap 간격으로 이동 한 값 반환\n",
    "        val = x[target] # val에 gab 간격으로 이동한 값을 대입!! \n",
    "        print(str(target+1) + \" 번째 선택 \", end=\" \")\n",
    "        i = target\n",
    "        print()\n",
    "        while i > start: # gap 간격으로 이동한 값 보다 start 보다 작으면 계속\n",
    "            if x[i-gap] > val: # start 값이 target 값보다 크면 \n",
    "                print(str(i+1) + \"번째 값에 \" + str(i-gap+1) + \"번째 값을 넣는다\")\n",
    "                x[i] = x[i-gap] # target값 <= start값\n",
    "            else:\n",
    "                print(\"gap 끝!\")\n",
    "                break\n",
    "            print(str(i) + \"를\" + str(i-gap) + \"(i-gap)으로 변경\")\n",
    "            i -= gap\n",
    "        x[i] = val\n",
    "        print(x)\n",
    "\n",
    "def shellSort(x):\n",
    "    gap = len(x) // 2 # array의 절반 크기만큼을 gap으로!! \n",
    "    while gap > 0: # gap이 0보다 크면 계속!\n",
    "        for start in range(gap): # 갭크기 유지하며 0부터 끝까지 이동!!!\n",
    "            gapInsertionSort(x, start, gap)\n",
    "        gap = gap // 2"
   ]
  },
  {
   "cell_type": "code",
   "execution_count": 2,
   "metadata": {
    "collapsed": false
   },
   "outputs": [
    {
     "name": "stdout",
     "output_type": "stream",
     "text": [
      "7 번째 선택  \n",
      "gap 끝!\n",
      "[1, 3, 0, 4, 11, 0, 34, 5, 12313, 5, 4326, 523, 543]\n",
      "13 번째 선택  \n",
      "gap 끝!\n",
      "[1, 3, 0, 4, 11, 0, 34, 5, 12313, 5, 4326, 523, 543]\n",
      "8 번째 선택  \n",
      "gap 끝!\n",
      "[1, 3, 0, 4, 11, 0, 34, 5, 12313, 5, 4326, 523, 543]\n",
      "9 번째 선택  \n",
      "gap 끝!\n",
      "[1, 3, 0, 4, 11, 0, 34, 5, 12313, 5, 4326, 523, 543]\n",
      "10 번째 선택  \n",
      "gap 끝!\n",
      "[1, 3, 0, 4, 11, 0, 34, 5, 12313, 5, 4326, 523, 543]\n",
      "11 번째 선택  \n",
      "gap 끝!\n",
      "[1, 3, 0, 4, 11, 0, 34, 5, 12313, 5, 4326, 523, 543]\n",
      "12 번째 선택  \n",
      "gap 끝!\n",
      "[1, 3, 0, 4, 11, 0, 34, 5, 12313, 5, 4326, 523, 543]\n",
      "4 번째 선택  \n",
      "gap 끝!\n",
      "[1, 3, 0, 4, 11, 0, 34, 5, 12313, 5, 4326, 523, 543]\n",
      "7 번째 선택  \n",
      "gap 끝!\n",
      "[1, 3, 0, 4, 11, 0, 34, 5, 12313, 5, 4326, 523, 543]\n",
      "10 번째 선택  \n",
      "10번째 값에 7번째 값을 넣는다\n",
      "9를6(i-gap)으로 변경\n",
      "gap 끝!\n",
      "[1, 3, 0, 4, 11, 0, 5, 5, 12313, 34, 4326, 523, 543]\n",
      "13 번째 선택  \n",
      "gap 끝!\n",
      "[1, 3, 0, 4, 11, 0, 5, 5, 12313, 34, 4326, 523, 543]\n",
      "5 번째 선택  \n",
      "gap 끝!\n",
      "[1, 3, 0, 4, 11, 0, 5, 5, 12313, 34, 4326, 523, 543]\n",
      "8 번째 선택  \n",
      "8번째 값에 5번째 값을 넣는다\n",
      "7를4(i-gap)으로 변경\n",
      "gap 끝!\n",
      "[1, 3, 0, 4, 5, 0, 5, 11, 12313, 34, 4326, 523, 543]\n",
      "11 번째 선택  \n",
      "gap 끝!\n",
      "[1, 3, 0, 4, 5, 0, 5, 11, 12313, 34, 4326, 523, 543]\n",
      "6 번째 선택  \n",
      "gap 끝!\n",
      "[1, 3, 0, 4, 5, 0, 5, 11, 12313, 34, 4326, 523, 543]\n",
      "9 번째 선택  \n",
      "gap 끝!\n",
      "[1, 3, 0, 4, 5, 0, 5, 11, 12313, 34, 4326, 523, 543]\n",
      "12 번째 선택  \n",
      "12번째 값에 9번째 값을 넣는다\n",
      "11를8(i-gap)으로 변경\n",
      "gap 끝!\n",
      "[1, 3, 0, 4, 5, 0, 5, 11, 523, 34, 4326, 12313, 543]\n",
      "2 번째 선택  \n",
      "gap 끝!\n",
      "[1, 3, 0, 4, 5, 0, 5, 11, 523, 34, 4326, 12313, 543]\n",
      "3 번째 선택  \n",
      "3번째 값에 2번째 값을 넣는다\n",
      "2를1(i-gap)으로 변경\n",
      "2번째 값에 1번째 값을 넣는다\n",
      "1를0(i-gap)으로 변경\n",
      "[0, 1, 3, 4, 5, 0, 5, 11, 523, 34, 4326, 12313, 543]\n",
      "4 번째 선택  \n",
      "gap 끝!\n",
      "[0, 1, 3, 4, 5, 0, 5, 11, 523, 34, 4326, 12313, 543]\n",
      "5 번째 선택  \n",
      "gap 끝!\n",
      "[0, 1, 3, 4, 5, 0, 5, 11, 523, 34, 4326, 12313, 543]\n",
      "6 번째 선택  \n",
      "6번째 값에 5번째 값을 넣는다\n",
      "5를4(i-gap)으로 변경\n",
      "5번째 값에 4번째 값을 넣는다\n",
      "4를3(i-gap)으로 변경\n",
      "4번째 값에 3번째 값을 넣는다\n",
      "3를2(i-gap)으로 변경\n",
      "3번째 값에 2번째 값을 넣는다\n",
      "2를1(i-gap)으로 변경\n",
      "gap 끝!\n",
      "[0, 0, 1, 3, 4, 5, 5, 11, 523, 34, 4326, 12313, 543]\n",
      "7 번째 선택  \n",
      "gap 끝!\n",
      "[0, 0, 1, 3, 4, 5, 5, 11, 523, 34, 4326, 12313, 543]\n",
      "8 번째 선택  \n",
      "gap 끝!\n",
      "[0, 0, 1, 3, 4, 5, 5, 11, 523, 34, 4326, 12313, 543]\n",
      "9 번째 선택  \n",
      "gap 끝!\n",
      "[0, 0, 1, 3, 4, 5, 5, 11, 523, 34, 4326, 12313, 543]\n",
      "10 번째 선택  \n",
      "10번째 값에 9번째 값을 넣는다\n",
      "9를8(i-gap)으로 변경\n",
      "gap 끝!\n",
      "[0, 0, 1, 3, 4, 5, 5, 11, 34, 523, 4326, 12313, 543]\n",
      "11 번째 선택  \n",
      "gap 끝!\n",
      "[0, 0, 1, 3, 4, 5, 5, 11, 34, 523, 4326, 12313, 543]\n",
      "12 번째 선택  \n",
      "gap 끝!\n",
      "[0, 0, 1, 3, 4, 5, 5, 11, 34, 523, 4326, 12313, 543]\n",
      "13 번째 선택  \n",
      "13번째 값에 12번째 값을 넣는다\n",
      "12를11(i-gap)으로 변경\n",
      "12번째 값에 11번째 값을 넣는다\n",
      "11를10(i-gap)으로 변경\n",
      "gap 끝!\n",
      "[0, 0, 1, 3, 4, 5, 5, 11, 34, 523, 543, 4326, 12313]\n"
     ]
    }
   ],
   "source": [
    "x=[1,3,0,4,11,0,34,5,12313,5,4326,523,543]\n",
    "shellSort(x)"
   ]
  },
  {
   "cell_type": "code",
   "execution_count": null,
   "metadata": {
    "collapsed": true
   },
   "outputs": [],
   "source": [
    "\n"
   ]
  },
  {
   "cell_type": "raw",
   "metadata": {},
   "source": [
    "Sample Input\n",
    "    2  \n",
    "    5  \n",
    "    1 1 1 2 2  \n",
    "    5  \n",
    "    2 1 3 1 2\n",
    "\n",
    "Sample Output\n",
    "    0  \n",
    "    4   \n",
    "\n",
    "- Insertion Sort Advanced Analysis\n",
    "\n",
    "The first query is already sorted, therefore there's no need to shift any element. In the second case, it will proceed in the following way.\n",
    "\n",
    "Array: 2 1 3 1 2 -> 1 2 3 1 2 -> 1 1 2 3 2 -> 1 1 2 2 3\n",
    "Moves:   -        1       -    2         -  1            = 4"
   ]
  },
  {
   "cell_type": "code",
   "execution_count": null,
   "metadata": {
    "collapsed": true
   },
   "outputs": [],
   "source": [
    "# how many array \n",
    "n = int(input().strip())\n",
    "\n",
    "# how many element each array\n",
    "ar_n = []\n",
    "ar = []\n",
    "for i in range(n):\n",
    "    ar_n.append(int(input().strip()))\n",
    "    ar.append([int(i) for i in input().strip().split()])\n",
    "\n",
    "# print(n)\n",
    "# print(ar_n)\n",
    "# print(ar)\n",
    "    \n",
    "def insertion_sort(l):\n",
    "    count = 0\n",
    "    for i in range(1, len(l)):\n",
    "        key = l[i]\n",
    "        j = i\n",
    "        while (j > 0) and (l[j-1] > key):\n",
    "            l[j] = l[j-1]\n",
    "            j -= 1\n",
    "            count += 1\n",
    "        l[j] = key\n",
    "    print(count)\n",
    "\n",
    "# ar의 shift count 세기!! \n",
    "for j in ar:\n",
    "    insertion_sort(j)\n"
   ]
  }
 ],
 "metadata": {
  "kernelspec": {
   "display_name": "Python 3",
   "language": "python",
   "name": "python3"
  },
  "language_info": {
   "codemirror_mode": {
    "name": "ipython",
    "version": 3
   },
   "file_extension": ".py",
   "mimetype": "text/x-python",
   "name": "python",
   "nbconvert_exporter": "python",
   "pygments_lexer": "ipython3",
   "version": "3.6.0"
  }
 },
 "nbformat": 4,
 "nbformat_minor": 2
}
