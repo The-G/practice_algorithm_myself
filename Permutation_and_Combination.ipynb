{
 "cells": [
  {
   "cell_type": "markdown",
   "metadata": {},
   "source": [
    "# ==Permutation(순열)=="
   ]
  },
  {
   "cell_type": "code",
   "execution_count": 13,
   "metadata": {
    "collapsed": true
   },
   "outputs": [],
   "source": [
    "def perm(arr, i):\n",
    "    if i == len(arr) - 1:\n",
    "        print(\"arr is\", arr)\n",
    "    else:\n",
    "        for j in range(i, len(arr)):\n",
    "            print(\"do swap: \", arr[i], \"&\", arr[j])\n",
    "            arr[i], arr[j] = arr[j], arr[i] \n",
    "            perm(arr, i + 1)\n",
    "            print(\"undo swap: \", arr[i], \"&\", arr[j])\n",
    "            arr[i], arr[j] = arr[j], arr[i]  # swap back, for the next loop"
   ]
  },
  {
   "cell_type": "code",
   "execution_count": 14,
   "metadata": {
    "collapsed": false
   },
   "outputs": [
    {
     "name": "stdout",
     "output_type": "stream",
     "text": [
      "do swap:  a & a\n",
      "do swap:  b & b\n",
      "arr is ['a', 'b', 'c']\n",
      "undo swap:  b & b\n",
      "do swap:  b & c\n",
      "arr is ['a', 'c', 'b']\n",
      "undo swap:  c & b\n",
      "undo swap:  a & a\n",
      "do swap:  a & b\n",
      "do swap:  a & a\n",
      "arr is ['b', 'a', 'c']\n",
      "undo swap:  a & a\n",
      "do swap:  a & c\n",
      "arr is ['b', 'c', 'a']\n",
      "undo swap:  c & a\n",
      "undo swap:  b & a\n",
      "do swap:  a & c\n",
      "do swap:  b & b\n",
      "arr is ['c', 'b', 'a']\n",
      "undo swap:  b & b\n",
      "do swap:  b & a\n",
      "arr is ['c', 'a', 'b']\n",
      "undo swap:  a & b\n",
      "undo swap:  c & a\n"
     ]
    }
   ],
   "source": [
    "perm([\"a\", \"b\", \"c\"], 0)"
   ]
  },
  {
   "cell_type": "markdown",
   "metadata": {},
   "source": [
    "#### Others 1"
   ]
  },
  {
   "cell_type": "code",
   "execution_count": 63,
   "metadata": {
    "collapsed": true
   },
   "outputs": [],
   "source": [
    "from IPython.core.interactiveshell import InteractiveShell\n",
    "InteractiveShell.ast_node_interactivity = \"all\""
   ]
  },
  {
   "cell_type": "code",
   "execution_count": 64,
   "metadata": {
    "collapsed": false
   },
   "outputs": [
    {
     "data": {
      "text/plain": [
       "<itertools.permutations at 0x13822a00db0>"
      ]
     },
     "execution_count": 64,
     "metadata": {},
     "output_type": "execute_result"
    },
    {
     "data": {
      "text/plain": [
       "[(1, 2, 3), (1, 3, 2), (2, 1, 3), (2, 3, 1), (3, 1, 2), (3, 2, 1)]"
      ]
     },
     "execution_count": 64,
     "metadata": {},
     "output_type": "execute_result"
    }
   ],
   "source": [
    "import itertools\n",
    "itertools.permutations([1,2,3])\n",
    "list(itertools.permutations([1,2,3]))"
   ]
  },
  {
   "cell_type": "markdown",
   "metadata": {},
   "source": [
    "#### Others 2"
   ]
  },
  {
   "cell_type": "code",
   "execution_count": 97,
   "metadata": {
    "collapsed": false
   },
   "outputs": [],
   "source": [
    "def permutations(head, tail=''):\n",
    "    if len(head) == 0: \n",
    "        print(tail)\n",
    "    else:\n",
    "        for i in range(len(head)):\n",
    "            permutations(head[0:i] + head[i+1:], tail+head[i])"
   ]
  },
  {
   "cell_type": "code",
   "execution_count": 98,
   "metadata": {
    "collapsed": false
   },
   "outputs": [
    {
     "name": "stdout",
     "output_type": "stream",
     "text": [
      "abc\n",
      "acb\n",
      "bac\n",
      "bca\n",
      "cab\n",
      "cba\n"
     ]
    }
   ],
   "source": [
    "permutations('abc')"
   ]
  },
  {
   "cell_type": "markdown",
   "metadata": {},
   "source": [
    "#### Others 3\n",
    "- reference : https://www.youtube.com/watch?v=hqijNdQTBH8"
   ]
  },
  {
   "cell_type": "code",
   "execution_count": 188,
   "metadata": {
    "collapsed": false
   },
   "outputs": [],
   "source": [
    "def perm1(lst):\n",
    "    if len(lst) == 0:\n",
    "        return []\n",
    "    elif len(lst) == 1:\n",
    "        return [lst]\n",
    "    else:\n",
    "        l = []\n",
    "        for i in range(len(lst)):\n",
    "            x = lst[i]                      # select element\n",
    "            except_x = lst[:i] + lst[i+1:]  # except select element\n",
    "            for p in perm1(except_x): # 재귀!! \n",
    "                l.append([x]+p)\n",
    "        \n",
    "        return l # 마지막 return만 봄!!!! "
   ]
  },
  {
   "cell_type": "code",
   "execution_count": null,
   "metadata": {
    "collapsed": false
   },
   "outputs": [],
   "source": [
    "\"\"\"\n",
    "- list('abc') = ['a','b','c']로 test\n",
    "1. l=[]\n",
    "2. Outter for문에서 (0,1,2) 중 0\n",
    "3. x = ['a'] except_x = ['b','c']\n",
    "4. Inner for문에서  perm1(except_x) 재귀문을 통해서, ['b','c'], ['c','b'] 가 출력되고,\n",
    "5. 결과 ['a','b','c'], ['a','c','b'] 결과 나온다. 나머지도 이런식으로!! \n",
    "\"\"\""
   ]
  },
  {
   "cell_type": "code",
   "execution_count": 189,
   "metadata": {
    "collapsed": false
   },
   "outputs": [
    {
     "name": "stdout",
     "output_type": "stream",
     "text": [
      "['a', 'b', 'c']\n",
      "['a', 'c', 'b']\n",
      "['b', 'a', 'c']\n",
      "['b', 'c', 'a']\n",
      "['c', 'a', 'b']\n",
      "['c', 'b', 'a']\n"
     ]
    }
   ],
   "source": [
    "data = list('abc')\n",
    "for p in perm1(data):\n",
    "    print(p)"
   ]
  },
  {
   "cell_type": "markdown",
   "metadata": {},
   "source": [
    "- yield 이용!!, 메모리를 거의 사용하지 않는다!!!!\n",
    "- yield 참고 : http://kkamikoon.tistory.com/90"
   ]
  },
  {
   "cell_type": "code",
   "execution_count": 199,
   "metadata": {
    "collapsed": true
   },
   "outputs": [],
   "source": [
    "def perm2(lst):\n",
    "    if len(lst) == 0:\n",
    "        yield []\n",
    "    elif len(lst) == 1:\n",
    "        yield lst\n",
    "    else:\n",
    "        for i in range(len(lst)):\n",
    "            x = lst[i]                      # select element\n",
    "            except_x = lst[:i] + lst[i+1:]  # except select eleㅠment\n",
    "            for p in perm1(except_x): # 재귀!! \n",
    "                yield [x]+p"
   ]
  },
  {
   "cell_type": "code",
   "execution_count": 200,
   "metadata": {
    "collapsed": false
   },
   "outputs": [
    {
     "name": "stdout",
     "output_type": "stream",
     "text": [
      "['a', 'b', 'c']\n",
      "['a', 'c', 'b']\n",
      "['b', 'a', 'c']\n",
      "['b', 'c', 'a']\n",
      "['c', 'a', 'b']\n",
      "['c', 'b', 'a']\n"
     ]
    }
   ],
   "source": [
    "data = list('abc')\n",
    "for p in perm2(data):\n",
    "    print(p)"
   ]
  },
  {
   "cell_type": "markdown",
   "metadata": {},
   "source": [
    "---\n",
    "#### 더 참고하면 좋은 자료!! \n",
    "\n",
    "참고 : http://hashcode.co.kr/questions/533/%EB%A6%AC%EC%8A%A4%ED%8A%B8%EC%97%90%EC%84%9C-%EA%B0%80%EB%8A%A5%ED%95%9C-%EC%88%9C%EC%97%B4%EC%9D%84-%EB%AA%A8%EB%91%90-%EA%B5%AC%ED%95%98%EB%8A%94-%EB%B2%95\n",
    "\n",
    "---"
   ]
  },
  {
   "cell_type": "markdown",
   "metadata": {},
   "source": [
    "# ==Combination(조합)=="
   ]
  },
  {
   "cell_type": "code",
   "execution_count": null,
   "metadata": {
    "collapsed": false
   },
   "outputs": [],
   "source": [
    "\"\"\"\n",
    "s = 'abc'\n",
    "k = 2\n",
    "combs = 'ab', 'ac', 'bc'\n",
    "\"\"\""
   ]
  },
  {
   "cell_type": "code",
   "execution_count": 10,
   "metadata": {
    "collapsed": true
   },
   "outputs": [],
   "source": [
    "import itertools"
   ]
  },
  {
   "cell_type": "code",
   "execution_count": 79,
   "metadata": {
    "collapsed": false
   },
   "outputs": [],
   "source": [
    "def comb1(k,available, used): # 몇개로? / 가용 / 꼭 사용\n",
    "    if len(used) == k:\n",
    "        yield tuple(used)\n",
    "    elif len(available) == 0:\n",
    "        pass\n",
    "    else:\n",
    "        head = available.pop(0) # 가장 앞으 값을 pop\n",
    "        used.append(head)       # pop한 값을 used에 append\n",
    "        for c in comb1(k, available[:], used[:]):\n",
    "            yield c\n",
    "        used.pop()\n",
    "        for c in comb1(k, available[:], used[:]):\n",
    "            yield c\n"
   ]
  },
  {
   "cell_type": "code",
   "execution_count": 80,
   "metadata": {
    "collapsed": false
   },
   "outputs": [
    {
     "name": "stdout",
     "output_type": "stream",
     "text": [
      "[('a', 'b'), ('a', 'c'), ('b', 'c')]\n"
     ]
    }
   ],
   "source": [
    "s = 'abc'\n",
    "k = 2\n",
    "mycombs = [c for c in comb1(k,list(s),[])]\n",
    "print(mycombs)"
   ]
  },
  {
   "cell_type": "markdown",
   "metadata": {},
   "source": [
    "- 위 재귀를 하나하나 풀어보면!! "
   ]
  },
  {
   "cell_type": "code",
   "execution_count": null,
   "metadata": {
    "collapsed": false
   },
   "outputs": [],
   "source": [
    "\"\"\"\n",
    "com1(2,['a','b','c'],[])\n",
    "    comb1(2,['b','c'],['a'])\n",
    "        comb1(2,['c'],['a','b'])\n",
    "            tuple(['a','b'])\n",
    "        yield a,b\n",
    "        comb1(2,['c'],['a'])\n",
    "            comb1(2,[],['a','c'])\n",
    "                tuple(['a','c'])\n",
    "            yield a,c\n",
    "    comb1(2,['b','c'],[])\n",
    "        comb1(2,['c'],['b'])\n",
    "            comb1(2,[],['b','c'])\n",
    "                tuple(['b','c'])\n",
    "            yield b,c\n",
    "                \n",
    "yield에 대한 부분이 아직도... 재귀로 받은 tuple값을 재귀 밖의 마지막 yeild까지 넘겨줌!! \n",
    "\"\"\""
   ]
  },
  {
   "cell_type": "markdown",
   "metadata": {},
   "source": [
    "- Others 1"
   ]
  },
  {
   "cell_type": "code",
   "execution_count": 58,
   "metadata": {
    "collapsed": true
   },
   "outputs": [],
   "source": [
    "def comb2(k,available, used):\n",
    "    if len(used) == k:\n",
    "        yield tuple(used)\n",
    "    elif len(available) == 0:\n",
    "        pass\n",
    "    else:\n",
    "        for c in comb2(k, available[1:], used[:]+[available[0]]):\n",
    "            yield c\n",
    "        for c in comb2(k, available[1:], used[:]):\n",
    "            yield c"
   ]
  },
  {
   "cell_type": "code",
   "execution_count": 59,
   "metadata": {
    "collapsed": false
   },
   "outputs": [
    {
     "name": "stdout",
     "output_type": "stream",
     "text": [
      "[('a', 'b'), ('a', 'c'), ('b', 'c')]\n"
     ]
    }
   ],
   "source": [
    "s = 'abc'\n",
    "k = 2\n",
    "mycombs = [c for c in comb2(k,list(s),[])]\n",
    "print(mycombs)"
   ]
  },
  {
   "cell_type": "markdown",
   "metadata": {},
   "source": [
    "- Others 2"
   ]
  },
  {
   "cell_type": "code",
   "execution_count": 60,
   "metadata": {
    "collapsed": true
   },
   "outputs": [],
   "source": [
    "def comb3(k,available, used): \n",
    "    if len(used) == k:\n",
    "        yield tuple(used)\n",
    "    elif len(available) == 0:\n",
    "        pass\n",
    "    else:\n",
    "        head = available.pop(0) \n",
    "        used.append(head)       \n",
    "        for c in comb3(k, available, used):\n",
    "            yield c\n",
    "        used.pop(-1)\n",
    "        for c in comb3(k, available, used):\n",
    "            yield c\n",
    "        available.insert(0,head) # 원상복구"
   ]
  },
  {
   "cell_type": "code",
   "execution_count": 61,
   "metadata": {
    "collapsed": false
   },
   "outputs": [
    {
     "name": "stdout",
     "output_type": "stream",
     "text": [
      "[('a', 'b'), ('a', 'c'), ('b', 'c')]\n"
     ]
    }
   ],
   "source": [
    "s = 'abc'\n",
    "k = 2\n",
    "mycombs = [c for c in comb3(k,list(s),[])]\n",
    "print(mycombs)"
   ]
  },
  {
   "cell_type": "markdown",
   "metadata": {},
   "source": [
    "- Others 3"
   ]
  },
  {
   "cell_type": "code",
   "execution_count": 39,
   "metadata": {
    "collapsed": false
   },
   "outputs": [
    {
     "name": "stdout",
     "output_type": "stream",
     "text": [
      "[('a', 'b'), ('a', 'c'), ('b', 'c')]\n"
     ]
    }
   ],
   "source": [
    "s = 'abc'\n",
    "k = 2\n",
    "itcombs = [c for c in itertools.combinations(list(s),k)]\n",
    "print(itcombs)"
   ]
  }
 ],
 "metadata": {
  "kernelspec": {
   "display_name": "Python 3",
   "language": "python",
   "name": "python3"
  },
  "language_info": {
   "codemirror_mode": {
    "name": "ipython",
    "version": 3
   },
   "file_extension": ".py",
   "mimetype": "text/x-python",
   "name": "python",
   "nbconvert_exporter": "python",
   "pygments_lexer": "ipython3",
   "version": "3.6.0"
  }
 },
 "nbformat": 4,
 "nbformat_minor": 2
}
