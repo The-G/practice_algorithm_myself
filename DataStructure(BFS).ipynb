{
 "cells": [
  {
   "cell_type": "markdown",
   "metadata": {},
   "source": [
    "# ==BFS(Breadth First Search)=="
   ]
  },
  {
   "cell_type": "markdown",
   "metadata": {},
   "source": [
    "<img src=\"picture/그림1.png\" width=\"300\" align=\"left\"/>"
   ]
  },
  {
   "cell_type": "code",
   "execution_count": 1,
   "metadata": {
    "collapsed": false
   },
   "outputs": [
    {
     "data": {
      "text/plain": [
       "([0, 1, 2, 3, 4, 5, 6, 8, 7],\n",
       " [(0, 1),\n",
       "  (0, 2),\n",
       "  (1, 0),\n",
       "  (1, 3),\n",
       "  (1, 4),\n",
       "  (2, 5),\n",
       "  (3, 1),\n",
       "  (4, 1),\n",
       "  (4, 6),\n",
       "  (4, 8),\n",
       "  (5, 2),\n",
       "  (5, 7),\n",
       "  (6, 4),\n",
       "  (8, 4),\n",
       "  (7, 5)])"
      ]
     },
     "execution_count": 1,
     "metadata": {},
     "output_type": "execute_result"
    }
   ],
   "source": [
    "vertexList = [0, 1, 2, 3, 4, 5, 6, 8, 7]\n",
    "edgeList = [(0,1), (0,2), (1,0), (1,3), (1,4), \n",
    "            (2,5), (3,1), (4,1), (4,6), (4,8),\n",
    "            (5,2), (5,7), (6,4), (8,4), (7,5)]\n",
    "graphs = (vertexList, edgeList)\n",
    "graphs"
   ]
  },
  {
   "cell_type": "code",
   "execution_count": 4,
   "metadata": {
    "collapsed": false
   },
   "outputs": [
    {
     "data": {
      "text/plain": [
       "[[1, 2], [0, 3, 4], [5], [1], [1, 6, 8], [2, 7], [4], [5], [4]]"
      ]
     },
     "execution_count": 4,
     "metadata": {},
     "output_type": "execute_result"
    }
   ],
   "source": [
    "adjacencyList = [[] for vertex in vertexList]\n",
    "for edge in edgeList:\n",
    "    adjacencyList[edge[0]].append(edge[1])\n",
    "adjacencyList"
   ]
  },
  {
   "cell_type": "code",
   "execution_count": 6,
   "metadata": {
    "collapsed": true
   },
   "outputs": [],
   "source": [
    "def bfs(graph, start):\n",
    "    vertexList, edgeList = graph\n",
    "    visitedList = []\n",
    "    queue = [start]\n",
    "\n",
    "    # 인접리스트 만들기\n",
    "    adjacencyList = [[] for vertex in vertexList]\n",
    "    for edge in edgeList:\n",
    "        adjacencyList[edge[0]].append(edge[1])\n",
    "\n",
    "    while queue:\n",
    "        current = queue.pop()# 뒤로 뺌!! \n",
    "        for neighbor in adjacencyList[current]: \n",
    "            if not neighbor in visitedList:\n",
    "                queue.insert(0,neighbor) # 앞에서 넣음!! \n",
    "        visitedList.append(current)\n",
    "    return visitedList"
   ]
  },
  {
   "cell_type": "code",
   "execution_count": 7,
   "metadata": {
    "collapsed": false
   },
   "outputs": [
    {
     "name": "stdout",
     "output_type": "stream",
     "text": [
      "[0, 1, 2, 3, 4, 5, 6, 8, 7]\n"
     ]
    }
   ],
   "source": [
    "print(bfs(graphs, 0))"
   ]
  }
 ],
 "metadata": {
  "kernelspec": {
   "display_name": "Python 3",
   "language": "python",
   "name": "python3"
  },
  "language_info": {
   "codemirror_mode": {
    "name": "ipython",
    "version": 3
   },
   "file_extension": ".py",
   "mimetype": "text/x-python",
   "name": "python",
   "nbconvert_exporter": "python",
   "pygments_lexer": "ipython3",
   "version": "3.6.0"
  }
 },
 "nbformat": 4,
 "nbformat_minor": 2
}
