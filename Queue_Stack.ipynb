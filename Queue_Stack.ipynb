{
 "cells": [
  {
   "cell_type": "markdown",
   "metadata": {},
   "source": [
    " # Queue"
   ]
  },
  {
   "cell_type": "code",
   "execution_count": 1,
   "metadata": {
    "collapsed": true
   },
   "outputs": [],
   "source": [
    "import unittest\n",
    "\n",
    "class Queue:\n",
    "    def __init__(self):\n",
    "        self.items = []\n",
    "\n",
    "    def enqueue(self, item):\n",
    "        self.items.insert(0, item)\n",
    "\n",
    "    def dequeue(self):\n",
    "        self.items.pop()\n",
    "\n",
    "    def print_queue(self):\n",
    "        print(self.items)\n",
    "\n",
    "    def is_empty(self):\n",
    "        return self.items == []\n",
    "\n",
    "    def size(self):\n",
    "        return len(self.items)\n",
    "\n",
    "class QueueTest(unittest.TestCase):\n",
    "    def test(self):\n",
    "        queue = Queue()\n",
    "        self.assertTrue(queue.is_empty())\n",
    "        queue.enqueue(1)\n",
    "        self.assertEqual(queue.size(),1)\n",
    "        queue.enqueue(2)\n",
    "        self.assertEqual(queue.size(),2)\n",
    "        queue.print_queue()\n",
    "        queue.dequeue()\n",
    "        self.assertEqual(queue.size(),1)\n",
    "        queue.print_queue()\n",
    "        self.assertFalse(queue.is_empty())"
   ]
  },
  {
   "cell_type": "markdown",
   "metadata": {},
   "source": [
    "# Stack"
   ]
  },
  {
   "cell_type": "code",
   "execution_count": 2,
   "metadata": {
    "collapsed": true
   },
   "outputs": [],
   "source": [
    "import unittest\n",
    "\n",
    "class Stack:\n",
    "    def __init__(self):\n",
    "        self.items = []\n",
    "        self.max = 5\n",
    "\n",
    "    def push(self, item):\n",
    "        if len(self.items) < self.max:\n",
    "            self.items.append(item)\n",
    "        else:\n",
    "            print(\"Overflow\")\n",
    "\n",
    "    def pop(self):\n",
    "        if len(self.items) > 0:\n",
    "            self.items.pop()\n",
    "        else:\n",
    "            print(\"Underflow\")\n",
    "\n",
    "    def print_stack(self):\n",
    "        print(self.items)\n",
    "\n",
    "    def peek(self):\n",
    "        return self.items[len(self.items)-1]\n",
    "\n",
    "    def is_empty(self):\n",
    "        return self.items == []\n",
    "\n",
    "    def size(self):\n",
    "        return len(self.items)\n",
    "\n",
    "\n",
    "class StackTest(unittest.TestCase):\n",
    "    def test(self):\n",
    "        st = Stack()\n",
    "        self.assertTrue(st.is_empty())\n",
    "        self.assertEqual(st.size(), 0)\n",
    "        st.push(1)\n",
    "        st.push(2)\n",
    "        st.print_stack()\n",
    "        st.pop()\n",
    "        st.print_stack()\n",
    "        st.push(3)\n",
    "        self.assertEquals(st.peek(),3)\n",
    "        self.assertFalse(st.is_empty())\n",
    "        self.assertEqual(st.size(), 2)\n",
    "        st.pop()\n",
    "        st.pop()\n",
    "        st.pop()\n",
    "        st.push(3)\n",
    "        st.push(3)\n",
    "        st.push(3)\n",
    "        st.push(3)\n",
    "        st.push(3)\n",
    "        st.push(3)"
   ]
  }
 ],
 "metadata": {
  "kernelspec": {
   "display_name": "Python 3",
   "language": "python",
   "name": "python3"
  },
  "language_info": {
   "codemirror_mode": {
    "name": "ipython",
    "version": 3
   },
   "file_extension": ".py",
   "mimetype": "text/x-python",
   "name": "python",
   "nbconvert_exporter": "python",
   "pygments_lexer": "ipython3",
   "version": "3.6.0"
  }
 },
 "nbformat": 4,
 "nbformat_minor": 2
}
