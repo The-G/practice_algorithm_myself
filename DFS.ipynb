{
 "cells": [
  {
   "cell_type": "markdown",
   "metadata": {},
   "source": [
    "# ==DFS(Depth First Search)=="
   ]
  },
  {
   "cell_type": "code",
   "execution_count": 102,
   "metadata": {
    "collapsed": true
   },
   "outputs": [],
   "source": [
    "vertexList = ['0', '1', '2', '3', '4', '5', '6', '8', '7']\n",
    "edgeList = [(0,1), (0,2), (1,0), (1,3), \n",
    "            (1,4), (2,0), (2,5), (3,1), \n",
    "            (4,1), (4,6), (4,8), (5,2), \n",
    "            (5,7), (6,4), (8,4), (7,5)]\n",
    "graphs = (vertexList, edgeList)"
   ]
  },
  {
   "cell_type": "code",
   "execution_count": 103,
   "metadata": {
    "collapsed": false
   },
   "outputs": [
    {
     "data": {
      "text/plain": [
       "(['0', '1', '2', '3', '4', '5', '6', '8', '7'],\n",
       " [(0, 1),\n",
       "  (0, 2),\n",
       "  (1, 0),\n",
       "  (1, 3),\n",
       "  (1, 4),\n",
       "  (2, 0),\n",
       "  (2, 5),\n",
       "  (3, 1),\n",
       "  (4, 1),\n",
       "  (4, 6),\n",
       "  (4, 8),\n",
       "  (5, 2),\n",
       "  (5, 7),\n",
       "  (6, 4),\n",
       "  (8, 4),\n",
       "  (7, 5)])"
      ]
     },
     "execution_count": 103,
     "metadata": {},
     "output_type": "execute_result"
    }
   ],
   "source": [
    "graphs"
   ]
  },
  {
   "cell_type": "markdown",
   "metadata": {},
   "source": [
    "<img src=\"picture/그림1.png\" width=\"300\" align=\"left\"/>"
   ]
  },
  {
   "cell_type": "markdown",
   "metadata": {},
   "source": [
    "- 인접리스트(AdjacencyList) 만들기"
   ]
  },
  {
   "cell_type": "code",
   "execution_count": 104,
   "metadata": {
    "collapsed": false
   },
   "outputs": [],
   "source": [
    "adjacencyList = [[] for vertex in vertexList]\n",
    "for edge in edgeList:\n",
    "    adjacencyList[edge[0]].append(edge[1])"
   ]
  },
  {
   "cell_type": "code",
   "execution_count": 105,
   "metadata": {
    "collapsed": false
   },
   "outputs": [
    {
     "data": {
      "text/plain": [
       "[[1, 2], [0, 3, 4], [0, 5], [1], [1, 6, 8], [2, 7], [4], [5], [4]]"
      ]
     },
     "execution_count": 105,
     "metadata": {},
     "output_type": "execute_result"
    }
   ],
   "source": [
    "adjacencyList"
   ]
  },
  {
   "cell_type": "code",
   "execution_count": 106,
   "metadata": {
    "collapsed": true
   },
   "outputs": [],
   "source": [
    "def dfs(graph, start):\n",
    "    vertexList, edgeList = graph\n",
    "    visitedVertex = []\n",
    "    stack = [start] # 그냥 배열에 pop 기능 있네!! \n",
    "    \n",
    "    # 인접리스트 만들기\n",
    "    adjacencyList = [[] for vertex in vertexList]\n",
    "    for edge in edgeList:\n",
    "        adjacencyList[edge[0]].append(edge[1])\n",
    "\n",
    "    while stack:\n",
    "        current = stack.pop()\n",
    "        for neighbor in adjacencyList[current]:\n",
    "            if not neighbor in visitedVertex:\n",
    "                stack.append(neighbor)\n",
    "        visitedVertex.append(current)\n",
    "    return visitedVertex"
   ]
  },
  {
   "cell_type": "code",
   "execution_count": 107,
   "metadata": {
    "collapsed": false
   },
   "outputs": [
    {
     "name": "stdout",
     "output_type": "stream",
     "text": [
      "[0, 2, 5, 7, 1, 4, 8, 6, 3]\n"
     ]
    }
   ],
   "source": [
    "print(dfs(graphs, 0))"
   ]
  },
  {
   "cell_type": "markdown",
   "metadata": {},
   "source": [
    "<img src=\"picture/그림1.png\" width=\"300\" align=\"left\"/>\n",
    "\n",
    "\n",
    "\n",
    "\n",
    "- 위 깊이 우선으로 탐색한 결과이다!! "
   ]
  },
  {
   "cell_type": "markdown",
   "metadata": {},
   "source": [
    "# ==DFS to find cycle in graph=="
   ]
  },
  {
   "cell_type": "markdown",
   "metadata": {},
   "source": [
    "<img src=\"picture/그림2.png\" width=\"300\" align=\"left\" />"
   ]
  },
  {
   "cell_type": "markdown",
   "metadata": {},
   "source": [
    "- 1,3,4 가 순환 하고 있는 것을 알 수 있다. \n",
    "- 여기서 그래프가 순환하고 있으면 true를 반환하고 그 순환하고 있는 node는 무엇인지 반환하는 코드를 작성하자!! "
   ]
  },
  {
   "cell_type": "code",
   "execution_count": 108,
   "metadata": {
    "collapsed": false
   },
   "outputs": [],
   "source": [
    "vertexList = ['0', '1', '2', '3', '4', '5', '6', '8', '7']\n",
    "edgeList = [(0,1), (0,2), (1,0), (1,3), \n",
    "            (1,4), (2,0), (2,5), (3,1), (3,4), (4,3),\n",
    "            (4,1), (4,6), (4,8), (5,2), \n",
    "            (5,7), (6,4), (8,4), (7,5)]\n",
    "graphs = (vertexList, edgeList)"
   ]
  },
  {
   "cell_type": "code",
   "execution_count": 109,
   "metadata": {
    "collapsed": false
   },
   "outputs": [],
   "source": [
    "adjacencyList = [[] for vertex in vertexList]\n",
    "for edge in edgeList:\n",
    "    adjacencyList[edge[0]].append(edge[1])"
   ]
  },
  {
   "cell_type": "code",
   "execution_count": 110,
   "metadata": {
    "collapsed": false
   },
   "outputs": [
    {
     "data": {
      "text/plain": [
       "[[1, 2], [0, 3, 4], [0, 5], [1, 4], [3, 1, 6, 8], [2, 7], [4], [5], [4]]"
      ]
     },
     "execution_count": 110,
     "metadata": {},
     "output_type": "execute_result"
    }
   ],
   "source": [
    "adjacencyList # sort됨! 알지!! ㅇㅇ"
   ]
  },
  {
   "cell_type": "code",
   "execution_count": 111,
   "metadata": {
    "collapsed": true
   },
   "outputs": [],
   "source": [
    "def dfs(graph, start):\n",
    "    vertexList, edgeList = graph\n",
    "    visitedVertex = []\n",
    "    stack = [start] # 그냥 배열에 pop 기능 있네!! \n",
    "    \n",
    "    # 인접리스트 만들기\n",
    "    adjacencyList = [[] for vertex in vertexList]\n",
    "    for edge in edgeList:\n",
    "        adjacencyList[edge[0]].append(edge[1])\n",
    "\n",
    "    while stack:\n",
    "        current = stack.pop()\n",
    "        for neighbor in adjacencyList[current]:\n",
    "            if not neighbor in visitedVertex:\n",
    "                stack.append(neighbor)\n",
    "        visitedVertex.append(current)\n",
    "    return visitedVertex"
   ]
  },
  {
   "cell_type": "code",
   "execution_count": 112,
   "metadata": {
    "collapsed": false
   },
   "outputs": [
    {
     "name": "stdout",
     "output_type": "stream",
     "text": [
      "[0, 2, 5, 7, 1, 4, 8, 6, 3, 3]\n"
     ]
    }
   ],
   "source": [
    "print(dfs(graphs, 0))"
   ]
  },
  {
   "cell_type": "markdown",
   "metadata": {},
   "source": [
    "<img src=\"picture/그림2.png\" width=\"300\" align=\"left\" />"
   ]
  },
  {
   "cell_type": "code",
   "execution_count": 113,
   "metadata": {
    "collapsed": false
   },
   "outputs": [
    {
     "data": {
      "text/plain": [
       "'There is cycle in Graph'"
      ]
     },
     "execution_count": 113,
     "metadata": {},
     "output_type": "execute_result"
    }
   ],
   "source": [
    "def find_cycle(dfs_result = []): # array가 들어오지!! \n",
    "    if dfs_result == []:\n",
    "        return \"There is no Graph, Please input Graph\"\n",
    "    rst = dfs_result \n",
    "    \n",
    "    if(len(rst) == len(set(rst))):\n",
    "        return \"There is no cycle in Graph\"\n",
    "    else:\n",
    "        return \"There is cycle in Graph\"\n",
    "    \n",
    "find_cycle(dfs(graphs,0))"
   ]
  },
  {
   "cell_type": "markdown",
   "metadata": {},
   "source": [
    "- Cycle 값 찾기!! "
   ]
  },
  {
   "cell_type": "code",
   "execution_count": 114,
   "metadata": {
    "collapsed": true
   },
   "outputs": [],
   "source": [
    "vertexList = ['0', '1', '2', '3', '4', '5', '6', '8', '7']\n",
    "edgeList = [(0,1), (0,2), (1,0), (1,3), \n",
    "            (1,4), (2,0), (2,5), (3,1), (3,4), (4,3),\n",
    "            (4,1), (4,6), (4,8), (5,2), \n",
    "            (5,7), (6,4), (8,4), (7,5)]\n",
    "graphs = (vertexList, edgeList)"
   ]
  },
  {
   "cell_type": "code",
   "execution_count": 115,
   "metadata": {
    "collapsed": false
   },
   "outputs": [],
   "source": [
    "graph_dic = {}\n",
    "for idx, value in enumerate(vertexList):\n",
    "    graph_dic[int(value)] = [x[1] for x in edgeList if x[0] == int(value)]"
   ]
  },
  {
   "cell_type": "code",
   "execution_count": 116,
   "metadata": {
    "collapsed": false
   },
   "outputs": [
    {
     "data": {
      "text/plain": [
       "{0: [1, 2],\n",
       " 1: [0, 3, 4],\n",
       " 2: [0, 5],\n",
       " 3: [1, 4],\n",
       " 4: [3, 1, 6, 8],\n",
       " 5: [2, 7],\n",
       " 6: [4],\n",
       " 7: [5],\n",
       " 8: [4]}"
      ]
     },
     "execution_count": 116,
     "metadata": {},
     "output_type": "execute_result"
    }
   ],
   "source": [
    "graph_dic"
   ]
  },
  {
   "cell_type": "code",
   "execution_count": 117,
   "metadata": {
    "collapsed": true
   },
   "outputs": [],
   "source": [
    "graph = { 1: [2], 2: [1]}\n",
    "def dfs(graph, start, end):\n",
    "    fringe = [(start, [])] # 시작노드와 빈 path를 가지고 시작 e.g. fringe = [(1, [])]\n",
    "    while fringe: \n",
    "        state, path = fringe.pop() # [] return 됨 먼저.\n",
    "        if path and state == end:\n",
    "            yield path # 출력\n",
    "            continue\n",
    "        for next_state in graph[state]:\n",
    "            if next_state in path:\n",
    "                continue\n",
    "            fringe.append((next_state, path+[next_state]))"
   ]
  },
  {
   "cell_type": "code",
   "execution_count": null,
   "metadata": {
    "collapsed": false
   },
   "outputs": [],
   "source": [
    "\"\"\"\n",
    "graph = { 1: [2], 2: [1]}\n",
    "경우\n",
    "fringe = [1. []] 로 시작하게 된다.\n",
    "state, path = fringe.pop() 에서 state = 1 path = []\n",
    "if path and state == end: 은 path의 값이 있고, state와 end값 이같으면 출력으로 넘어가네.\n",
    "for next_state in graph[state]: 은 graph[1] 로 next_state = 2 된다.\n",
    "if next_state in path: 은 []에 2가 없으니 continue 하지 않고. 내려가면\n",
    "fringe.append((next_state, path+[next_state])) 로 fringe는 pop 으로 [] 되었는데 [(2,[2])] 가 된다.\n",
    "\n",
    "다시 while fringe로 가서 fringe가 있으니,\n",
    "state = 2, path = [2] 해주고,\n",
    "if path and state == end: 는 path값은 있지만 2 == 1이 아니기 때문에 skip\n",
    "for next_state in graph[state]: 에서, graph[2] = 1 = next_state 로\n",
    "if next_state in path: 에서 []에 1이 없기 때문에 skip하고\n",
    "fringe.append((next_state, path+[next_state])) 에서  fringe = (1, [2,1]) 이 된다.\n",
    "\n",
    "다시 while fringe로 가서 fringe가 있으니,\n",
    "state = 1 path = [2,1]로 \n",
    "if path and state == end: 에서 path가 있고, 1 == 1 이기 때문에 yield path = [2,1] 한다\n",
    "\"\"\""
   ]
  },
  {
   "cell_type": "code",
   "execution_count": 118,
   "metadata": {
    "collapsed": false
   },
   "outputs": [
    {
     "data": {
      "text/plain": [
       "[[1, 2, 1], [2, 1, 2]]"
      ]
     },
     "execution_count": 118,
     "metadata": {},
     "output_type": "execute_result"
    }
   ],
   "source": [
    "cycles = [[node]+path for node in graph for path in dfs(graph, node, node)]\n",
    "cycles"
   ]
  },
  {
   "cell_type": "code",
   "execution_count": 119,
   "metadata": {
    "collapsed": false
   },
   "outputs": [
    {
     "data": {
      "text/plain": [
       "[[1, 4, 1],\n",
       " [1, 4, 3, 1],\n",
       " [1, 3, 4, 1],\n",
       " [1, 3, 1],\n",
       " [1, 0, 1],\n",
       " [2, 5, 2],\n",
       " [2, 0, 2]]"
      ]
     },
     "execution_count": 119,
     "metadata": {},
     "output_type": "execute_result"
    }
   ],
   "source": [
    "cycles = [[node]+path for node in graph for path in dfs(graph_dic, node, node)]\n",
    "cycles"
   ]
  },
  {
   "cell_type": "markdown",
   "metadata": {},
   "source": [
    "- 참고!! yield!!\n",
    "    - yield is a keyword that is used like return, except the function will return a generator.\n",
    "    - it's handy when you know your function will return a huge set of values that you will only need to read once.\n",
    "    \n",
    "reference : https://stackoverflow.com/questions/231767/what-does-the-yield-keyword-do"
   ]
  },
  {
   "cell_type": "code",
   "execution_count": null,
   "metadata": {
    "collapsed": true
   },
   "outputs": [],
   "source": [
    "\"\"\"\n",
    "graph = { 1: [2, 3, 5], 2: [1], 3: [1], 4: [2], 5: [2] }\n",
    "# cycles = [[node]+path  for node in graph for path in dfs(graph, node, node)]\n",
    "cycles = []\n",
    "for node in graph:\n",
    "    for path in dfs(graph, node, node):\n",
    "        cycles.append([node]+path)\n",
    "cycles\n",
    "# list comprehension 풀어헤침\n",
    "\"\"\""
   ]
  }
 ],
 "metadata": {
  "kernelspec": {
   "display_name": "Python 3",
   "language": "python",
   "name": "python3"
  },
  "language_info": {
   "codemirror_mode": {
    "name": "ipython",
    "version": 3
   },
   "file_extension": ".py",
   "mimetype": "text/x-python",
   "name": "python",
   "nbconvert_exporter": "python",
   "pygments_lexer": "ipython3",
   "version": "3.6.0"
  }
 },
 "nbformat": 4,
 "nbformat_minor": 2
}
