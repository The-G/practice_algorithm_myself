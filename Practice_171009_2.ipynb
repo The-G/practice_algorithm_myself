{
 "cells": [
  {
   "cell_type": "markdown",
   "metadata": {},
   "source": [
    "### 바이러스"
   ]
  },
  {
   "cell_type": "markdown",
   "metadata": {},
   "source": [
    "- 입력\n",
    "    - 첫째 줄에는 컴퓨터의 수가 주어진다. 컴퓨터의 수는 100 이하이고 각 컴퓨터에는 1번 부터 차례대로 번호가 매겨진다. 둘째 줄에는 네트워크 상에서 직접 연결되어 있는 컴퓨터 쌍의 수가 주어진다. 이어서 그 수만큼 한 줄에 한 쌍씩 네트워크 상에서 직접 연결되어 있는 컴퓨터의 번호 쌍이 주어진다.\n",
    "- 출력\n",
    "    - 1번 컴퓨터가 웜 바이러스에 걸렸을 때, 1번 컴퓨터를 통해 웜 바이러스에 걸리게 되는 컴퓨터의 수를 첫째 줄에 출력한다.\n",
    "    "
   ]
  },
  {
   "cell_type": "code",
   "execution_count": null,
   "metadata": {
    "collapsed": true
   },
   "outputs": [],
   "source": [
    "Ex)\n",
    "7 \n",
    "6\n",
    "1 2\n",
    "2 3\n",
    "1 5\n",
    "5 2\n",
    "5 6\n",
    "4 7\n",
    "\n",
    "4"
   ]
  },
  {
   "cell_type": "code",
   "execution_count": 17,
   "metadata": {
    "collapsed": false
   },
   "outputs": [
    {
     "name": "stdout",
     "output_type": "stream",
     "text": [
      "7\n",
      "6\n",
      "1 2\n",
      "2 3\n",
      "1 5\n",
      "5 2\n",
      "5 6\n",
      "4 7\n",
      "[1, 5, 6, 2, 3, 2]\n"
     ]
    }
   ],
   "source": [
    "n = int(input().strip())\n",
    "vertexList = list(range(1,n+1))\n",
    "link_count = int(input().strip())\n",
    "edgeList = []\n",
    "for i in range(n-1):\n",
    "    t = tuple(map(int, input().split()))\n",
    "    edgeList.append(t)\n",
    "\n",
    "graphs = (vertexList, edgeList)\n",
    "\n",
    "def dfs(graph, start):\n",
    "    vertexList, edgeList = graph\n",
    "    visitedVertex = []\n",
    "    stack = [start] # 그냥 배열에 pop 기능 있네!! \n",
    "    \n",
    "    # 인접리스트 만들기\n",
    "    adjacencyList = [[] for vertex in vertexList]\n",
    "    for edge in edgeList:\n",
    "        adjacencyList[edge[0]].append(edge[1])\n",
    "\n",
    "    while stack:\n",
    "        current = stack.pop()\n",
    "        for neighbor in adjacencyList[current]:\n",
    "            if not neighbor in visitedVertex:\n",
    "                stack.append(neighbor)\n",
    "        visitedVertex.append(current)\n",
    "    return visitedVertex\n",
    "\n",
    "print(dfs(graphs, 1))"
   ]
  },
  {
   "cell_type": "markdown",
   "metadata": {},
   "source": [
    "- 위 걍 깊이우선 돌려봄!! ㅋㅋ "
   ]
  },
  {
   "cell_type": "code",
   "execution_count": 35,
   "metadata": {
    "collapsed": false
   },
   "outputs": [
    {
     "name": "stdout",
     "output_type": "stream",
     "text": [
      "6\n",
      "5\n",
      "6 5\n",
      "5 4\n",
      "4 3\n",
      "3 2\n",
      "2 1\n",
      "[[], [], [1], [2], [3], [4], [5]]\n",
      "0\n"
     ]
    }
   ],
   "source": [
    "n = int(input().strip())\n",
    "vertexList = list(range(0,n+1))\n",
    "link_count = int(input().strip())\n",
    "edgeList = []\n",
    "for i in range(link_count):\n",
    "    t = tuple(map(int, input().split()))\n",
    "    edgeList.append(t)\n",
    "\n",
    "graphs = (vertexList, edgeList)\n",
    "\n",
    "def bfs(graph, start):\n",
    "    vertexList, edgeList = graph\n",
    "    visitedList = []\n",
    "    queue = [start]\n",
    "\n",
    "    # 인접리스트 만들기\n",
    "    adjacencyList = [[] for vertex in vertexList]\n",
    "    for edge in edgeList:\n",
    "        adjacencyList[edge[0]].append(edge[1])\n",
    "    print(adjacencyList)\n",
    "\n",
    "    while queue:\n",
    "        current = queue.pop()# 뒤로 뺌!! \n",
    "        for neighbor in adjacencyList[current]: \n",
    "            if not neighbor in visitedList:\n",
    "                queue.insert(0,neighbor) # 앞에서 넣음!! \n",
    "        visitedList.append(current)\n",
    "    return visitedList\n",
    "\n",
    "print(len(bfs(graphs, 1)) - 1)"
   ]
  },
  {
   "cell_type": "markdown",
   "metadata": {},
   "source": [
    "- 런타임 에러 발생... 예외처리... 어디지??"
   ]
  },
  {
   "cell_type": "code",
   "execution_count": null,
   "metadata": {
    "collapsed": true
   },
   "outputs": [],
   "source": [
    "6\n",
    "5\n",
    "6 5\n",
    "5 4\n",
    "4 3\n",
    "3 2\n",
    "2 1"
   ]
  },
  {
   "cell_type": "markdown",
   "metadata": {},
   "source": [
    "- 위 입력 경우 list index out of range 에러 발생!! \n",
    "- **컴퓨터 1부터 주어진다는 보장이 없다!!**\n",
    "- 반례의 case이다!! "
   ]
  },
  {
   "cell_type": "markdown",
   "metadata": {},
   "source": [
    "- 그리고 위 뜻은!!!! \n",
    "    - 문제는 단방향이라고 한적이 없는데 내가 단방향으로 data를 넣었다!!! \n",
    "    - **양방향으로 데이터를 넣어줘야 한다, edgeList**"
   ]
  },
  {
   "cell_type": "code",
   "execution_count": 48,
   "metadata": {
    "collapsed": false
   },
   "outputs": [
    {
     "name": "stdout",
     "output_type": "stream",
     "text": [
      "9\n",
      "8\n",
      "1 6\n",
      "2 3\n",
      "1 2\n",
      "1 5\n",
      "5 6\n",
      "1 3\n",
      "8 9\n",
      "5 2\n",
      "[1, 6, 2, 5, 3, 5, 3, 5]\n",
      "7\n"
     ]
    }
   ],
   "source": [
    "n = int(input().strip())\n",
    "vertexList = list(range(0,n+1))\n",
    "link_count = int(input().strip())\n",
    "edgeList = []\n",
    "for i in range(link_count):\n",
    "    first, second = map(int, input().split())\n",
    "    edgeList.append((first, second))\n",
    "    edgeList.append((second, first))\n",
    "\n",
    "graphs = (vertexList, edgeList)\n",
    "\n",
    "def bfs(graph, start):\n",
    "    vertexList, edgeList = graph\n",
    "    visitedList = []\n",
    "    queue = [start]\n",
    "\n",
    "    # 인접리스트 만들기\n",
    "    adjacencyList = [[] for vertex in vertexList]\n",
    "    for edge in edgeList:\n",
    "        adjacencyList[edge[0]].append(edge[1])\n",
    "#     print(adjacencyList)\n",
    "\n",
    "    while queue:\n",
    "        current = queue.pop()# 뒤로 뺌!! \n",
    "        for neighbor in adjacencyList[current]: \n",
    "            if not neighbor in visitedList:\n",
    "                queue.insert(0,neighbor) # 앞에서 넣음!! \n",
    "        visitedList.append(current)\n",
    "    return visitedList\n",
    "\n",
    "print(bfs(graphs, 1))\n",
    "print(len(bfs(graphs, 1)) - 1)"
   ]
  },
  {
   "cell_type": "code",
   "execution_count": null,
   "metadata": {
    "collapsed": true
   },
   "outputs": [],
   "source": [
    "9\n",
    "8\n",
    "1 6\n",
    "2 3\n",
    "1 2\n",
    "1 5\n",
    "5 6\n",
    "1 3\n",
    "8 9\n",
    "5 2\n",
    "\n",
    "7"
   ]
  },
  {
   "cell_type": "markdown",
   "metadata": {},
   "source": [
    "- **위 예로 중복 문제가 있다는 것을 알게됨!! **"
   ]
  },
  {
   "cell_type": "code",
   "execution_count": 52,
   "metadata": {
    "collapsed": false
   },
   "outputs": [
    {
     "name": "stdout",
     "output_type": "stream",
     "text": [
      "9\n",
      "8\n",
      "1 6\n",
      "2 3\n",
      "1 2\n",
      "1 5\n",
      "5 6\n",
      "1 3\n",
      "8 9\n",
      "5 2\n",
      "4\n"
     ]
    }
   ],
   "source": [
    "n = int(input().strip())\n",
    "vertexList = list(range(0,n+1))\n",
    "link_count = int(input().strip())\n",
    "edgeList = []\n",
    "for i in range(link_count):\n",
    "    first, second = map(int, input().split())\n",
    "    edgeList.append((first, second))\n",
    "    edgeList.append((second, first))\n",
    "\n",
    "graphs = (vertexList, edgeList)\n",
    "\n",
    "def bfs(graph, start):\n",
    "    vertexList, edgeList = graph\n",
    "    visitedList = []\n",
    "    queue = [start]\n",
    "\n",
    "    # 인접리스트 만들기\n",
    "    adjacencyList = [[] for vertex in vertexList]\n",
    "    for edge in edgeList:\n",
    "        adjacencyList[edge[0]].append(edge[1])\n",
    "\n",
    "    while queue:\n",
    "        current = queue.pop()# 뒤로 뺌!! \n",
    "        for neighbor in adjacencyList[current]: \n",
    "            if not neighbor in visitedList:\n",
    "                queue.insert(0,neighbor) # 앞에서 넣음!! \n",
    "        visitedList.append(current)\n",
    "    return visitedList\n",
    "\n",
    "print(len(set(bfs(graphs, 1))) - 1)"
   ]
  },
  {
   "cell_type": "markdown",
   "metadata": {},
   "source": [
    "- correct, 주의점 정리해보면!!\n",
    "    - **양방향으로 데이터를 넣어줘야 한다, edgeList**\n",
    "    - **중복 되도 되는지 안되는지 확인!!**"
   ]
  },
  {
   "cell_type": "markdown",
   "metadata": {},
   "source": [
    "# 토마토!"
   ]
  },
  {
   "cell_type": "markdown",
   "metadata": {},
   "source": [
    "- 상하좌우 사방으로만 익은 토마토 1이 익지않은 토마토 0을 하루가 지날 때 마다 익게 한다. 총 몇일이 있어서 상자안의 토마토가 다 익게 되는가?!\n",
    "\n",
    "- 입력 \n",
    "    - 첫 줄에는 상자의 크기를 나타내는 두 정수 M,N이 주어진다. M은 상자의 가로 칸의 수, N 은 상자의 세로 칸의 수를 나타낸다. 단, 2 ≤ M,N ≤ 1,000 이다. 둘째 줄부터는 하나의 상자에 저장된 토마토들의 정보가 주어진다. 즉, 둘째 줄부터 N개의 줄에는 상자에 담긴 토마토의 정보가 주어진다. 하나의 줄에는 상자 가로줄에 들어있는 토마토의 상태가 M개의 정수로 주어진다. 정수 1은 익은 토마토, 정수 0은 익지 않은 토마토, 정수 -1은 토마토가 들어있지 않은 칸을 나타낸다. \n",
    "- 출력\n",
    "    - 여러분은 토마토가 모두 익을 때까지의 최소 날짜를 출력해야 한다. 만약, 저장될 때부터 모든 토마토가 익어있는 상태이면 0을 출력해야 하고, 토마토가 모두 익지는 못하는 상황이면 -1을 출력해야 한다.\n"
   ]
  },
  {
   "cell_type": "markdown",
   "metadata": {},
   "source": [
    "참고 : http://hading.tistory.com/174"
   ]
  },
  {
   "cell_type": "markdown",
   "metadata": {},
   "source": [
    "자고 일어나서..."
   ]
  },
  {
   "cell_type": "code",
   "execution_count": 68,
   "metadata": {
    "collapsed": false
   },
   "outputs": [
    {
     "name": "stdout",
     "output_type": "stream",
     "text": [
      "3 3 \n",
      "0 1 0\n",
      "0 0 0\n",
      "-1 0 1\n",
      "2\n"
     ]
    }
   ],
   "source": [
    "d_row = [-1,1,0,0] # 위아래\n",
    "d_col = [0,0,-1,1] # 좌우\n",
    "\n",
    "# 실제 값을 빼지 않고 위치 이동으로 pop해 push 하기 위해서!! \n",
    "head = 0\n",
    "tail = 0\n",
    "\n",
    "# box, checker, q 생성\n",
    "col, row = map(int,input().split())\n",
    "box = [] \n",
    "checker = [[0 for x in range(col)] for y in range(row)] \n",
    "\n",
    "q = [[[] for x in range(2)] for y in range(row*col)] # Queue로 사용!\n",
    "\n",
    "len_r = range(row)\n",
    "len_c =range(col)\n",
    "for r in len_r:\n",
    "    each_r = list(map(int,input().split()))\n",
    "    box.append(each_r)\n",
    "    for c in len_c:\n",
    "        # 매번 익은 사과를 Queue에 저장한다!!\n",
    "        if box[r][c] == 1:\n",
    "            q[tail][0] = r\n",
    "            q[tail][1] = c\n",
    "            tail += 1\n",
    "            \n",
    "# box 채우기\n",
    "while head < tail:\n",
    "    x = q[head][0]\n",
    "    y = q[head][1]\n",
    "    head += 1\n",
    "    for i in range(4):\n",
    "        if x + d_row[i] <= row-1 and x + d_row[i] >= 0 and \\\n",
    "            y + d_col[i] <= col-1 and y + d_col[i] >= 0 and \\\n",
    "            box[x+dy[i]][y+dx[i]] == 0:\n",
    "                box[x+d_row[i]][y+d_col[i]] = 1\n",
    "                checker[x+d_row[i]][y+d_col[i]] = checker[x][y] + 1 # 몇 일 걸리는 지 check!! \n",
    "                q[tail][0] = x + d_row[i]\n",
    "                q[tail][1] = y + d_col[i] # 이번 term에 익은 사과의 위치를 큐에 저장\n",
    "                tail += 1\n",
    "\n",
    "# 결과 return\n",
    "if min(min(box)) == 0:\n",
    "    print(-1)\n",
    "else:\n",
    "    print(max(max(checker)))"
   ]
  },
  {
   "cell_type": "code",
   "execution_count": 66,
   "metadata": {
    "collapsed": false
   },
   "outputs": [
    {
     "data": {
      "text/plain": [
       "2"
      ]
     },
     "execution_count": 66,
     "metadata": {},
     "output_type": "execute_result"
    }
   ],
   "source": [
    "max(max(checker))"
   ]
  },
  {
   "cell_type": "code",
   "execution_count": 67,
   "metadata": {
    "collapsed": false
   },
   "outputs": [
    {
     "data": {
      "text/plain": [
       "1"
      ]
     },
     "execution_count": 67,
     "metadata": {},
     "output_type": "execute_result"
    }
   ],
   "source": [
    "min(min(box))"
   ]
  },
  {
   "cell_type": "markdown",
   "metadata": {},
   "source": [
    "- queue 사용방법을 변경(head/tail 없이), 근데 위 방식이 더 스마트해 보인다!!"
   ]
  },
  {
   "cell_type": "code",
   "execution_count": null,
   "metadata": {
    "collapsed": true
   },
   "outputs": [],
   "source": [
    "d_row = [-1,1,0,0] # 위아래\n",
    "d_col = [0,0,-1,1] # 좌우\n",
    "\n",
    "# box, checker, q 생성\n",
    "col, row = map(int,input().strip().split(' '))\n",
    "box = [] \n",
    "checker = [[0 for x in range(col)] for y in range(row)] \n",
    "\n",
    "q = [] # Queue\n",
    "\n",
    "len_r = range(row)\n",
    "len_c =range(col)\n",
    "for r in len_r:\n",
    "    each_r = list(map(int,input().strip().split(' ')))\n",
    "    box.append(each_r)\n",
    "    for c in len_c:\n",
    "        # 매번 익은 사과를 Queue에 저장한다!!\n",
    "        if box[r][c] == 1:\n",
    "            q.append([r,c])\n",
    "            \n",
    "while q:\n",
    "    pop_value = q.pop(0)\n",
    "    x = pop_value[0]\n",
    "    y = pop_value[1]\n",
    "    for i in range(4):\n",
    "        if x + d_row[i] <= row-1 and x + d_row[i] >= 0 and \\\n",
    "            y + d_col[i] <= col-1 and y + d_col[i] >= 0 and \\\n",
    "            box[x+dy[i]][y+dx[i]] == 0:\n",
    "                box[x+d_row[i]][y+d_col[i]] = 1\n",
    "                checker[x+d_row[i]][y+d_col[i]] = checker[x][y] + 1 # 몇 일 걸리는 지 check!! \n",
    "                q.append([x+d_row[i], y+d_col[i]])\n",
    "\n",
    "# 결과 return\n",
    "days = 0\n",
    "count = 0\n",
    "for i in range(row):\n",
    "    for j in range(col):\n",
    "        if days < checker[i][j]:\n",
    "            days = checker[i][j]\n",
    "        if box[i][j] == 0:\n",
    "            count = 1\n",
    "            \n",
    "if count == 1:\n",
    "    print(-1)\n",
    "else:\n",
    "    print(days)"
   ]
  },
  {
   "cell_type": "markdown",
   "metadata": {},
   "source": [
    "- runtime error 발생함...예외처리 못한거임..\n",
    "- 예외 못찾음... C++ 코드는 돌아가는데..."
   ]
  },
  {
   "cell_type": "markdown",
   "metadata": {},
   "source": [
    "- input 앞에 strip() 추가했지만 그래도 안됨..."
   ]
  },
  {
   "cell_type": "markdown",
   "metadata": {},
   "source": [
    "- 완전 새롭게 다시 품!! "
   ]
  },
  {
   "cell_type": "code",
   "execution_count": 4,
   "metadata": {
    "collapsed": false,
    "scrolled": true
   },
   "outputs": [
    {
     "name": "stdout",
     "output_type": "stream",
     "text": [
      "2 4\n",
      "1 0\n",
      "0 0\n",
      "1 1\n",
      "-1 0\n"
     ]
    },
    {
     "data": {
      "text/plain": [
       "[[1, 0], [0, 0], [1, 1], [-1, 0]]"
      ]
     },
     "execution_count": 4,
     "metadata": {},
     "output_type": "execute_result"
    }
   ],
   "source": [
    "m,n = map(int, input().strip().split(' '))\n",
    "boxes = [list(map(int, input().strip().split(' '))) for _ in range(n)]\n",
    "boxes"
   ]
  },
  {
   "cell_type": "code",
   "execution_count": 5,
   "metadata": {
    "collapsed": false
   },
   "outputs": [
    {
     "data": {
      "text/plain": [
       "[(0, 0), (2, 0), (2, 1)]"
      ]
     },
     "execution_count": 5,
     "metadata": {},
     "output_type": "execute_result"
    }
   ],
   "source": [
    "q=[(i,j) for i in range(n) for j in range(m) if boxes[i][j]==1]\n",
    "q"
   ]
  },
  {
   "cell_type": "code",
   "execution_count": 8,
   "metadata": {
    "collapsed": false,
    "scrolled": true
   },
   "outputs": [
    {
     "name": "stdout",
     "output_type": "stream",
     "text": [
      "3 3\n",
      "1 0 0\n",
      "0 0 0\n",
      "0 0 1\n",
      "8\n"
     ]
    }
   ],
   "source": [
    "m,n = map(int, input().strip().split(' '))\n",
    "boxes = [list(map(int, input().strip().split(' '))) for _ in range(n)]\n",
    "\n",
    "# 1의 위치를 Queue에 넣음! \n",
    "q=[(i,j) for i in range(n) for j in range(m) if boxes[i][j]==1]\n",
    "day = 0\n",
    "check=True\n",
    "\n",
    "# To direction\n",
    "dx = [1,-1,0,0]\n",
    "dy = [0,0,1,-1]\n",
    "\n",
    "while len(q) != 0: # queue가 남아 있으면 계속!! \n",
    "    for _ in range(len(q)): # 이게 있어서 day로 check 하는 것이 가능!! \n",
    "        x, y = q.pop(0) # 1의 위치를 앞에서 부터 pop!! \n",
    "        for i in range(4): # 사방으로 확인한다!! 이동해서, \n",
    "            nx = x+dx[i]\n",
    "            ny = y+dy[i]\n",
    "            # 상하좌우벽이 아니고, 0이면\n",
    "            if 0<=nx<n and 0<=ny<m and boxes[nx][ny]==0:\n",
    "                boxes[nx][ny]=1 # 1로 해주고 \n",
    "                q.append((nx,ny)) # 그 1을 queue에 집어 넣어준다.\n",
    "    day+=1\n",
    "\n",
    "for i in range(n):\n",
    "    for j in range(m):\n",
    "        # 상자내 모든 값을 보는데, 0이 있으면 check=False\n",
    "        if boxes[i][j]==0:\n",
    "            check=False\n",
    "            break\n",
    "            \n",
    "print(-1 if not check else day-1 if day!=0 else 0)"
   ]
  },
  {
   "cell_type": "markdown",
   "metadata": {},
   "source": [
    "- 위 맞았다!!"
   ]
  },
  {
   "cell_type": "markdown",
   "metadata": {},
   "source": [
    "- 이전에 틀린 코드는 무엇이 문제 였는지 확인해 보자!! "
   ]
  },
  {
   "cell_type": "code",
   "execution_count": 10,
   "metadata": {
    "collapsed": false
   },
   "outputs": [
    {
     "name": "stdout",
     "output_type": "stream",
     "text": [
      "3 3\n",
      "1 0 0\n",
      "0 0 0\n",
      "0 0 1\n",
      "2\n"
     ]
    }
   ],
   "source": [
    "d_row = [-1,1,0,0] # 위아래\n",
    "d_col = [0,0,-1,1] # 좌우\n",
    "\n",
    "# box, checker, q 생성\n",
    "col, row = map(int,input().strip().split(' '))\n",
    "box = [] \n",
    "# checker = [[0 for x in range(col)] for y in range(row)] \n",
    "# checker 보다 day가 smart 함!! \n",
    "day = 0\n",
    "check = True\n",
    "\n",
    "q = [] # Queue\n",
    "\n",
    "# Queue 채우기, \n",
    "len_r = range(row)\n",
    "len_c =range(col)\n",
    "for r in len_r:\n",
    "    each_r = list(map(int,input().strip().split(' ')))\n",
    "    box.append(each_r)\n",
    "    for c in len_c:\n",
    "        # 매번 익은 사과를 Queue에 저장한다!!\n",
    "        if box[r][c] == 1:\n",
    "            q.append([r,c])\n",
    "# list comprehension으로 간단하게 처리할 수 있다. \n",
    "            \n",
    "while q:\n",
    "    for _ in range(len(q)):\n",
    "#         pop_value = q.pop(0)\n",
    "#         x = pop_value[0]\n",
    "#         y = pop_value[1]\n",
    "        x, y = q.pop(0)\n",
    "        for i in range(4):\n",
    "            nx = x+d_row[i]\n",
    "            ny = y+d_col[i]\n",
    "            if nx <= row-1 and nx >= 0 and ny <= col-1 and ny >= 0 and box[nx][ny] == 0:\n",
    "                box[nx][ny] = 1\n",
    "                q.append((nx, ny))\n",
    "    day+=1\n",
    "\n",
    "# 결과 return\n",
    "for i in range(row):\n",
    "    # 상자내 모든 값을 보는데, 0이 있으면 check=False\n",
    "    for j in range(col):\n",
    "        if box[i][j]==0:\n",
    "            check = False\n",
    "            break\n",
    "\n",
    "print(-1 if not check else day-1 if day != 0 else 0)"
   ]
  },
  {
   "cell_type": "markdown",
   "metadata": {},
   "source": [
    "\n",
    "#### check 쓰는 부분이 불필요 했고, 메모리를 많이 먹은듯\n",
    "#### []보다 ()튜플 을 써서 해야지 queue 에서 값이 변경되면 안되기 때문에!!! "
   ]
  }
 ],
 "metadata": {
  "kernelspec": {
   "display_name": "Python 3",
   "language": "python",
   "name": "python3"
  },
  "language_info": {
   "codemirror_mode": {
    "name": "ipython",
    "version": 3
   },
   "file_extension": ".py",
   "mimetype": "text/x-python",
   "name": "python",
   "nbconvert_exporter": "python",
   "pygments_lexer": "ipython3",
   "version": "3.6.0"
  }
 },
 "nbformat": 4,
 "nbformat_minor": 2
}
