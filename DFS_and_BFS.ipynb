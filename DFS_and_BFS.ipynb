{
 "cells": [
  {
   "cell_type": "markdown",
   "metadata": {},
   "source": [
    "# 그래프 기본 개념\n",
    "- 이럴때 graph라 부른다\n",
    "    - vertex와 edge가 있을 때\n",
    "    - edge가 방향성이 있을 때 Direct Graph라고 부른다. \n",
    "    - <=> Undirect Graph\n",
    "    - Weighted Graph\n",
    "- Vertex List\n",
    "    - node 값을 전부 넣어줌 IN array\n",
    "- Edge List\n",
    "    - edge 값을 전부 써준다. ex) [(0,1),(1,0),(1,3),(3,1),(1,2),(2,1)]\n",
    "- Adjacency List\n",
    "    - node에 연결된 모든 node를 적어준 list ex) [(1),(0,2,3),(1),(1,4),(5),(4)]\n",
    "    - 장점 : 공간 복잡도가 낮다. edge 개수만큼 공간이 필요하다.\n",
    "- Adjacency matrix\n",
    "    - 정방 행렬로 연결되어 있으면 1, 없으면 0 을 채운다! \n",
    "    - 단점 : 공간 복잡도가 n^2 이다."
   ]
  },
  {
   "cell_type": "raw",
   "metadata": {},
   "source": []
  },
  {
   "cell_type": "markdown",
   "metadata": {},
   "source": [
    "# DFS(Depth First Search)\n",
    "- 깊이 우선 탐색\n",
    "- 어디에 쓰이나\n",
    "    - 게임에서 많이 쓰임, 체스의 수를 탐색할 때 이기는 수를 찾기 위해서\n",
    "    - 그래프가 주어지고 그래프 안에 cycle이 있는 지 없는지 찾을 때"
   ]
  },
  {
   "cell_type": "markdown",
   "metadata": {},
   "source": [
    "- 1단계 : 첫 노드를 stakck 에 넣고.\n",
    "- 2단계 : stack 에서 pop 해서 current에 넣어놓고,\n",
    "- 3단계 : current에 연결된 node들을 stack에 넣어준다. \n",
    "- 4단계 : stack에 다 넣으면, current 를 visited_array로 넣어준다, \n",
    "- 5단계 : 다시 stack에서 빼서, current에 넣고\n",
    "- 6단계 : current에 연결된 node를 stack에 넣어준다.\n",
    "- 반복"
   ]
  },
  {
   "cell_type": "code",
   "execution_count": 131,
   "metadata": {
    "collapsed": false
   },
   "outputs": [
    {
     "name": "stdout",
     "output_type": "stream",
     "text": [
      "['A', 'B', 'S', 'C', 'D', 'E', 'H', 'G', 'F']\n"
     ]
    }
   ],
   "source": [
    "graph1 = {\n",
    "    'A' : ['B','S'],\n",
    "    'B' : ['A'],\n",
    "    'C' : ['D','E','F','S'],\n",
    "    'D' : ['C'],\n",
    "    'E' : ['C','H'],\n",
    "    'F' : ['C','G'],\n",
    "    'G' : ['F','S'],\n",
    "    'H' : ['E','G'],\n",
    "    'S' : ['A','C','G']\n",
    "}\n",
    "\n",
    "def dfs(graph, node, visited):\n",
    "    if node not in visited: # node가 vistited에 없으면\n",
    "        visited.append(node) # visited 에 node 붙이기!\n",
    "        for n in graph[node]: # graph에서 하나씩 다 꺼냄!! \n",
    "            dfs(graph,n, visited) # 해당 node마다 dfs 적용시킴\n",
    "    return visited # array를 return 해줌!! \n",
    "\n",
    "visited = dfs(graph1,'A', [])\n",
    "print(visited)"
   ]
  },
  {
   "cell_type": "code",
   "execution_count": 132,
   "metadata": {
    "collapsed": false
   },
   "outputs": [
    {
     "name": "stdout",
     "output_type": "stream",
     "text": [
      "[0, 2, 5, 4, 6, 1, 3]\n"
     ]
    }
   ],
   "source": [
    "vertexList = ['0', '1', '2', '3', '4', '5', '6']\n",
    "edgeList = [(0,1), (0,2), (1,0) , (1,3) , (2,0) , (2,4) , (2,5) , (3,1), (4,2) , (4,6), (5,2), (6,4)]\n",
    "graphs = (vertexList, edgeList)\n",
    "\n",
    "def dfs(graph, start):\n",
    "    vertexList, edgeList = graph\n",
    "    visitedVertex = []\n",
    "    stack = [start]\n",
    "    adjacencyList = [[] for vertex in vertexList]\n",
    "\n",
    "    for edge in edgeList:\n",
    "        adjacencyList[edge[0]].append(edge[1])\n",
    "\n",
    "    while stack:\n",
    "        current = stack.pop()\n",
    "        for neighbor in adjacencyList[current]:\n",
    "            if not neighbor in visitedVertex:\n",
    "                stack.append(neighbor)\n",
    "        visitedVertex.append(current)\n",
    "    return visitedVertex\n",
    "\n",
    "print(dfs(graphs, 0))"
   ]
  },
  {
   "cell_type": "markdown",
   "metadata": {},
   "source": [
    "# BFS(Breadth First Search)\n",
    "- 너비 우선 탐색\n",
    "    - 주로 어디?\n",
    "    - 최근접 경로를 구할때, shortest path를 구할때 dijkstra 알고리즘을 쓰는데, 이게바로 이 bfs를 활용한다. \n",
    "    - 페북에서 알 수 있는 친구"
   ]
  },
  {
   "cell_type": "markdown",
   "metadata": {},
   "source": [
    "- 1단계 : 첫번째 node 값을 queue에 집어 넣는다.\n",
    "- 2단계 : queue의 node값을 current에 넣는다.\n",
    "- 3단계 : current와 연결된 node 2개를 enqueue 해준다,\n",
    "- 4단계 : queue가 채워졌으니 current의 값을 visited로 옮겨준다.\n",
    "- 5단계 : queue의 값을 dequeue해서 current에 넣어준다,\n",
    "- 6단계 : current와 연결된 node를 queue에 넣어준다.\n",
    "- 7단계 : 이를 반복한다!! \n"
   ]
  },
  {
   "cell_type": "code",
   "execution_count": 137,
   "metadata": {
    "collapsed": false
   },
   "outputs": [
    {
     "name": "stdout",
     "output_type": "stream",
     "text": [
      "[0, 1, 2, 3, 6, 4, 5]\n"
     ]
    }
   ],
   "source": [
    "vertexList = ['A', 'B', 'C', 'D', 'E', 'F', 'G']\n",
    "edgeList = [(0,1), (1,2), (1,3), (3,4), (4,5), (1,6)]\n",
    "graphs = (vertexList, edgeList)\n",
    "\n",
    "def bfs(graph, start):\n",
    "    vertexList, edgeList = graph\n",
    "    visitedList = []\n",
    "    queue = [start]\n",
    "    adjacencyList = [[] for vertex in vertexList]\n",
    "\n",
    "    # fill adjacencyList from graph\n",
    "    for edge in edgeList:\n",
    "        adjacencyList[edge[0]].append(edge[1])\n",
    "\n",
    "    # bfs\n",
    "    while queue:\n",
    "        current = queue.pop()\n",
    "        for neighbor in adjacencyList[current]:\n",
    "            if not neighbor in visitedList:\n",
    "                queue.insert(0,neighbor)\n",
    "        visitedList.append(current)\n",
    "    return visitedList\n",
    "\n",
    "print(bfs(graphs, 0))\n"
   ]
  },
  {
   "cell_type": "code",
   "execution_count": 136,
   "metadata": {
    "collapsed": false
   },
   "outputs": [
    {
     "name": "stdout",
     "output_type": "stream",
     "text": [
      "['1', '4', '7', '11']\n"
     ]
    }
   ],
   "source": [
    "graph = {\n",
    "        '1': ['2', '3', '4'],\n",
    "        '2': ['5', '6'],\n",
    "        '5': ['9', '10'],\n",
    "        '4': ['7', '8'],\n",
    "        '7': ['11', '12']\n",
    "        }\n",
    "\n",
    "def backtrace(parent, start, end):\n",
    "    path = [end]\n",
    "    while path[-1] != start:\n",
    "        path.append(parent[path[-1]])\n",
    "    path.reverse()\n",
    "    return path\n",
    "\n",
    "\n",
    "def bfs(graph, start, end):\n",
    "    parent = {}\n",
    "    queue = []\n",
    "    queue.append(start)\n",
    "    while queue:\n",
    "        node = queue.pop(0)\n",
    "        if node == end:\n",
    "            return backtrace(parent, start, end)\n",
    "        for adjacent in graph.get(node, []):\n",
    "            parent[adjacent] = node # <<<<< record its parent \n",
    "            queue.append(adjacent)\n",
    "\n",
    "print(bfs(graph, '1', '11'))"
   ]
  },
  {
   "cell_type": "markdown",
   "metadata": {},
   "source": [
    "# 그래프의 사이클 찾기 (DFS, find cycle in undirect graph)"
   ]
  },
  {
   "cell_type": "markdown",
   "metadata": {},
   "source": [
    "- Visited에서 반복된 node가 있을 때 cycle이 있다는 것을 알 수 있다! \n",
    "    - ex) [0,]"
   ]
  },
  {
   "cell_type": "code",
   "execution_count": null,
   "metadata": {
    "collapsed": true
   },
   "outputs": [],
   "source": []
  },
  {
   "cell_type": "markdown",
   "metadata": {},
   "source": [
    "# Get shortest path using dijkstra"
   ]
  },
  {
   "cell_type": "markdown",
   "metadata": {},
   "source": [
    "- weighted undirect graph를 봄\n",
    "- 표를 채우면서 품! 최단경로 구하기!! \n",
    "- stack 을 활용해서 최단경로 구하네!! \n",
    "\n"
   ]
  },
  {
   "cell_type": "code",
   "execution_count": null,
   "metadata": {
    "collapsed": true
   },
   "outputs": [],
   "source": [
    "# dijkstra's algorithm\n",
    "\"\"\"\n",
    "1. Assign to every node a distance value. Set it to zero for our initial node\n",
    "   and to infinity for all other nodes.\n",
    "2. Mark all nodes as unvisited. Set initial node as current.\n",
    "3. For current node, consider all its unvisited neighbors and calculate their\n",
    "   tentative distance (from the initial node). For example, if current node\n",
    "   (A) has distance of 6, and an edge connecting it with another node (B)\n",
    "   is 2, the distance to B through A will be 6+2=8. If this distance is less\n",
    "   than the previously recorded distance (infinity in the beginning, zero\n",
    "   for the initial node), overwrite the distance.\n",
    "4. When we are done considering all neighbors of the current node, mark it as\n",
    "   visited. A visited node will not be checked ever again; its distance\n",
    "   recorded now is final and minimal.\n",
    "5. If all nodes have been visited, finish. Otherwise, set the unvisited node\n",
    "   with the smallest distance (from the initial node) as the next \"current\n",
    "   node\" and continue from step 3.\n",
    " - source: wikipedia http://en.wikipedia.org/wiki/Dijkstra%27s_algorithm\n",
    "\"\"\"\n",
    "\n",
    "\n",
    "class Graph(object):\n",
    "    \"\"\"\n",
    "    A simple undirected, weighted graph\n",
    "    \"\"\"\n",
    "\n",
    "    def __init__(self):\n",
    "        self.nodes = set()\n",
    "        self.edges = {}\n",
    "        self.distances = {}\n",
    "        # Graph라는 녀석은 node와 edge와 distance를 가지고 있다!!!\n",
    "\n",
    "    def add_node(self, value):\n",
    "        self.nodes.add(value)\n",
    "        # node를 추가한다.\n",
    "\n",
    "    def add_edge(self, from_node, to_node, distance):\n",
    "        self._add_edge(from_node, to_node, distance)\n",
    "        self._add_edge(to_node, from_node, distance)\n",
    "        # 양방향 이기 때문에 edge를 2개 추가하지!! \n",
    "        # Ex) (1,2,7)(2,1,7)\n",
    "        \n",
    "    def _add_edge(self, from_node, to_node, distance):\n",
    "        self.edges.setdefault(from_node, [])\n",
    "        self.edges[from_node].append(to_node)\n",
    "        self.distances[(from_node, to_node)] = distance\n",
    "        # 한 번 edge를 추가할 때!! \n",
    "        # edge 초기값 잡아주고, edge는 dict 인데, Key로 자기자신 node / Value로 연결된 node들을 추가해 준다!!!\n",
    "        # distances라는 dict에 Key는 두 node를 적어주고, Value에 node간의 거리를 적어준다. \n",
    "\n",
    "\n",
    "def dijkstra(graph, initial_node):\n",
    "    visited = {initial_node: 0}\n",
    "    current_node = initial_node\n",
    "    path = {}\n",
    "\n",
    "    nodes = set(graph.nodes)\n",
    "\n",
    "    while nodes: # node가 있으면 계속\n",
    "        min_node = None\n",
    "        for node in nodes: # nodes에서 node를 하나씩 빼서\n",
    "            if node in visited: # node가 visited 안에 있으면, \n",
    "                # min_node가 None이면 또는 visited[node] < visited[min_node] 이면 \n",
    "                # node를 min_node로 잡아주고,\n",
    "                if min_node is None:\n",
    "                    min_node = node\n",
    "                elif visited[node] < visited[min_node]:\n",
    "                    min_node = node\n",
    "        # 만약 min_node 가 None면 while문 끝\n",
    "        if min_node is None:\n",
    "            break\n",
    "        \n",
    "        # nodes에서 min_node를 제거한다! \n",
    "        nodes.remove(min_node)\n",
    "        # cur_wt 를 visited[min_node] 로 한다!! \n",
    "        cur_wt = visited[min_node]\n",
    "\n",
    "        for edge in graph.edges[min_node]:\n",
    "            wt = cur_wt + graph.distances[(min_node, edge)]\n",
    "            if edge not in visited or wt < visited[edge]:\n",
    "                visited[edge] = wt\n",
    "                path[edge] = min_node\n",
    "\n",
    "    return visited, path # start에서 visited로 가려면 몇번 거쳐야 한다. \n",
    "\n",
    "\n",
    "def shortest_path(graph, initial_node, goal_node):\n",
    "    distances, paths = dijkstra(graph, initial_node)\n",
    "    route = [goal_node]\n",
    "\n",
    "    while goal_node != initial_node:\n",
    "        route.append(paths[goal_node])\n",
    "        goal_node = paths[goal_node]\n",
    "\n",
    "    route.reverse()\n",
    "    return route"
   ]
  },
  {
   "cell_type": "code",
   "execution_count": 7,
   "metadata": {
    "collapsed": false
   },
   "outputs": [
    {
     "name": "stdout",
     "output_type": "stream",
     "text": [
      "{1, 2, 3, 4}\n"
     ]
    }
   ],
   "source": [
    "g = Graph()\n",
    "g.nodes = set(range(1, 5))\n",
    "print(g.nodes)\n",
    "g.add_edge(1, 2, 1)\n",
    "g.add_edge(1, 3, 1)\n",
    "# g.add_edge(1, 4, 1)\n",
    "g.add_edge(2, 1, 1)\n",
    "g.add_edge(2, 3, 1)\n",
    "g.add_edge(2, 4, 1)\n",
    "g.add_edge(3, 1, 1)\n",
    "g.add_edge(3, 2, 1)\n",
    "g.add_edge(3, 4, 1)\n",
    "\n",
    "# g = Graph()\n",
    "# g.nodes = set(range(1, 7))\n",
    "# g.add_edge(1, 2, 7)\n",
    "# g.add_edge(1, 3, 9)\n",
    "# g.add_edge(1, 6, 14)\n",
    "# g.add_edge(2, 3, 10)\n",
    "# g.add_edge(2, 4, 15)\n",
    "# g.add_edge(3, 4, 11)\n",
    "# g.add_edge(3, 6, 2)\n",
    "# g.add_edge(4, 5, 6)\n",
    "# g.add_edge(5, 6, 9)"
   ]
  },
  {
   "cell_type": "raw",
   "metadata": {
    "collapsed": false
   },
   "source": [
    "assert shortest_path(g, 1, 5) == [1, 3, 6, 5]\n",
    "assert shortest_path(g, 5, 1) == [5, 6, 3, 1]\n",
    "assert shortest_path(g, 2, 5) == [2, 3, 6, 5]\n",
    "assert shortest_path(g, 1, 4) == [1, 3, 4]"
   ]
  },
  {
   "cell_type": "code",
   "execution_count": 8,
   "metadata": {
    "collapsed": false
   },
   "outputs": [
    {
     "data": {
      "text/plain": [
       "({1: 0, 2: 1, 3: 1, 4: 2}, {2: 1, 3: 1, 4: 2})"
      ]
     },
     "execution_count": 8,
     "metadata": {},
     "output_type": "execute_result"
    }
   ],
   "source": [
    "dijkstra(g, 1)"
   ]
  },
  {
   "cell_type": "code",
   "execution_count": 9,
   "metadata": {
    "collapsed": false
   },
   "outputs": [
    {
     "data": {
      "text/plain": [
       "[1, 2, 4]"
      ]
     },
     "execution_count": 9,
     "metadata": {},
     "output_type": "execute_result"
    }
   ],
   "source": [
    "shortest_path(g,1,4)"
   ]
  },
  {
   "cell_type": "code",
   "execution_count": null,
   "metadata": {
    "collapsed": true
   },
   "outputs": [],
   "source": []
  },
  {
   "cell_type": "code",
   "execution_count": null,
   "metadata": {
    "collapsed": true
   },
   "outputs": [],
   "source": []
  },
  {
   "cell_type": "code",
   "execution_count": null,
   "metadata": {
    "collapsed": true
   },
   "outputs": [],
   "source": []
  },
  {
   "cell_type": "code",
   "execution_count": 2,
   "metadata": {
    "collapsed": true
   },
   "outputs": [],
   "source": [
    "x = dict()"
   ]
  },
  {
   "cell_type": "code",
   "execution_count": 3,
   "metadata": {
    "collapsed": false
   },
   "outputs": [
    {
     "data": {
      "text/plain": [
       "{}"
      ]
     },
     "execution_count": 3,
     "metadata": {},
     "output_type": "execute_result"
    }
   ],
   "source": []
  },
  {
   "cell_type": "code",
   "execution_count": 5,
   "metadata": {
    "collapsed": false
   },
   "outputs": [],
   "source": [
    "visited = {1: 0}"
   ]
  },
  {
   "cell_type": "code",
   "execution_count": null,
   "metadata": {
    "collapsed": true
   },
   "outputs": [],
   "source": []
  },
  {
   "cell_type": "code",
   "execution_count": 6,
   "metadata": {
    "collapsed": false
   },
   "outputs": [
    {
     "data": {
      "text/plain": [
       "{1: 0}"
      ]
     },
     "execution_count": 6,
     "metadata": {},
     "output_type": "execute_result"
    }
   ],
   "source": [
    "visited"
   ]
  },
  {
   "cell_type": "code",
   "execution_count": null,
   "metadata": {
    "collapsed": true
   },
   "outputs": [],
   "source": []
  }
 ],
 "metadata": {
  "kernelspec": {
   "display_name": "Python 3",
   "language": "python",
   "name": "python3"
  },
  "language_info": {
   "codemirror_mode": {
    "name": "ipython",
    "version": 3
   },
   "file_extension": ".py",
   "mimetype": "text/x-python",
   "name": "python",
   "nbconvert_exporter": "python",
   "pygments_lexer": "ipython3",
   "version": "3.6.0"
  }
 },
 "nbformat": 4,
 "nbformat_minor": 2
}
