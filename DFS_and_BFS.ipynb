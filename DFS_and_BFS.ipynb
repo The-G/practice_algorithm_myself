{
 "cells": [
  {
   "cell_type": "markdown",
   "metadata": {},
   "source": [
    "# 그래프 기본 개념\n",
    "- 이럴때 graph라 부른다\n",
    "    - vertex와 edge가 있을 때\n",
    "    - edge가 방향성이 있을 때 Direct Graph라고 부른다. \n",
    "    - <=> Undirect Graph\n",
    "    - Weighted Graph\n",
    "- Vertex List\n",
    "    - node 값을 전부 넣어줌 IN array\n",
    "- Edge List\n",
    "    - edge 값을 전부 써준다. ex) [(0,1),(1,0),(1,3),(3,1),(1,2),(2,1)]\n",
    "- Adjacency List\n",
    "    - node에 연결된 모든 node를 적어준 list ex) [(1),(0,2,3),(1),(1,4),(5),(4)]\n",
    "    - 장점 : 공간 복잡도가 낮다. edge 개수만큼 공간이 필요하다.\n",
    "- Adjaceny matrix\n",
    "    - 정방 행렬로 연결되어 있으면 1, 없으면 0 을 채운다! \n",
    "    - 단점 : 공간 복잡도가 n^2 이다."
   ]
  },
  {
   "cell_type": "markdown",
   "metadata": {},
   "source": []
  },
  {
   "cell_type": "markdown",
   "metadata": {},
   "source": [
    "# DFS(Depth First Search)\n",
    "- 깊이 우선 탐색\n",
    "- 어디에 쓰이나\n",
    "    - 게임에서 많이 쓰임, 체스의 수를 탐색할 때 이기는 수를 찾기 위해서\n",
    "    - 그래프가 주어지고 그래프 안에 cycle이 있는 지 없는지 찾을 때"
   ]
  },
  {
   "cell_type": "markdown",
   "metadata": {},
   "source": [
    "- 1단계 : 각 노드를 stakck 에 넣고.\n",
    "- 2단계 : stack 에서 pop 해서 current에 넣어놓고,\n",
    "- 3단계 : current에 연결된 node들을 stack에 넣어준다. \n",
    "- 4단계 : stack에 다 넣으면, current 를 visited_array로 넣어준다, \n",
    "- 5단계 : 다시 stack에서 빼서, current에 넣고\n",
    "- 6단계 : current에 연결된 node를 stack에 넣어준다.\n",
    "- 반복"
   ]
  },
  {
   "cell_type": "code",
   "execution_count": 131,
   "metadata": {
    "collapsed": false
   },
   "outputs": [
    {
     "name": "stdout",
     "output_type": "stream",
     "text": [
      "['A', 'B', 'S', 'C', 'D', 'E', 'H', 'G', 'F']\n"
     ]
    }
   ],
   "source": [
    "graph1 = {\n",
    "    'A' : ['B','S'],\n",
    "    'B' : ['A'],\n",
    "    'C' : ['D','E','F','S'],\n",
    "    'D' : ['C'],\n",
    "    'E' : ['C','H'],\n",
    "    'F' : ['C','G'],\n",
    "    'G' : ['F','S'],\n",
    "    'H' : ['E','G'],\n",
    "    'S' : ['A','C','G']\n",
    "}\n",
    "\n",
    "def dfs(graph, node, visited):\n",
    "    if node not in visited: # node가 vistited에 없으면\n",
    "        visited.append(node) # visited 에 node 붙이기!\n",
    "        for n in graph[node]: # graph에서 하나씩 다 꺼냄!! \n",
    "            dfs(graph,n, visited) # 해당 node마다 dfs 적용시킴\n",
    "    return visited # array를 return 해줌!! \n",
    "\n",
    "visited = dfs(graph1,'A', [])\n",
    "print(visited)"
   ]
  },
  {
   "cell_type": "code",
   "execution_count": 132,
   "metadata": {
    "collapsed": false
   },
   "outputs": [
    {
     "name": "stdout",
     "output_type": "stream",
     "text": [
      "[0, 2, 5, 4, 6, 1, 3]\n"
     ]
    }
   ],
   "source": [
    "vertexList = ['0', '1', '2', '3', '4', '5', '6']\n",
    "edgeList = [(0,1), (0,2), (1,0) , (1,3) , (2,0) , (2,4) , (2,5) , (3,1), (4,2) , (4,6), (5,2), (6,4)]\n",
    "graphs = (vertexList, edgeList)\n",
    "\n",
    "def dfs(graph, start):\n",
    "    vertexList, edgeList = graph\n",
    "    visitedVertex = []\n",
    "    stack = [start]\n",
    "    adjacencyList = [[] for vertex in vertexList]\n",
    "\n",
    "    for edge in edgeList:\n",
    "        adjacencyList[edge[0]].append(edge[1])\n",
    "\n",
    "    while stack:\n",
    "        current = stack.pop()\n",
    "        for neighbor in adjacencyList[current]:\n",
    "            if not neighbor in visitedVertex:\n",
    "                stack.append(neighbor)\n",
    "        visitedVertex.append(current)\n",
    "    return visitedVertex\n",
    "\n",
    "print(dfs(graphs, 0))"
   ]
  },
  {
   "cell_type": "markdown",
   "metadata": {},
   "source": [
    "# BFS(Depth First Search)\n",
    "- 너비 우선 탐색\n",
    "    - 주로 어디?\n",
    "    - 최근접 경로를 구할때, shortest path를 구할때 dijkstra 알고리즘을 쓰는데, 이게바로 이 bfs를 활용한다. \n",
    "    - 페북에서 알 수 있는 친구"
   ]
  },
  {
   "cell_type": "markdown",
   "metadata": {},
   "source": [
    "- 1단계 : 첫번째 node 값을 queue에 집어 넣는다.\n",
    "- 2단계 : queue의 node값을 current에 넣는다.\n",
    "- 3단계 : current와 연결된 node 2개를 enqueue 해준다,\n",
    "- 4단계 : queue가 채워졌으니 current의 값을 visited로 옮겨준다.\n",
    "- 5단계 : queue의 값을 dequeue해서 current에 넣어준다,\n",
    "- 6단계 : current와 연결된 node를 queue에 넣어준다.\n",
    "- 7단계 : 이를 반복한다!! \n"
   ]
  },
  {
   "cell_type": "code",
   "execution_count": 137,
   "metadata": {
    "collapsed": false
   },
   "outputs": [
    {
     "name": "stdout",
     "output_type": "stream",
     "text": [
      "[0, 1, 2, 3, 6, 4, 5]\n"
     ]
    }
   ],
   "source": [
    "vertexList = ['A', 'B', 'C', 'D', 'E', 'F', 'G']\n",
    "edgeList = [(0,1), (1,2), (1,3), (3,4), (4,5), (1,6)]\n",
    "graphs = (vertexList, edgeList)\n",
    "\n",
    "def bfs(graph, start):\n",
    "    vertexList, edgeList = graph\n",
    "    visitedList = []\n",
    "    queue = [start]\n",
    "    adjacencyList = [[] for vertex in vertexList]\n",
    "\n",
    "    # fill adjacencyList from graph\n",
    "    for edge in edgeList:\n",
    "        adjacencyList[edge[0]].append(edge[1])\n",
    "\n",
    "    # bfs\n",
    "    while queue:\n",
    "        current = queue.pop()\n",
    "        for neighbor in adjacencyList[current]:\n",
    "            if not neighbor in visitedList:\n",
    "                queue.insert(0,neighbor)\n",
    "        visitedList.append(current)\n",
    "    return visitedList\n",
    "\n",
    "print(bfs(graphs, 0))\n"
   ]
  },
  {
   "cell_type": "code",
   "execution_count": 136,
   "metadata": {
    "collapsed": false
   },
   "outputs": [
    {
     "name": "stdout",
     "output_type": "stream",
     "text": [
      "['1', '4', '7', '11']\n"
     ]
    }
   ],
   "source": [
    "graph = {\n",
    "        '1': ['2', '3', '4'],\n",
    "        '2': ['5', '6'],\n",
    "        '5': ['9', '10'],\n",
    "        '4': ['7', '8'],\n",
    "        '7': ['11', '12']\n",
    "        }\n",
    "\n",
    "def backtrace(parent, start, end):\n",
    "    path = [end]\n",
    "    while path[-1] != start:\n",
    "        path.append(parent[path[-1]])\n",
    "    path.reverse()\n",
    "    return path\n",
    "\n",
    "\n",
    "def bfs(graph, start, end):\n",
    "    parent = {}\n",
    "    queue = []\n",
    "    queue.append(start)\n",
    "    while queue:\n",
    "        node = queue.pop(0)\n",
    "        if node == end:\n",
    "            return backtrace(parent, start, end)\n",
    "        for adjacent in graph.get(node, []):\n",
    "            parent[adjacent] = node # <<<<< record its parent \n",
    "            queue.append(adjacent)\n",
    "\n",
    "print(bfs(graph, '1', '11'))"
   ]
  },
  {
   "cell_type": "markdown",
   "metadata": {},
   "source": [
    "# Get shortest path using dijkstra"
   ]
  },
  {
   "cell_type": "markdown",
   "metadata": {},
   "source": [
    "- weighted undirect graph를 봄\n",
    "- 표를 채우면서 품! 최단경로 구하기!! \n",
    "- stack 을 활용해서 최단경로 구하네!! "
   ]
  },
  {
   "cell_type": "markdown",
   "metadata": {},
   "source": []
  }
 ],
 "metadata": {
  "kernelspec": {
   "display_name": "Python 3",
   "language": "python",
   "name": "python3"
  },
  "language_info": {
   "codemirror_mode": {
    "name": "ipython",
    "version": 3
   },
   "file_extension": ".py",
   "mimetype": "text/x-python",
   "name": "python",
   "nbconvert_exporter": "python",
   "pygments_lexer": "ipython3",
   "version": "3.6.0"
  }
 },
 "nbformat": 4,
 "nbformat_minor": 2
}
